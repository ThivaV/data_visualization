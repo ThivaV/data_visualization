{
 "cells": [
  {
   "cell_type": "code",
   "execution_count": 2,
   "metadata": {},
   "outputs": [
    {
     "name": "stdout",
     "output_type": "stream",
     "text": [
      "Collecting pandas-bokeh\n",
      "  Downloading pandas_bokeh-0.5.5-py2.py3-none-any.whl (29 kB)\n",
      "Requirement already satisfied: bokeh>=2.0 in c:\\programdata\\anaconda3\\lib\\site-packages (from pandas-bokeh) (2.3.2)\n",
      "Requirement already satisfied: pandas>=0.22.0 in c:\\programdata\\anaconda3\\lib\\site-packages (from pandas-bokeh) (1.2.4)\n",
      "Requirement already satisfied: pillow>=7.1.0 in c:\\programdata\\anaconda3\\lib\\site-packages (from bokeh>=2.0->pandas-bokeh) (8.2.0)\n",
      "Requirement already satisfied: python-dateutil>=2.1 in c:\\programdata\\anaconda3\\lib\\site-packages (from bokeh>=2.0->pandas-bokeh) (2.8.1)\n",
      "Requirement already satisfied: packaging>=16.8 in c:\\programdata\\anaconda3\\lib\\site-packages (from bokeh>=2.0->pandas-bokeh) (20.9)\n",
      "Requirement already satisfied: PyYAML>=3.10 in c:\\programdata\\anaconda3\\lib\\site-packages (from bokeh>=2.0->pandas-bokeh) (5.4.1)\n",
      "Requirement already satisfied: typing-extensions>=3.7.4 in c:\\programdata\\anaconda3\\lib\\site-packages (from bokeh>=2.0->pandas-bokeh) (3.7.4.3)\n",
      "Requirement already satisfied: numpy>=1.11.3 in c:\\programdata\\anaconda3\\lib\\site-packages (from bokeh>=2.0->pandas-bokeh) (1.20.1)\n",
      "Requirement already satisfied: tornado>=5.1 in c:\\programdata\\anaconda3\\lib\\site-packages (from bokeh>=2.0->pandas-bokeh) (6.1)\n",
      "Requirement already satisfied: Jinja2>=2.9 in c:\\programdata\\anaconda3\\lib\\site-packages (from bokeh>=2.0->pandas-bokeh) (2.11.3)\n",
      "Requirement already satisfied: MarkupSafe>=0.23 in c:\\programdata\\anaconda3\\lib\\site-packages (from Jinja2>=2.9->bokeh>=2.0->pandas-bokeh) (1.1.1)\n",
      "Requirement already satisfied: pyparsing>=2.0.2 in c:\\programdata\\anaconda3\\lib\\site-packages (from packaging>=16.8->bokeh>=2.0->pandas-bokeh) (2.4.7)\n",
      "Requirement already satisfied: pytz>=2017.3 in c:\\programdata\\anaconda3\\lib\\site-packages (from pandas>=0.22.0->pandas-bokeh) (2021.1)\n",
      "Requirement already satisfied: six>=1.5 in c:\\programdata\\anaconda3\\lib\\site-packages (from python-dateutil>=2.1->bokeh>=2.0->pandas-bokeh) (1.15.0)\n",
      "Installing collected packages: pandas-bokeh\n",
      "Successfully installed pandas-bokeh-0.5.5\n"
     ]
    }
   ],
   "source": [
    "!pip3 install pandas-bokeh"
   ]
  },
  {
   "cell_type": "code",
   "execution_count": 48,
   "metadata": {},
   "outputs": [
    {
     "data": {
      "text/html": [
       "\n",
       "    <div class=\"bk-root\">\n",
       "        <a href=\"https://bokeh.org\" target=\"_blank\" class=\"bk-logo bk-logo-small bk-logo-notebook\"></a>\n",
       "        <span id=\"2855\">Loading BokehJS ...</span>\n",
       "    </div>"
      ]
     },
     "metadata": {},
     "output_type": "display_data"
    },
    {
     "data": {
      "application/javascript": "\n(function(root) {\n  function now() {\n    return new Date();\n  }\n\n  var force = true;\n\n  if (typeof root._bokeh_onload_callbacks === \"undefined\" || force === true) {\n    root._bokeh_onload_callbacks = [];\n    root._bokeh_is_loading = undefined;\n  }\n\n  var JS_MIME_TYPE = 'application/javascript';\n  var HTML_MIME_TYPE = 'text/html';\n  var EXEC_MIME_TYPE = 'application/vnd.bokehjs_exec.v0+json';\n  var CLASS_NAME = 'output_bokeh rendered_html';\n\n  /**\n   * Render data to the DOM node\n   */\n  function render(props, node) {\n    var script = document.createElement(\"script\");\n    node.appendChild(script);\n  }\n\n  /**\n   * Handle when an output is cleared or removed\n   */\n  function handleClearOutput(event, handle) {\n    var cell = handle.cell;\n\n    var id = cell.output_area._bokeh_element_id;\n    var server_id = cell.output_area._bokeh_server_id;\n    // Clean up Bokeh references\n    if (id != null && id in Bokeh.index) {\n      Bokeh.index[id].model.document.clear();\n      delete Bokeh.index[id];\n    }\n\n    if (server_id !== undefined) {\n      // Clean up Bokeh references\n      var cmd = \"from bokeh.io.state import curstate; print(curstate().uuid_to_server['\" + server_id + \"'].get_sessions()[0].document.roots[0]._id)\";\n      cell.notebook.kernel.execute(cmd, {\n        iopub: {\n          output: function(msg) {\n            var id = msg.content.text.trim();\n            if (id in Bokeh.index) {\n              Bokeh.index[id].model.document.clear();\n              delete Bokeh.index[id];\n            }\n          }\n        }\n      });\n      // Destroy server and session\n      var cmd = \"import bokeh.io.notebook as ion; ion.destroy_server('\" + server_id + \"')\";\n      cell.notebook.kernel.execute(cmd);\n    }\n  }\n\n  /**\n   * Handle when a new output is added\n   */\n  function handleAddOutput(event, handle) {\n    var output_area = handle.output_area;\n    var output = handle.output;\n\n    // limit handleAddOutput to display_data with EXEC_MIME_TYPE content only\n    if ((output.output_type != \"display_data\") || (!Object.prototype.hasOwnProperty.call(output.data, EXEC_MIME_TYPE))) {\n      return\n    }\n\n    var toinsert = output_area.element.find(\".\" + CLASS_NAME.split(' ')[0]);\n\n    if (output.metadata[EXEC_MIME_TYPE][\"id\"] !== undefined) {\n      toinsert[toinsert.length - 1].firstChild.textContent = output.data[JS_MIME_TYPE];\n      // store reference to embed id on output_area\n      output_area._bokeh_element_id = output.metadata[EXEC_MIME_TYPE][\"id\"];\n    }\n    if (output.metadata[EXEC_MIME_TYPE][\"server_id\"] !== undefined) {\n      var bk_div = document.createElement(\"div\");\n      bk_div.innerHTML = output.data[HTML_MIME_TYPE];\n      var script_attrs = bk_div.children[0].attributes;\n      for (var i = 0; i < script_attrs.length; i++) {\n        toinsert[toinsert.length - 1].firstChild.setAttribute(script_attrs[i].name, script_attrs[i].value);\n        toinsert[toinsert.length - 1].firstChild.textContent = bk_div.children[0].textContent\n      }\n      // store reference to server id on output_area\n      output_area._bokeh_server_id = output.metadata[EXEC_MIME_TYPE][\"server_id\"];\n    }\n  }\n\n  function register_renderer(events, OutputArea) {\n\n    function append_mime(data, metadata, element) {\n      // create a DOM node to render to\n      var toinsert = this.create_output_subarea(\n        metadata,\n        CLASS_NAME,\n        EXEC_MIME_TYPE\n      );\n      this.keyboard_manager.register_events(toinsert);\n      // Render to node\n      var props = {data: data, metadata: metadata[EXEC_MIME_TYPE]};\n      render(props, toinsert[toinsert.length - 1]);\n      element.append(toinsert);\n      return toinsert\n    }\n\n    /* Handle when an output is cleared or removed */\n    events.on('clear_output.CodeCell', handleClearOutput);\n    events.on('delete.Cell', handleClearOutput);\n\n    /* Handle when a new output is added */\n    events.on('output_added.OutputArea', handleAddOutput);\n\n    /**\n     * Register the mime type and append_mime function with output_area\n     */\n    OutputArea.prototype.register_mime_type(EXEC_MIME_TYPE, append_mime, {\n      /* Is output safe? */\n      safe: true,\n      /* Index of renderer in `output_area.display_order` */\n      index: 0\n    });\n  }\n\n  // register the mime type if in Jupyter Notebook environment and previously unregistered\n  if (root.Jupyter !== undefined) {\n    var events = require('base/js/events');\n    var OutputArea = require('notebook/js/outputarea').OutputArea;\n\n    if (OutputArea.prototype.mime_types().indexOf(EXEC_MIME_TYPE) == -1) {\n      register_renderer(events, OutputArea);\n    }\n  }\n\n  \n  if (typeof (root._bokeh_timeout) === \"undefined\" || force === true) {\n    root._bokeh_timeout = Date.now() + 5000;\n    root._bokeh_failed_load = false;\n  }\n\n  var NB_LOAD_WARNING = {'data': {'text/html':\n     \"<div style='background-color: #fdd'>\\n\"+\n     \"<p>\\n\"+\n     \"BokehJS does not appear to have successfully loaded. If loading BokehJS from CDN, this \\n\"+\n     \"may be due to a slow or bad network connection. Possible fixes:\\n\"+\n     \"</p>\\n\"+\n     \"<ul>\\n\"+\n     \"<li>re-rerun `output_notebook()` to attempt to load from CDN again, or</li>\\n\"+\n     \"<li>use INLINE resources instead, as so:</li>\\n\"+\n     \"</ul>\\n\"+\n     \"<code>\\n\"+\n     \"from bokeh.resources import INLINE\\n\"+\n     \"output_notebook(resources=INLINE)\\n\"+\n     \"</code>\\n\"+\n     \"</div>\"}};\n\n  function display_loaded() {\n    var el = document.getElementById(\"2855\");\n    if (el != null) {\n      el.textContent = \"BokehJS is loading...\";\n    }\n    if (root.Bokeh !== undefined) {\n      if (el != null) {\n        el.textContent = \"BokehJS \" + root.Bokeh.version + \" successfully loaded.\";\n      }\n    } else if (Date.now() < root._bokeh_timeout) {\n      setTimeout(display_loaded, 100)\n    }\n  }\n\n\n  function run_callbacks() {\n    try {\n      root._bokeh_onload_callbacks.forEach(function(callback) {\n        if (callback != null)\n          callback();\n      });\n    } finally {\n      delete root._bokeh_onload_callbacks\n    }\n    console.debug(\"Bokeh: all callbacks have finished\");\n  }\n\n  function load_libs(css_urls, js_urls, callback) {\n    if (css_urls == null) css_urls = [];\n    if (js_urls == null) js_urls = [];\n\n    root._bokeh_onload_callbacks.push(callback);\n    if (root._bokeh_is_loading > 0) {\n      console.debug(\"Bokeh: BokehJS is being loaded, scheduling callback at\", now());\n      return null;\n    }\n    if (js_urls == null || js_urls.length === 0) {\n      run_callbacks();\n      return null;\n    }\n    console.debug(\"Bokeh: BokehJS not loaded, scheduling load and callback at\", now());\n    root._bokeh_is_loading = css_urls.length + js_urls.length;\n\n    function on_load() {\n      root._bokeh_is_loading--;\n      if (root._bokeh_is_loading === 0) {\n        console.debug(\"Bokeh: all BokehJS libraries/stylesheets loaded\");\n        run_callbacks()\n      }\n    }\n\n    function on_error(url) {\n      console.error(\"failed to load \" + url);\n    }\n\n    for (let i = 0; i < css_urls.length; i++) {\n      const url = css_urls[i];\n      const element = document.createElement(\"link\");\n      element.onload = on_load;\n      element.onerror = on_error.bind(null, url);\n      element.rel = \"stylesheet\";\n      element.type = \"text/css\";\n      element.href = url;\n      console.debug(\"Bokeh: injecting link tag for BokehJS stylesheet: \", url);\n      document.body.appendChild(element);\n    }\n\n    const hashes = {\"https://cdn.bokeh.org/bokeh/release/bokeh-2.3.2.min.js\": \"XypntL49z55iwGVUW4qsEu83zKL3XEcz0MjuGOQ9SlaaQ68X/g+k1FcioZi7oQAc\", \"https://cdn.bokeh.org/bokeh/release/bokeh-tables-2.3.2.min.js\": \"bEsM86IHGDTLCS0Zod8a8WM6Y4+lafAL/eSiyQcuPzinmWNgNO2/olUF0Z2Dkn5i\", \"https://cdn.bokeh.org/bokeh/release/bokeh-widgets-2.3.2.min.js\": \"TX0gSQTdXTTeScqxj6PVQxTiRW8DOoGVwinyi1D3kxv7wuxQ02XkOxv0xwiypcAH\"};\n\n    for (let i = 0; i < js_urls.length; i++) {\n      const url = js_urls[i];\n      const element = document.createElement('script');\n      element.onload = on_load;\n      element.onerror = on_error.bind(null, url);\n      element.async = false;\n      element.src = url;\n      if (url in hashes) {\n        element.crossOrigin = \"anonymous\";\n        element.integrity = \"sha384-\" + hashes[url];\n      }\n      console.debug(\"Bokeh: injecting script tag for BokehJS library: \", url);\n      document.head.appendChild(element);\n    }\n  };\n\n  function inject_raw_css(css) {\n    const element = document.createElement(\"style\");\n    element.appendChild(document.createTextNode(css));\n    document.body.appendChild(element);\n  }\n\n  \n  var js_urls = [\"https://cdn.bokeh.org/bokeh/release/bokeh-2.3.2.min.js\", \"https://cdn.bokeh.org/bokeh/release/bokeh-widgets-2.3.2.min.js\", \"https://cdn.bokeh.org/bokeh/release/bokeh-tables-2.3.2.min.js\"];\n  var css_urls = [];\n  \n\n  var inline_js = [\n    function(Bokeh) {\n      Bokeh.set_log_level(\"info\");\n    },\n    function(Bokeh) {\n    \n    \n    }\n  ];\n\n  function run_inline_js() {\n    \n    if (root.Bokeh !== undefined || force === true) {\n      \n    for (var i = 0; i < inline_js.length; i++) {\n      inline_js[i].call(root, root.Bokeh);\n    }\n    if (force === true) {\n        display_loaded();\n      }} else if (Date.now() < root._bokeh_timeout) {\n      setTimeout(run_inline_js, 100);\n    } else if (!root._bokeh_failed_load) {\n      console.log(\"Bokeh: BokehJS failed to load within specified timeout.\");\n      root._bokeh_failed_load = true;\n    } else if (force !== true) {\n      var cell = $(document.getElementById(\"2855\")).parents('.cell').data().cell;\n      cell.output_area.append_execute_result(NB_LOAD_WARNING)\n    }\n\n  }\n\n  if (root._bokeh_is_loading === 0) {\n    console.debug(\"Bokeh: BokehJS loaded, going straight to plotting\");\n    run_inline_js();\n  } else {\n    load_libs(css_urls, js_urls, function() {\n      console.debug(\"Bokeh: BokehJS plotting callback run at\", now());\n      run_inline_js();\n    });\n  }\n}(window));",
      "application/vnd.bokehjs_load.v0+json": ""
     },
     "metadata": {},
     "output_type": "display_data"
    }
   ],
   "source": [
    "import pandas as pd\n",
    "import pandas_bokeh\n",
    "from math import pi\n",
    "from bokeh.io import output_notebook, output_file, show\n",
    "from bokeh.plotting import figure\n",
    "from bokeh.transform import cumsum\n",
    "from bokeh.models import ColumnarDataSource\n",
    "from bokeh.plotting import figure, output_file, show\n",
    "from bokeh.layouts import column, grid\n",
    "import glob\n",
    "pandas_bokeh.output_notebook()\n",
    "pd.set_option('plotting.backend', 'pandas_bokeh')"
   ]
  },
  {
   "cell_type": "markdown",
   "metadata": {},
   "source": [
    "### Scatter Plot"
   ]
  },
  {
   "cell_type": "code",
   "execution_count": 5,
   "metadata": {},
   "outputs": [
    {
     "data": {
      "text/html": [
       "\n",
       "\n",
       "\n",
       "\n",
       "\n",
       "\n",
       "  <div class=\"bk-root\" id=\"09808893-0a0f-47d0-905b-205609827dca\" data-root-id=\"1071\"></div>\n"
      ]
     },
     "metadata": {},
     "output_type": "display_data"
    },
    {
     "data": {
      "application/javascript": "(function(root) {\n  function embed_document(root) {\n    \n  var docs_json = {\"5b1565ca-60a4-46eb-9c90-81094a3beace\":{\"defs\":[],\"roots\":{\"references\":[{\"attributes\":{\"below\":[{\"id\":\"1080\"}],\"center\":[{\"id\":\"1083\"},{\"id\":\"1087\"}],\"height\":400,\"left\":[{\"id\":\"1084\"}],\"renderers\":[{\"id\":\"1105\"}],\"title\":{\"id\":\"1108\"},\"toolbar\":{\"id\":\"1095\"},\"width\":400,\"x_range\":{\"id\":\"1072\"},\"x_scale\":{\"id\":\"1076\"},\"y_range\":{\"id\":\"1074\"},\"y_scale\":{\"id\":\"1078\"}},\"id\":\"1071\",\"subtype\":\"Figure\",\"type\":\"Plot\"},{\"attributes\":{},\"id\":\"1091\",\"type\":\"SaveTool\"},{\"attributes\":{},\"id\":\"1092\",\"type\":\"ResetTool\"},{\"attributes\":{},\"id\":\"1088\",\"type\":\"PanTool\"},{\"attributes\":{\"fill_alpha\":{\"value\":0.1},\"fill_color\":{\"value\":\"navy\"},\"line_alpha\":{\"value\":0.1},\"line_color\":{\"value\":\"navy\"},\"size\":{\"value\":10},\"x\":{\"field\":\"x\"},\"y\":{\"field\":\"y\"}},\"id\":\"1104\",\"type\":\"Circle\"},{\"attributes\":{\"data\":{\"x\":[1,2,3,4,5],\"y\":[4,7,1,6,3]},\"selected\":{\"id\":\"1116\"},\"selection_policy\":{\"id\":\"1115\"}},\"id\":\"1102\",\"type\":\"ColumnDataSource\"},{\"attributes\":{\"fill_alpha\":{\"value\":0.5},\"fill_color\":{\"value\":\"navy\"},\"line_alpha\":{\"value\":0.5},\"line_color\":{\"value\":\"navy\"},\"size\":{\"value\":10},\"x\":{\"field\":\"x\"},\"y\":{\"field\":\"y\"}},\"id\":\"1103\",\"type\":\"Circle\"},{\"attributes\":{\"formatter\":{\"id\":\"1111\"},\"major_label_policy\":{\"id\":\"1109\"},\"ticker\":{\"id\":\"1081\"}},\"id\":\"1080\",\"type\":\"LinearAxis\"},{\"attributes\":{\"active_multi\":null,\"tools\":[{\"id\":\"1088\"},{\"id\":\"1089\"},{\"id\":\"1090\"},{\"id\":\"1091\"},{\"id\":\"1092\"},{\"id\":\"1093\"}]},\"id\":\"1095\",\"type\":\"Toolbar\"},{\"attributes\":{},\"id\":\"1109\",\"type\":\"AllLabels\"},{\"attributes\":{},\"id\":\"1093\",\"type\":\"HelpTool\"},{\"attributes\":{},\"id\":\"1111\",\"type\":\"BasicTickFormatter\"},{\"attributes\":{},\"id\":\"1115\",\"type\":\"UnionRenderers\"},{\"attributes\":{},\"id\":\"1116\",\"type\":\"Selection\"},{\"attributes\":{\"axis\":{\"id\":\"1080\"},\"ticker\":null},\"id\":\"1083\",\"type\":\"Grid\"},{\"attributes\":{},\"id\":\"1081\",\"type\":\"BasicTicker\"},{\"attributes\":{},\"id\":\"1076\",\"type\":\"LinearScale\"},{\"attributes\":{\"bottom_units\":\"screen\",\"fill_alpha\":0.5,\"fill_color\":\"lightgrey\",\"left_units\":\"screen\",\"level\":\"overlay\",\"line_alpha\":1.0,\"line_color\":\"black\",\"line_dash\":[4,4],\"line_width\":2,\"right_units\":\"screen\",\"syncable\":false,\"top_units\":\"screen\"},\"id\":\"1094\",\"type\":\"BoxAnnotation\"},{\"attributes\":{\"formatter\":{\"id\":\"1114\"},\"major_label_policy\":{\"id\":\"1112\"},\"ticker\":{\"id\":\"1085\"}},\"id\":\"1084\",\"type\":\"LinearAxis\"},{\"attributes\":{},\"id\":\"1085\",\"type\":\"BasicTicker\"},{\"attributes\":{\"axis\":{\"id\":\"1084\"},\"dimension\":1,\"ticker\":null},\"id\":\"1087\",\"type\":\"Grid\"},{\"attributes\":{\"overlay\":{\"id\":\"1094\"}},\"id\":\"1090\",\"type\":\"BoxZoomTool\"},{\"attributes\":{},\"id\":\"1112\",\"type\":\"AllLabels\"},{\"attributes\":{},\"id\":\"1089\",\"type\":\"WheelZoomTool\"},{\"attributes\":{\"source\":{\"id\":\"1102\"}},\"id\":\"1106\",\"type\":\"CDSView\"},{\"attributes\":{},\"id\":\"1114\",\"type\":\"BasicTickFormatter\"},{\"attributes\":{},\"id\":\"1078\",\"type\":\"LinearScale\"},{\"attributes\":{},\"id\":\"1108\",\"type\":\"Title\"},{\"attributes\":{},\"id\":\"1072\",\"type\":\"DataRange1d\"},{\"attributes\":{\"data_source\":{\"id\":\"1102\"},\"glyph\":{\"id\":\"1103\"},\"hover_glyph\":null,\"muted_glyph\":null,\"nonselection_glyph\":{\"id\":\"1104\"},\"view\":{\"id\":\"1106\"}},\"id\":\"1105\",\"type\":\"GlyphRenderer\"},{\"attributes\":{},\"id\":\"1074\",\"type\":\"DataRange1d\"}],\"root_ids\":[\"1071\"]},\"title\":\"Bokeh Application\",\"version\":\"2.3.2\"}};\n  var render_items = [{\"docid\":\"5b1565ca-60a4-46eb-9c90-81094a3beace\",\"root_ids\":[\"1071\"],\"roots\":{\"1071\":\"09808893-0a0f-47d0-905b-205609827dca\"}}];\n  root.Bokeh.embed.embed_items_notebook(docs_json, render_items);\n\n  }\n  if (root.Bokeh !== undefined) {\n    embed_document(root);\n  } else {\n    var attempts = 0;\n    var timer = setInterval(function(root) {\n      if (root.Bokeh !== undefined) {\n        clearInterval(timer);\n        embed_document(root);\n      } else {\n        attempts++;\n        if (attempts > 100) {\n          clearInterval(timer);\n          console.log(\"Bokeh: ERROR: Unable to run BokehJS code because BokehJS library is missing\");\n        }\n      }\n    }, 10, root)\n  }\n})(window);",
      "application/vnd.bokehjs_exec.v0+json": ""
     },
     "metadata": {
      "application/vnd.bokehjs_exec.v0+json": {
       "id": "1071"
      }
     },
     "output_type": "display_data"
    }
   ],
   "source": [
    "p = figure(plot_width = 400, plot_height = 400)\n",
    "p.circle([1, 2, 3, 4, 5], [4, 7, 1, 6, 3], size=10, color='navy', alpha=0.5)\n",
    "show(p)"
   ]
  },
  {
   "cell_type": "markdown",
   "metadata": {},
   "source": [
    "### Line Plot"
   ]
  },
  {
   "cell_type": "code",
   "execution_count": 6,
   "metadata": {},
   "outputs": [
    {
     "data": {
      "text/html": [
       "\n",
       "\n",
       "\n",
       "\n",
       "\n",
       "\n",
       "  <div class=\"bk-root\" id=\"b5c19a60-9ada-4443-998e-52dfdfa8fd85\" data-root-id=\"1173\"></div>\n"
      ]
     },
     "metadata": {},
     "output_type": "display_data"
    },
    {
     "data": {
      "application/javascript": "(function(root) {\n  function embed_document(root) {\n    \n  var docs_json = {\"80686d06-cd75-41f9-bc61-0d91ac7aaf53\":{\"defs\":[],\"roots\":{\"references\":[{\"attributes\":{\"below\":[{\"id\":\"1182\"}],\"center\":[{\"id\":\"1185\"},{\"id\":\"1189\"}],\"height\":400,\"left\":[{\"id\":\"1186\"}],\"renderers\":[{\"id\":\"1207\"}],\"title\":{\"id\":\"1221\"},\"toolbar\":{\"id\":\"1197\"},\"width\":400,\"x_range\":{\"id\":\"1174\"},\"x_scale\":{\"id\":\"1178\"},\"y_range\":{\"id\":\"1176\"},\"y_scale\":{\"id\":\"1180\"}},\"id\":\"1173\",\"subtype\":\"Figure\",\"type\":\"Plot\"},{\"attributes\":{\"axis\":{\"id\":\"1186\"},\"dimension\":1,\"ticker\":null},\"id\":\"1189\",\"type\":\"Grid\"},{\"attributes\":{},\"id\":\"1187\",\"type\":\"BasicTicker\"},{\"attributes\":{},\"id\":\"1222\",\"type\":\"AllLabels\"},{\"attributes\":{},\"id\":\"1191\",\"type\":\"WheelZoomTool\"},{\"attributes\":{},\"id\":\"1224\",\"type\":\"BasicTickFormatter\"},{\"attributes\":{},\"id\":\"1190\",\"type\":\"PanTool\"},{\"attributes\":{},\"id\":\"1176\",\"type\":\"DataRange1d\"},{\"attributes\":{\"data\":{\"x\":[1,2,3,4,5],\"y\":[3,1,2,6,5]},\"selected\":{\"id\":\"1229\"},\"selection_policy\":{\"id\":\"1228\"}},\"id\":\"1204\",\"type\":\"ColumnDataSource\"},{\"attributes\":{\"overlay\":{\"id\":\"1196\"}},\"id\":\"1192\",\"type\":\"BoxZoomTool\"},{\"attributes\":{\"data_source\":{\"id\":\"1204\"},\"glyph\":{\"id\":\"1205\"},\"hover_glyph\":null,\"muted_glyph\":null,\"nonselection_glyph\":{\"id\":\"1206\"},\"view\":{\"id\":\"1208\"}},\"id\":\"1207\",\"type\":\"GlyphRenderer\"},{\"attributes\":{},\"id\":\"1193\",\"type\":\"SaveTool\"},{\"attributes\":{\"line_color\":\"green\",\"line_width\":2,\"x\":{\"field\":\"x\"},\"y\":{\"field\":\"y\"}},\"id\":\"1205\",\"type\":\"Line\"},{\"attributes\":{},\"id\":\"1194\",\"type\":\"ResetTool\"},{\"attributes\":{},\"id\":\"1228\",\"type\":\"UnionRenderers\"},{\"attributes\":{},\"id\":\"1229\",\"type\":\"Selection\"},{\"attributes\":{\"source\":{\"id\":\"1204\"}},\"id\":\"1208\",\"type\":\"CDSView\"},{\"attributes\":{\"line_alpha\":0.1,\"line_color\":\"green\",\"line_width\":2,\"x\":{\"field\":\"x\"},\"y\":{\"field\":\"y\"}},\"id\":\"1206\",\"type\":\"Line\"},{\"attributes\":{\"formatter\":{\"id\":\"1227\"},\"major_label_policy\":{\"id\":\"1225\"},\"ticker\":{\"id\":\"1187\"}},\"id\":\"1186\",\"type\":\"LinearAxis\"},{\"attributes\":{},\"id\":\"1221\",\"type\":\"Title\"},{\"attributes\":{},\"id\":\"1195\",\"type\":\"HelpTool\"},{\"attributes\":{},\"id\":\"1225\",\"type\":\"AllLabels\"},{\"attributes\":{},\"id\":\"1227\",\"type\":\"BasicTickFormatter\"},{\"attributes\":{},\"id\":\"1174\",\"type\":\"DataRange1d\"},{\"attributes\":{\"active_multi\":null,\"tools\":[{\"id\":\"1190\"},{\"id\":\"1191\"},{\"id\":\"1192\"},{\"id\":\"1193\"},{\"id\":\"1194\"},{\"id\":\"1195\"}]},\"id\":\"1197\",\"type\":\"Toolbar\"},{\"attributes\":{\"bottom_units\":\"screen\",\"fill_alpha\":0.5,\"fill_color\":\"lightgrey\",\"left_units\":\"screen\",\"level\":\"overlay\",\"line_alpha\":1.0,\"line_color\":\"black\",\"line_dash\":[4,4],\"line_width\":2,\"right_units\":\"screen\",\"syncable\":false,\"top_units\":\"screen\"},\"id\":\"1196\",\"type\":\"BoxAnnotation\"},{\"attributes\":{},\"id\":\"1183\",\"type\":\"BasicTicker\"},{\"attributes\":{\"axis\":{\"id\":\"1182\"},\"ticker\":null},\"id\":\"1185\",\"type\":\"Grid\"},{\"attributes\":{\"formatter\":{\"id\":\"1224\"},\"major_label_policy\":{\"id\":\"1222\"},\"ticker\":{\"id\":\"1183\"}},\"id\":\"1182\",\"type\":\"LinearAxis\"},{\"attributes\":{},\"id\":\"1178\",\"type\":\"LinearScale\"},{\"attributes\":{},\"id\":\"1180\",\"type\":\"LinearScale\"}],\"root_ids\":[\"1173\"]},\"title\":\"Bokeh Application\",\"version\":\"2.3.2\"}};\n  var render_items = [{\"docid\":\"80686d06-cd75-41f9-bc61-0d91ac7aaf53\",\"root_ids\":[\"1173\"],\"roots\":{\"1173\":\"b5c19a60-9ada-4443-998e-52dfdfa8fd85\"}}];\n  root.Bokeh.embed.embed_items_notebook(docs_json, render_items);\n\n  }\n  if (root.Bokeh !== undefined) {\n    embed_document(root);\n  } else {\n    var attempts = 0;\n    var timer = setInterval(function(root) {\n      if (root.Bokeh !== undefined) {\n        clearInterval(timer);\n        embed_document(root);\n      } else {\n        attempts++;\n        if (attempts > 100) {\n          clearInterval(timer);\n          console.log(\"Bokeh: ERROR: Unable to run BokehJS code because BokehJS library is missing\");\n        }\n      }\n    }, 10, root)\n  }\n})(window);",
      "application/vnd.bokehjs_exec.v0+json": ""
     },
     "metadata": {
      "application/vnd.bokehjs_exec.v0+json": {
       "id": "1173"
      }
     },
     "output_type": "display_data"
    }
   ],
   "source": [
    "p = figure(plot_width = 400, plot_height = 400)\n",
    "p.line([1, 2, 3, 4, 5], [3, 1, 2, 6, 5], line_width=2, color='green')\n",
    "show(p)"
   ]
  },
  {
   "cell_type": "code",
   "execution_count": 7,
   "metadata": {},
   "outputs": [
    {
     "data": {
      "text/html": [
       "<div>\n",
       "<style scoped>\n",
       "    .dataframe tbody tr th:only-of-type {\n",
       "        vertical-align: middle;\n",
       "    }\n",
       "\n",
       "    .dataframe tbody tr th {\n",
       "        vertical-align: top;\n",
       "    }\n",
       "\n",
       "    .dataframe thead th {\n",
       "        text-align: right;\n",
       "    }\n",
       "</style>\n",
       "<table border=\"1\" class=\"dataframe\">\n",
       "  <thead>\n",
       "    <tr style=\"text-align: right;\">\n",
       "      <th></th>\n",
       "      <th>Game Completed Date</th>\n",
       "      <th>Team</th>\n",
       "      <th>Outcome</th>\n",
       "      <th>Task Completed</th>\n",
       "      <th>All Tasks Completed</th>\n",
       "      <th>Murdered</th>\n",
       "      <th>Imposter Kills</th>\n",
       "      <th>Game Length</th>\n",
       "      <th>Ejected</th>\n",
       "      <th>Sabotages Fixed</th>\n",
       "      <th>Time to complete all tasks</th>\n",
       "      <th>Rank Change</th>\n",
       "      <th>Region/Game Code</th>\n",
       "      <th>User ID</th>\n",
       "    </tr>\n",
       "  </thead>\n",
       "  <tbody>\n",
       "    <tr>\n",
       "      <th>0</th>\n",
       "      <td>12/13/2020 at 1:26:56 am EST</td>\n",
       "      <td>Crewmate</td>\n",
       "      <td>Win</td>\n",
       "      <td>3</td>\n",
       "      <td>No</td>\n",
       "      <td>Yes</td>\n",
       "      <td>-</td>\n",
       "      <td>07m 04s</td>\n",
       "      <td>No</td>\n",
       "      <td>2.0</td>\n",
       "      <td>-</td>\n",
       "      <td>++</td>\n",
       "      <td>NA / WYMSBF</td>\n",
       "      <td>1</td>\n",
       "    </tr>\n",
       "    <tr>\n",
       "      <th>1</th>\n",
       "      <td>12/13/2020 at 1:17:42 am EST</td>\n",
       "      <td>Crewmate</td>\n",
       "      <td>Loss</td>\n",
       "      <td>7</td>\n",
       "      <td>Yes</td>\n",
       "      <td>No</td>\n",
       "      <td>-</td>\n",
       "      <td>16m 21s</td>\n",
       "      <td>No</td>\n",
       "      <td>1.0</td>\n",
       "      <td>09m 48s</td>\n",
       "      <td>--</td>\n",
       "      <td>NA / WYMSBF</td>\n",
       "      <td>1</td>\n",
       "    </tr>\n",
       "    <tr>\n",
       "      <th>2</th>\n",
       "      <td>12/13/2020 at 12:57:47 am EST</td>\n",
       "      <td>Crewmate</td>\n",
       "      <td>Win</td>\n",
       "      <td>3</td>\n",
       "      <td>No</td>\n",
       "      <td>No</td>\n",
       "      <td>-</td>\n",
       "      <td>11m 33s</td>\n",
       "      <td>No</td>\n",
       "      <td>0.0</td>\n",
       "      <td>-</td>\n",
       "      <td>++</td>\n",
       "      <td>NA / WYMSBF</td>\n",
       "      <td>1</td>\n",
       "    </tr>\n",
       "    <tr>\n",
       "      <th>3</th>\n",
       "      <td>12/13/2020 at 12:41:55 am EST</td>\n",
       "      <td>Imposter</td>\n",
       "      <td>Win</td>\n",
       "      <td>-</td>\n",
       "      <td>-</td>\n",
       "      <td>-</td>\n",
       "      <td>2</td>\n",
       "      <td>08m 05s</td>\n",
       "      <td>No</td>\n",
       "      <td>NaN</td>\n",
       "      <td>-</td>\n",
       "      <td>+++</td>\n",
       "      <td>Europe / QIRTNF</td>\n",
       "      <td>1</td>\n",
       "    </tr>\n",
       "    <tr>\n",
       "      <th>4</th>\n",
       "      <td>12/13/2020 at 12:30:37 am EST</td>\n",
       "      <td>Crewmate</td>\n",
       "      <td>Loss</td>\n",
       "      <td>4</td>\n",
       "      <td>No</td>\n",
       "      <td>No</td>\n",
       "      <td>-</td>\n",
       "      <td>05m 10s</td>\n",
       "      <td>No</td>\n",
       "      <td>0.0</td>\n",
       "      <td>-</td>\n",
       "      <td>---</td>\n",
       "      <td>Europe / QIRTNF</td>\n",
       "      <td>1</td>\n",
       "    </tr>\n",
       "    <tr>\n",
       "      <th>...</th>\n",
       "      <td>...</td>\n",
       "      <td>...</td>\n",
       "      <td>...</td>\n",
       "      <td>...</td>\n",
       "      <td>...</td>\n",
       "      <td>...</td>\n",
       "      <td>...</td>\n",
       "      <td>...</td>\n",
       "      <td>...</td>\n",
       "      <td>...</td>\n",
       "      <td>...</td>\n",
       "      <td>...</td>\n",
       "      <td>...</td>\n",
       "      <td>...</td>\n",
       "    </tr>\n",
       "    <tr>\n",
       "      <th>2222</th>\n",
       "      <td>11/28/2020 at 12:57:06 pm EST</td>\n",
       "      <td>Imposter</td>\n",
       "      <td>Loss</td>\n",
       "      <td>-</td>\n",
       "      <td>-</td>\n",
       "      <td>-</td>\n",
       "      <td>2</td>\n",
       "      <td>11m 02s</td>\n",
       "      <td>No</td>\n",
       "      <td>NaN</td>\n",
       "      <td>-</td>\n",
       "      <td>-</td>\n",
       "      <td>Europe / DJCWJF</td>\n",
       "      <td>29</td>\n",
       "    </tr>\n",
       "    <tr>\n",
       "      <th>2223</th>\n",
       "      <td>11/28/2020 at 12:43:36 pm EST</td>\n",
       "      <td>Crewmate</td>\n",
       "      <td>Loss</td>\n",
       "      <td>7</td>\n",
       "      <td>Yes</td>\n",
       "      <td>Yes</td>\n",
       "      <td>-</td>\n",
       "      <td>06m 56s</td>\n",
       "      <td>No</td>\n",
       "      <td>0.0</td>\n",
       "      <td>04m 09s</td>\n",
       "      <td>--</td>\n",
       "      <td>Europe / DJCWJF</td>\n",
       "      <td>29</td>\n",
       "    </tr>\n",
       "    <tr>\n",
       "      <th>2224</th>\n",
       "      <td>11/28/2020 at 12:32:44 pm EST</td>\n",
       "      <td>Crewmate</td>\n",
       "      <td>Win</td>\n",
       "      <td>7</td>\n",
       "      <td>Yes</td>\n",
       "      <td>Yes</td>\n",
       "      <td>-</td>\n",
       "      <td>22m 06s</td>\n",
       "      <td>No</td>\n",
       "      <td>0.0</td>\n",
       "      <td>06m 31s</td>\n",
       "      <td>++</td>\n",
       "      <td>Europe / DJCWJF</td>\n",
       "      <td>29</td>\n",
       "    </tr>\n",
       "    <tr>\n",
       "      <th>2225</th>\n",
       "      <td>11/28/2020 at 12:09:02 pm EST</td>\n",
       "      <td>Crewmate</td>\n",
       "      <td>Loss</td>\n",
       "      <td>7</td>\n",
       "      <td>Yes</td>\n",
       "      <td>No</td>\n",
       "      <td>-</td>\n",
       "      <td>13m 41s</td>\n",
       "      <td>No</td>\n",
       "      <td>0.0</td>\n",
       "      <td>06m 06s</td>\n",
       "      <td>--</td>\n",
       "      <td>Europe / DJCWJF</td>\n",
       "      <td>29</td>\n",
       "    </tr>\n",
       "    <tr>\n",
       "      <th>2226</th>\n",
       "      <td>11/27/2020 at 9:52:37 pm EST</td>\n",
       "      <td>Crewmate</td>\n",
       "      <td>Loss</td>\n",
       "      <td>8</td>\n",
       "      <td>Yes</td>\n",
       "      <td>Yes</td>\n",
       "      <td>-</td>\n",
       "      <td>13m 27s</td>\n",
       "      <td>No</td>\n",
       "      <td>0.0</td>\n",
       "      <td>05m 37s</td>\n",
       "      <td>--</td>\n",
       "      <td>Europe / ILAEVF</td>\n",
       "      <td>29</td>\n",
       "    </tr>\n",
       "  </tbody>\n",
       "</table>\n",
       "<p>2227 rows × 14 columns</p>\n",
       "</div>"
      ],
      "text/plain": [
       "                Game Completed Date      Team Outcome Task Completed  \\\n",
       "0      12/13/2020 at 1:26:56 am EST  Crewmate     Win              3   \n",
       "1      12/13/2020 at 1:17:42 am EST  Crewmate    Loss              7   \n",
       "2     12/13/2020 at 12:57:47 am EST  Crewmate     Win              3   \n",
       "3     12/13/2020 at 12:41:55 am EST  Imposter     Win              -   \n",
       "4     12/13/2020 at 12:30:37 am EST  Crewmate    Loss              4   \n",
       "...                             ...       ...     ...            ...   \n",
       "2222  11/28/2020 at 12:57:06 pm EST  Imposter    Loss              -   \n",
       "2223  11/28/2020 at 12:43:36 pm EST  Crewmate    Loss              7   \n",
       "2224  11/28/2020 at 12:32:44 pm EST  Crewmate     Win              7   \n",
       "2225  11/28/2020 at 12:09:02 pm EST  Crewmate    Loss              7   \n",
       "2226   11/27/2020 at 9:52:37 pm EST  Crewmate    Loss              8   \n",
       "\n",
       "     All Tasks Completed Murdered Imposter Kills Game Length Ejected  \\\n",
       "0                     No      Yes              -     07m 04s      No   \n",
       "1                    Yes       No              -     16m 21s      No   \n",
       "2                     No       No              -     11m 33s      No   \n",
       "3                      -        -              2     08m 05s      No   \n",
       "4                     No       No              -     05m 10s      No   \n",
       "...                  ...      ...            ...         ...     ...   \n",
       "2222                   -        -              2     11m 02s      No   \n",
       "2223                 Yes      Yes              -     06m 56s      No   \n",
       "2224                 Yes      Yes              -     22m 06s      No   \n",
       "2225                 Yes       No              -     13m 41s      No   \n",
       "2226                 Yes      Yes              -     13m 27s      No   \n",
       "\n",
       "      Sabotages Fixed Time to complete all tasks Rank Change Region/Game Code  \\\n",
       "0                 2.0                          -          ++      NA / WYMSBF   \n",
       "1                 1.0                    09m 48s          --      NA / WYMSBF   \n",
       "2                 0.0                          -          ++      NA / WYMSBF   \n",
       "3                 NaN                          -         +++  Europe / QIRTNF   \n",
       "4                 0.0                          -         ---  Europe / QIRTNF   \n",
       "...               ...                        ...         ...              ...   \n",
       "2222              NaN                          -           -  Europe / DJCWJF   \n",
       "2223              0.0                    04m 09s          --  Europe / DJCWJF   \n",
       "2224              0.0                    06m 31s          ++  Europe / DJCWJF   \n",
       "2225              0.0                    06m 06s          --  Europe / DJCWJF   \n",
       "2226              0.0                    05m 37s          --  Europe / ILAEVF   \n",
       "\n",
       "      User ID  \n",
       "0           1  \n",
       "1           1  \n",
       "2           1  \n",
       "3           1  \n",
       "4           1  \n",
       "...       ...  \n",
       "2222       29  \n",
       "2223       29  \n",
       "2224       29  \n",
       "2225       29  \n",
       "2226       29  \n",
       "\n",
       "[2227 rows x 14 columns]"
      ]
     },
     "execution_count": 7,
     "metadata": {},
     "output_type": "execute_result"
    }
   ],
   "source": [
    "# importing data\n",
    "path = r'./data/among us'\n",
    "all_files = glob.glob(path + '/*.csv')\n",
    "li = []\n",
    "usr = 0\n",
    "for file_name in all_files:\n",
    "    usr+=1\n",
    "    df = pd.read_csv(file_name, index_col=None, header=0)\n",
    "    df['User ID'] = usr\n",
    "    li.append(df)\n",
    "df = pd.concat(li, axis=0, ignore_index=True)\n",
    "df"
   ]
  },
  {
   "cell_type": "code",
   "execution_count": 8,
   "metadata": {},
   "outputs": [
    {
     "data": {
      "text/html": [
       "<div>\n",
       "<style scoped>\n",
       "    .dataframe tbody tr th:only-of-type {\n",
       "        vertical-align: middle;\n",
       "    }\n",
       "\n",
       "    .dataframe tbody tr th {\n",
       "        vertical-align: top;\n",
       "    }\n",
       "\n",
       "    .dataframe thead th {\n",
       "        text-align: right;\n",
       "    }\n",
       "</style>\n",
       "<table border=\"1\" class=\"dataframe\">\n",
       "  <thead>\n",
       "    <tr style=\"text-align: right;\">\n",
       "      <th></th>\n",
       "      <th>Game Completed Date</th>\n",
       "      <th>Team</th>\n",
       "      <th>Outcome</th>\n",
       "      <th>Task Completed</th>\n",
       "      <th>All Tasks Completed</th>\n",
       "      <th>Murdered</th>\n",
       "      <th>Imposter Kills</th>\n",
       "      <th>Game Length</th>\n",
       "      <th>Ejected</th>\n",
       "      <th>Time to complete all tasks</th>\n",
       "      <th>Rank Change</th>\n",
       "      <th>Region/Game Code</th>\n",
       "    </tr>\n",
       "  </thead>\n",
       "  <tbody>\n",
       "    <tr>\n",
       "      <th>count</th>\n",
       "      <td>2227</td>\n",
       "      <td>2227</td>\n",
       "      <td>2227</td>\n",
       "      <td>2227</td>\n",
       "      <td>2227</td>\n",
       "      <td>2227</td>\n",
       "      <td>2227</td>\n",
       "      <td>2227</td>\n",
       "      <td>2227</td>\n",
       "      <td>2227</td>\n",
       "      <td>1828</td>\n",
       "      <td>2227</td>\n",
       "    </tr>\n",
       "    <tr>\n",
       "      <th>unique</th>\n",
       "      <td>2037</td>\n",
       "      <td>2</td>\n",
       "      <td>2</td>\n",
       "      <td>12</td>\n",
       "      <td>3</td>\n",
       "      <td>3</td>\n",
       "      <td>9</td>\n",
       "      <td>988</td>\n",
       "      <td>2</td>\n",
       "      <td>531</td>\n",
       "      <td>5</td>\n",
       "      <td>498</td>\n",
       "    </tr>\n",
       "    <tr>\n",
       "      <th>top</th>\n",
       "      <td>12/11/2020 at 3:30:33 pm EST</td>\n",
       "      <td>Crewmate</td>\n",
       "      <td>Win</td>\n",
       "      <td>-</td>\n",
       "      <td>No</td>\n",
       "      <td>No</td>\n",
       "      <td>-</td>\n",
       "      <td>13m 10s</td>\n",
       "      <td>No</td>\n",
       "      <td>-</td>\n",
       "      <td>++</td>\n",
       "      <td>NA / EYNONF</td>\n",
       "    </tr>\n",
       "    <tr>\n",
       "      <th>freq</th>\n",
       "      <td>4</td>\n",
       "      <td>1761</td>\n",
       "      <td>1242</td>\n",
       "      <td>466</td>\n",
       "      <td>993</td>\n",
       "      <td>894</td>\n",
       "      <td>1761</td>\n",
       "      <td>10</td>\n",
       "      <td>2090</td>\n",
       "      <td>1413</td>\n",
       "      <td>821</td>\n",
       "      <td>65</td>\n",
       "    </tr>\n",
       "  </tbody>\n",
       "</table>\n",
       "</div>"
      ],
      "text/plain": [
       "                 Game Completed Date      Team Outcome Task Completed  \\\n",
       "count                           2227      2227    2227           2227   \n",
       "unique                          2037         2       2             12   \n",
       "top     12/11/2020 at 3:30:33 pm EST  Crewmate     Win              -   \n",
       "freq                               4      1761    1242            466   \n",
       "\n",
       "       All Tasks Completed Murdered Imposter Kills Game Length Ejected  \\\n",
       "count                 2227     2227           2227        2227    2227   \n",
       "unique                   3        3              9         988       2   \n",
       "top                     No       No              -     13m 10s      No   \n",
       "freq                   993      894           1761          10    2090   \n",
       "\n",
       "       Time to complete all tasks Rank Change Region/Game Code  \n",
       "count                        2227        1828             2227  \n",
       "unique                        531           5              498  \n",
       "top                             -          ++      NA / EYNONF  \n",
       "freq                         1413         821               65  "
      ]
     },
     "execution_count": 8,
     "metadata": {},
     "output_type": "execute_result"
    }
   ],
   "source": [
    "df.describe(include='O')"
   ]
  },
  {
   "cell_type": "code",
   "execution_count": 9,
   "metadata": {},
   "outputs": [
    {
     "data": {
      "text/plain": [
       "0    [07m, 04s]\n",
       "1    [16m, 21s]\n",
       "Name: Min, dtype: object"
      ]
     },
     "execution_count": 9,
     "metadata": {},
     "output_type": "execute_result"
    }
   ],
   "source": [
    "df['Min'] = df.apply(lambda x: x['Game Length'].split(' '), axis=1)\n",
    "df['Min'] = df['Min'].replace('m', '', regex=True)\n",
    "df['Min'][:2]"
   ]
  },
  {
   "cell_type": "code",
   "execution_count": 15,
   "metadata": {},
   "outputs": [
    {
     "data": {
      "text/html": [
       "<div>\n",
       "<style scoped>\n",
       "    .dataframe tbody tr th:only-of-type {\n",
       "        vertical-align: middle;\n",
       "    }\n",
       "\n",
       "    .dataframe tbody tr th {\n",
       "        vertical-align: top;\n",
       "    }\n",
       "\n",
       "    .dataframe thead th {\n",
       "        text-align: right;\n",
       "    }\n",
       "</style>\n",
       "<table border=\"1\" class=\"dataframe\">\n",
       "  <thead>\n",
       "    <tr style=\"text-align: right;\">\n",
       "      <th></th>\n",
       "      <th>Game Completed Date</th>\n",
       "      <th>Team</th>\n",
       "      <th>Outcome</th>\n",
       "      <th>Task Completed</th>\n",
       "      <th>All Tasks Completed</th>\n",
       "      <th>Murdered</th>\n",
       "      <th>Imposter Kills</th>\n",
       "      <th>Game Length</th>\n",
       "      <th>Ejected</th>\n",
       "      <th>Sabotages Fixed</th>\n",
       "      <th>Time to complete all tasks</th>\n",
       "      <th>Rank Change</th>\n",
       "      <th>Region/Game Code</th>\n",
       "      <th>User ID</th>\n",
       "      <th>Min</th>\n",
       "    </tr>\n",
       "  </thead>\n",
       "  <tbody>\n",
       "    <tr>\n",
       "      <th>0</th>\n",
       "      <td>12/13/2020 at 1:26:56 am EST</td>\n",
       "      <td>Crewmate</td>\n",
       "      <td>Win</td>\n",
       "      <td>3</td>\n",
       "      <td>No</td>\n",
       "      <td>Murdered</td>\n",
       "      <td>-</td>\n",
       "      <td>07m 04s</td>\n",
       "      <td>No</td>\n",
       "      <td>2.0</td>\n",
       "      <td>-</td>\n",
       "      <td>++</td>\n",
       "      <td>NA / WYMSBF</td>\n",
       "      <td>1</td>\n",
       "      <td>[07m, 04s]</td>\n",
       "    </tr>\n",
       "    <tr>\n",
       "      <th>1</th>\n",
       "      <td>12/13/2020 at 1:17:42 am EST</td>\n",
       "      <td>Crewmate</td>\n",
       "      <td>Loss</td>\n",
       "      <td>7</td>\n",
       "      <td>Yes</td>\n",
       "      <td>Not Murdered</td>\n",
       "      <td>-</td>\n",
       "      <td>16m 21s</td>\n",
       "      <td>No</td>\n",
       "      <td>1.0</td>\n",
       "      <td>09m 48s</td>\n",
       "      <td>--</td>\n",
       "      <td>NA / WYMSBF</td>\n",
       "      <td>1</td>\n",
       "      <td>[16m, 21s]</td>\n",
       "    </tr>\n",
       "    <tr>\n",
       "      <th>2</th>\n",
       "      <td>12/13/2020 at 12:57:47 am EST</td>\n",
       "      <td>Crewmate</td>\n",
       "      <td>Win</td>\n",
       "      <td>3</td>\n",
       "      <td>No</td>\n",
       "      <td>Not Murdered</td>\n",
       "      <td>-</td>\n",
       "      <td>11m 33s</td>\n",
       "      <td>No</td>\n",
       "      <td>0.0</td>\n",
       "      <td>-</td>\n",
       "      <td>++</td>\n",
       "      <td>NA / WYMSBF</td>\n",
       "      <td>1</td>\n",
       "      <td>[11m, 33s]</td>\n",
       "    </tr>\n",
       "    <tr>\n",
       "      <th>3</th>\n",
       "      <td>12/13/2020 at 12:41:55 am EST</td>\n",
       "      <td>Imposter</td>\n",
       "      <td>Win</td>\n",
       "      <td>-</td>\n",
       "      <td>-</td>\n",
       "      <td>Missing</td>\n",
       "      <td>2</td>\n",
       "      <td>08m 05s</td>\n",
       "      <td>No</td>\n",
       "      <td>NaN</td>\n",
       "      <td>-</td>\n",
       "      <td>+++</td>\n",
       "      <td>Europe / QIRTNF</td>\n",
       "      <td>1</td>\n",
       "      <td>[08m, 05s]</td>\n",
       "    </tr>\n",
       "    <tr>\n",
       "      <th>4</th>\n",
       "      <td>12/13/2020 at 12:30:37 am EST</td>\n",
       "      <td>Crewmate</td>\n",
       "      <td>Loss</td>\n",
       "      <td>4</td>\n",
       "      <td>No</td>\n",
       "      <td>Not Murdered</td>\n",
       "      <td>-</td>\n",
       "      <td>05m 10s</td>\n",
       "      <td>No</td>\n",
       "      <td>0.0</td>\n",
       "      <td>-</td>\n",
       "      <td>---</td>\n",
       "      <td>Europe / QIRTNF</td>\n",
       "      <td>1</td>\n",
       "      <td>[05m, 10s]</td>\n",
       "    </tr>\n",
       "    <tr>\n",
       "      <th>...</th>\n",
       "      <td>...</td>\n",
       "      <td>...</td>\n",
       "      <td>...</td>\n",
       "      <td>...</td>\n",
       "      <td>...</td>\n",
       "      <td>...</td>\n",
       "      <td>...</td>\n",
       "      <td>...</td>\n",
       "      <td>...</td>\n",
       "      <td>...</td>\n",
       "      <td>...</td>\n",
       "      <td>...</td>\n",
       "      <td>...</td>\n",
       "      <td>...</td>\n",
       "      <td>...</td>\n",
       "    </tr>\n",
       "    <tr>\n",
       "      <th>2222</th>\n",
       "      <td>11/28/2020 at 12:57:06 pm EST</td>\n",
       "      <td>Imposter</td>\n",
       "      <td>Loss</td>\n",
       "      <td>-</td>\n",
       "      <td>-</td>\n",
       "      <td>Missing</td>\n",
       "      <td>2</td>\n",
       "      <td>11m 02s</td>\n",
       "      <td>No</td>\n",
       "      <td>NaN</td>\n",
       "      <td>-</td>\n",
       "      <td>-</td>\n",
       "      <td>Europe / DJCWJF</td>\n",
       "      <td>29</td>\n",
       "      <td>[11m, 02s]</td>\n",
       "    </tr>\n",
       "    <tr>\n",
       "      <th>2223</th>\n",
       "      <td>11/28/2020 at 12:43:36 pm EST</td>\n",
       "      <td>Crewmate</td>\n",
       "      <td>Loss</td>\n",
       "      <td>7</td>\n",
       "      <td>Yes</td>\n",
       "      <td>Murdered</td>\n",
       "      <td>-</td>\n",
       "      <td>06m 56s</td>\n",
       "      <td>No</td>\n",
       "      <td>0.0</td>\n",
       "      <td>04m 09s</td>\n",
       "      <td>--</td>\n",
       "      <td>Europe / DJCWJF</td>\n",
       "      <td>29</td>\n",
       "      <td>[06m, 56s]</td>\n",
       "    </tr>\n",
       "    <tr>\n",
       "      <th>2224</th>\n",
       "      <td>11/28/2020 at 12:32:44 pm EST</td>\n",
       "      <td>Crewmate</td>\n",
       "      <td>Win</td>\n",
       "      <td>7</td>\n",
       "      <td>Yes</td>\n",
       "      <td>Murdered</td>\n",
       "      <td>-</td>\n",
       "      <td>22m 06s</td>\n",
       "      <td>No</td>\n",
       "      <td>0.0</td>\n",
       "      <td>06m 31s</td>\n",
       "      <td>++</td>\n",
       "      <td>Europe / DJCWJF</td>\n",
       "      <td>29</td>\n",
       "      <td>[22m, 06s]</td>\n",
       "    </tr>\n",
       "    <tr>\n",
       "      <th>2225</th>\n",
       "      <td>11/28/2020 at 12:09:02 pm EST</td>\n",
       "      <td>Crewmate</td>\n",
       "      <td>Loss</td>\n",
       "      <td>7</td>\n",
       "      <td>Yes</td>\n",
       "      <td>Not Murdered</td>\n",
       "      <td>-</td>\n",
       "      <td>13m 41s</td>\n",
       "      <td>No</td>\n",
       "      <td>0.0</td>\n",
       "      <td>06m 06s</td>\n",
       "      <td>--</td>\n",
       "      <td>Europe / DJCWJF</td>\n",
       "      <td>29</td>\n",
       "      <td>[13m, 41s]</td>\n",
       "    </tr>\n",
       "    <tr>\n",
       "      <th>2226</th>\n",
       "      <td>11/27/2020 at 9:52:37 pm EST</td>\n",
       "      <td>Crewmate</td>\n",
       "      <td>Loss</td>\n",
       "      <td>8</td>\n",
       "      <td>Yes</td>\n",
       "      <td>Murdered</td>\n",
       "      <td>-</td>\n",
       "      <td>13m 27s</td>\n",
       "      <td>No</td>\n",
       "      <td>0.0</td>\n",
       "      <td>05m 37s</td>\n",
       "      <td>--</td>\n",
       "      <td>Europe / ILAEVF</td>\n",
       "      <td>29</td>\n",
       "      <td>[13m, 27s]</td>\n",
       "    </tr>\n",
       "  </tbody>\n",
       "</table>\n",
       "<p>2227 rows × 15 columns</p>\n",
       "</div>"
      ],
      "text/plain": [
       "                Game Completed Date      Team Outcome Task Completed  \\\n",
       "0      12/13/2020 at 1:26:56 am EST  Crewmate     Win              3   \n",
       "1      12/13/2020 at 1:17:42 am EST  Crewmate    Loss              7   \n",
       "2     12/13/2020 at 12:57:47 am EST  Crewmate     Win              3   \n",
       "3     12/13/2020 at 12:41:55 am EST  Imposter     Win              -   \n",
       "4     12/13/2020 at 12:30:37 am EST  Crewmate    Loss              4   \n",
       "...                             ...       ...     ...            ...   \n",
       "2222  11/28/2020 at 12:57:06 pm EST  Imposter    Loss              -   \n",
       "2223  11/28/2020 at 12:43:36 pm EST  Crewmate    Loss              7   \n",
       "2224  11/28/2020 at 12:32:44 pm EST  Crewmate     Win              7   \n",
       "2225  11/28/2020 at 12:09:02 pm EST  Crewmate    Loss              7   \n",
       "2226   11/27/2020 at 9:52:37 pm EST  Crewmate    Loss              8   \n",
       "\n",
       "     All Tasks Completed      Murdered Imposter Kills Game Length Ejected  \\\n",
       "0                     No      Murdered              -     07m 04s      No   \n",
       "1                    Yes  Not Murdered              -     16m 21s      No   \n",
       "2                     No  Not Murdered              -     11m 33s      No   \n",
       "3                      -       Missing              2     08m 05s      No   \n",
       "4                     No  Not Murdered              -     05m 10s      No   \n",
       "...                  ...           ...            ...         ...     ...   \n",
       "2222                   -       Missing              2     11m 02s      No   \n",
       "2223                 Yes      Murdered              -     06m 56s      No   \n",
       "2224                 Yes      Murdered              -     22m 06s      No   \n",
       "2225                 Yes  Not Murdered              -     13m 41s      No   \n",
       "2226                 Yes      Murdered              -     13m 27s      No   \n",
       "\n",
       "      Sabotages Fixed Time to complete all tasks Rank Change Region/Game Code  \\\n",
       "0                 2.0                          -          ++      NA / WYMSBF   \n",
       "1                 1.0                    09m 48s          --      NA / WYMSBF   \n",
       "2                 0.0                          -          ++      NA / WYMSBF   \n",
       "3                 NaN                          -         +++  Europe / QIRTNF   \n",
       "4                 0.0                          -         ---  Europe / QIRTNF   \n",
       "...               ...                        ...         ...              ...   \n",
       "2222              NaN                          -           -  Europe / DJCWJF   \n",
       "2223              0.0                    04m 09s          --  Europe / DJCWJF   \n",
       "2224              0.0                    06m 31s          ++  Europe / DJCWJF   \n",
       "2225              0.0                    06m 06s          --  Europe / DJCWJF   \n",
       "2226              0.0                    05m 37s          --  Europe / ILAEVF   \n",
       "\n",
       "      User ID         Min  \n",
       "0           1  [07m, 04s]  \n",
       "1           1  [16m, 21s]  \n",
       "2           1  [11m, 33s]  \n",
       "3           1  [08m, 05s]  \n",
       "4           1  [05m, 10s]  \n",
       "...       ...         ...  \n",
       "2222       29  [11m, 02s]  \n",
       "2223       29  [06m, 56s]  \n",
       "2224       29  [22m, 06s]  \n",
       "2225       29  [13m, 41s]  \n",
       "2226       29  [13m, 27s]  \n",
       "\n",
       "[2227 rows x 15 columns]"
      ]
     },
     "execution_count": 15,
     "metadata": {},
     "output_type": "execute_result"
    }
   ],
   "source": [
    "df['Murdered'].replace(['No', 'Yes', '-'], ['Not Murdered', 'Murdered', 'Missing'], inplace=True)\n",
    "df"
   ]
  },
  {
   "cell_type": "markdown",
   "metadata": {},
   "source": [
    "### Pie Plot"
   ]
  },
  {
   "cell_type": "code",
   "execution_count": 16,
   "metadata": {},
   "outputs": [
    {
     "name": "stdout",
     "output_type": "stream",
     "text": [
      "__x__values_original\n"
     ]
    },
    {
     "data": {
      "text/html": [
       "\n",
       "\n",
       "\n",
       "\n",
       "\n",
       "\n",
       "  <div class=\"bk-root\" id=\"1a6f2639-b9f1-4452-9d47-97f6d5a0f8b0\" data-root-id=\"1493\"></div>\n"
      ]
     },
     "metadata": {},
     "output_type": "display_data"
    },
    {
     "data": {
      "application/javascript": "(function(root) {\n  function embed_document(root) {\n    \n  var docs_json = {\"629d41fb-197b-49b7-a246-ee4333e4e0dc\":{\"defs\":[],\"roots\":{\"references\":[{\"attributes\":{\"below\":[{\"id\":\"1504\"}],\"center\":[{\"id\":\"1507\"},{\"id\":\"1511\"},{\"id\":\"1544\"}],\"height\":400,\"left\":[{\"id\":\"1508\"}],\"renderers\":[{\"id\":\"1532\"}],\"title\":{\"id\":\"1494\"},\"toolbar\":{\"id\":\"1519\"},\"toolbar_location\":null,\"x_range\":{\"id\":\"1496\"},\"x_scale\":{\"id\":\"1500\"},\"y_range\":{\"id\":\"1498\"},\"y_scale\":{\"id\":\"1502\"}},\"id\":\"1493\",\"subtype\":\"Figure\",\"type\":\"Plot\"},{\"attributes\":{\"source\":{\"id\":\"1528\"}},\"id\":\"1533\",\"type\":\"CDSView\"},{\"attributes\":{\"end_angle\":{\"expr\":{\"id\":\"1527\"}},\"fill_color\":{\"field\":\"color\"},\"inner_radius\":{\"field\":\"inner_radius\"},\"line_color\":{\"value\":\"white\"},\"line_width\":{\"value\":2},\"outer_radius\":{\"field\":\"outer_radius\"},\"start_angle\":{\"expr\":{\"id\":\"1526\"}},\"x\":{\"value\":0},\"y\":{\"value\":0}},\"id\":\"1530\",\"type\":\"AnnularWedge\"},{\"attributes\":{\"end_angle\":{\"expr\":{\"id\":\"1527\"}},\"fill_alpha\":{\"value\":0.1},\"fill_color\":{\"field\":\"color\"},\"inner_radius\":{\"field\":\"inner_radius\"},\"line_alpha\":{\"value\":0.1},\"line_color\":{\"value\":\"white\"},\"line_width\":{\"value\":2},\"outer_radius\":{\"field\":\"outer_radius\"},\"start_angle\":{\"expr\":{\"id\":\"1526\"}},\"x\":{\"value\":0},\"y\":{\"value\":0}},\"id\":\"1531\",\"type\":\"AnnularWedge\"},{\"attributes\":{\"end\":2,\"start\":-1.5999999999999999},\"id\":\"1496\",\"type\":\"Range1d\"},{\"attributes\":{\"data_source\":{\"id\":\"1528\"},\"glyph\":{\"id\":\"1530\"},\"hover_glyph\":null,\"muted_glyph\":null,\"nonselection_glyph\":{\"id\":\"1531\"},\"view\":{\"id\":\"1533\"}},\"id\":\"1532\",\"type\":\"GlyphRenderer\"},{\"attributes\":{\"ticks\":[0,1]},\"id\":\"1548\",\"type\":\"FixedTicker\"},{\"attributes\":{\"bottom_units\":\"screen\",\"fill_alpha\":0.5,\"fill_color\":\"lightgrey\",\"left_units\":\"screen\",\"level\":\"overlay\",\"line_alpha\":1.0,\"line_color\":\"black\",\"line_dash\":[4,4],\"line_width\":2,\"right_units\":\"screen\",\"syncable\":false,\"top_units\":\"screen\"},\"id\":\"1518\",\"type\":\"BoxAnnotation\"},{\"attributes\":{},\"id\":\"1541\",\"type\":\"UnionRenderers\"},{\"attributes\":{\"axis_label\":null,\"formatter\":{\"id\":\"1537\"},\"major_label_policy\":{\"id\":\"1535\"},\"ticker\":{\"id\":\"1548\"},\"visible\":false},\"id\":\"1504\",\"type\":\"LinearAxis\"},{\"attributes\":{\"label\":{\"field\":\"__x__values_original\"},\"renderers\":[{\"id\":\"1532\"}]},\"id\":\"1545\",\"type\":\"LegendItem\"},{\"attributes\":{\"end\":1.2,\"start\":-1.2},\"id\":\"1498\",\"type\":\"Range1d\"},{\"attributes\":{\"items\":[{\"id\":\"1545\"}]},\"id\":\"1544\",\"type\":\"Legend\"},{\"attributes\":{},\"id\":\"1509\",\"type\":\"BasicTicker\"},{\"attributes\":{\"axis\":{\"id\":\"1504\"},\"grid_line_color\":null,\"ticker\":null},\"id\":\"1507\",\"type\":\"Grid\"},{\"attributes\":{},\"id\":\"1535\",\"type\":\"AllLabels\"},{\"attributes\":{},\"id\":\"1500\",\"type\":\"LinearScale\"},{\"attributes\":{},\"id\":\"1502\",\"type\":\"LinearScale\"},{\"attributes\":{},\"id\":\"1537\",\"type\":\"BasicTickFormatter\"},{\"attributes\":{\"field\":\"Team_angle\"},\"id\":\"1527\",\"type\":\"CumSum\"},{\"attributes\":{\"axis_label\":null,\"formatter\":{\"id\":\"1540\"},\"major_label_policy\":{\"id\":\"1538\"},\"ticker\":{\"id\":\"1509\"},\"visible\":false},\"id\":\"1508\",\"type\":\"LinearAxis\"},{\"attributes\":{},\"id\":\"1517\",\"type\":\"HelpTool\"},{\"attributes\":{\"data\":{\"Team\":[1761,466],\"Team_angle\":{\"__ndarray__\":\"GCARnKvfE0AANMzgPgn1Pw==\",\"dtype\":\"float64\",\"order\":\"little\",\"shape\":[2]},\"__x__values\":[\"Crewmate\",\"Imposter\"],\"__x__values_original\":[\"Crewmate\",\"Imposter\"],\"color\":[\"#1f77b4\",\"#ff7f0e\"],\"inner_radius\":[0.0,0.0],\"outer_radius\":[0.9,0.9]},\"selected\":{\"id\":\"1542\"},\"selection_policy\":{\"id\":\"1541\"}},\"id\":\"1528\",\"type\":\"ColumnDataSource\"},{\"attributes\":{\"axis\":{\"id\":\"1508\"},\"dimension\":1,\"grid_line_color\":null,\"ticker\":null},\"id\":\"1511\",\"type\":\"Grid\"},{\"attributes\":{\"active_multi\":null,\"tools\":[{\"id\":\"1512\"},{\"id\":\"1513\"},{\"id\":\"1514\"},{\"id\":\"1515\"},{\"id\":\"1516\"},{\"id\":\"1517\"},{\"id\":\"1546\"}]},\"id\":\"1519\",\"type\":\"Toolbar\"},{\"attributes\":{},\"id\":\"1542\",\"type\":\"Selection\"},{\"attributes\":{},\"id\":\"1513\",\"type\":\"WheelZoomTool\"},{\"attributes\":{},\"id\":\"1512\",\"type\":\"PanTool\"},{\"attributes\":{\"overlay\":{\"id\":\"1518\"}},\"id\":\"1514\",\"type\":\"BoxZoomTool\"},{\"attributes\":{\"callback\":null,\"renderers\":[{\"id\":\"1532\"}],\"tooltips\":[[\"x\",\"@__x__values_original\"],[\"Team\",\"@{Team}\"]]},\"id\":\"1546\",\"type\":\"HoverTool\"},{\"attributes\":{},\"id\":\"1515\",\"type\":\"SaveTool\"},{\"attributes\":{},\"id\":\"1516\",\"type\":\"ResetTool\"},{\"attributes\":{},\"id\":\"1538\",\"type\":\"AllLabels\"},{\"attributes\":{},\"id\":\"1540\",\"type\":\"BasicTickFormatter\"},{\"attributes\":{\"field\":\"Team_angle\",\"include_zero\":true},\"id\":\"1526\",\"type\":\"CumSum\"},{\"attributes\":{\"text\":\"Ration of monster vs. crewmate\"},\"id\":\"1494\",\"type\":\"Title\"}],\"root_ids\":[\"1493\"]},\"title\":\"Bokeh Application\",\"version\":\"2.3.2\"}};\n  var render_items = [{\"docid\":\"629d41fb-197b-49b7-a246-ee4333e4e0dc\",\"root_ids\":[\"1493\"],\"roots\":{\"1493\":\"1a6f2639-b9f1-4452-9d47-97f6d5a0f8b0\"}}];\n  root.Bokeh.embed.embed_items_notebook(docs_json, render_items);\n\n  }\n  if (root.Bokeh !== undefined) {\n    embed_document(root);\n  } else {\n    var attempts = 0;\n    var timer = setInterval(function(root) {\n      if (root.Bokeh !== undefined) {\n        clearInterval(timer);\n        embed_document(root);\n      } else {\n        attempts++;\n        if (attempts > 100) {\n          clearInterval(timer);\n          console.log(\"Bokeh: ERROR: Unable to run BokehJS code because BokehJS library is missing\");\n        }\n      }\n    }, 10, root)\n  }\n})(window);",
      "application/vnd.bokehjs_exec.v0+json": ""
     },
     "metadata": {
      "application/vnd.bokehjs_exec.v0+json": {
       "id": "1493"
      }
     },
     "output_type": "display_data"
    },
    {
     "data": {
      "text/html": [
       "<div style=\"display: table;\"><div style=\"display: table-row;\"><div style=\"display: table-cell;\"><b title=\"bokeh.plotting.figure.Figure\">Figure</b>(</div><div style=\"display: table-cell;\">id&nbsp;=&nbsp;'1493', <span id=\"1605\" style=\"cursor: pointer;\">&hellip;)</span></div></div><div class=\"1604\" style=\"display: none;\"><div style=\"display: table-cell;\"></div><div style=\"display: table-cell;\">above&nbsp;=&nbsp;[],</div></div><div class=\"1604\" style=\"display: none;\"><div style=\"display: table-cell;\"></div><div style=\"display: table-cell;\">align&nbsp;=&nbsp;'start',</div></div><div class=\"1604\" style=\"display: none;\"><div style=\"display: table-cell;\"></div><div style=\"display: table-cell;\">aspect_ratio&nbsp;=&nbsp;None,</div></div><div class=\"1604\" style=\"display: none;\"><div style=\"display: table-cell;\"></div><div style=\"display: table-cell;\">aspect_scale&nbsp;=&nbsp;1,</div></div><div class=\"1604\" style=\"display: none;\"><div style=\"display: table-cell;\"></div><div style=\"display: table-cell;\">background&nbsp;=&nbsp;None,</div></div><div class=\"1604\" style=\"display: none;\"><div style=\"display: table-cell;\"></div><div style=\"display: table-cell;\">background_fill_alpha&nbsp;=&nbsp;1.0,</div></div><div class=\"1604\" style=\"display: none;\"><div style=\"display: table-cell;\"></div><div style=\"display: table-cell;\">background_fill_color&nbsp;=&nbsp;'#ffffff',</div></div><div class=\"1604\" style=\"display: none;\"><div style=\"display: table-cell;\"></div><div style=\"display: table-cell;\">below&nbsp;=&nbsp;[LinearAxis(id='1504', ...)],</div></div><div class=\"1604\" style=\"display: none;\"><div style=\"display: table-cell;\"></div><div style=\"display: table-cell;\">border_fill_alpha&nbsp;=&nbsp;1.0,</div></div><div class=\"1604\" style=\"display: none;\"><div style=\"display: table-cell;\"></div><div style=\"display: table-cell;\">border_fill_color&nbsp;=&nbsp;'#ffffff',</div></div><div class=\"1604\" style=\"display: none;\"><div style=\"display: table-cell;\"></div><div style=\"display: table-cell;\">center&nbsp;=&nbsp;[Grid(id='1507', ...), Grid(id='1511', ...), Legend(id='1544', ...)],</div></div><div class=\"1604\" style=\"display: none;\"><div style=\"display: table-cell;\"></div><div style=\"display: table-cell;\">css_classes&nbsp;=&nbsp;[],</div></div><div class=\"1604\" style=\"display: none;\"><div style=\"display: table-cell;\"></div><div style=\"display: table-cell;\">disabled&nbsp;=&nbsp;False,</div></div><div class=\"1604\" style=\"display: none;\"><div style=\"display: table-cell;\"></div><div style=\"display: table-cell;\">extra_x_ranges&nbsp;=&nbsp;{},</div></div><div class=\"1604\" style=\"display: none;\"><div style=\"display: table-cell;\"></div><div style=\"display: table-cell;\">extra_y_ranges&nbsp;=&nbsp;{},</div></div><div class=\"1604\" style=\"display: none;\"><div style=\"display: table-cell;\"></div><div style=\"display: table-cell;\">frame_height&nbsp;=&nbsp;None,</div></div><div class=\"1604\" style=\"display: none;\"><div style=\"display: table-cell;\"></div><div style=\"display: table-cell;\">frame_width&nbsp;=&nbsp;None,</div></div><div class=\"1604\" style=\"display: none;\"><div style=\"display: table-cell;\"></div><div style=\"display: table-cell;\">height&nbsp;=&nbsp;400,</div></div><div class=\"1604\" style=\"display: none;\"><div style=\"display: table-cell;\"></div><div style=\"display: table-cell;\">height_policy&nbsp;=&nbsp;'auto',</div></div><div class=\"1604\" style=\"display: none;\"><div style=\"display: table-cell;\"></div><div style=\"display: table-cell;\">hidpi&nbsp;=&nbsp;True,</div></div><div class=\"1604\" style=\"display: none;\"><div style=\"display: table-cell;\"></div><div style=\"display: table-cell;\">inner_height&nbsp;=&nbsp;0,</div></div><div class=\"1604\" style=\"display: none;\"><div style=\"display: table-cell;\"></div><div style=\"display: table-cell;\">inner_width&nbsp;=&nbsp;0,</div></div><div class=\"1604\" style=\"display: none;\"><div style=\"display: table-cell;\"></div><div style=\"display: table-cell;\">js_event_callbacks&nbsp;=&nbsp;{},</div></div><div class=\"1604\" style=\"display: none;\"><div style=\"display: table-cell;\"></div><div style=\"display: table-cell;\">js_property_callbacks&nbsp;=&nbsp;{},</div></div><div class=\"1604\" style=\"display: none;\"><div style=\"display: table-cell;\"></div><div style=\"display: table-cell;\">left&nbsp;=&nbsp;[LinearAxis(id='1508', ...)],</div></div><div class=\"1604\" style=\"display: none;\"><div style=\"display: table-cell;\"></div><div style=\"display: table-cell;\">lod_factor&nbsp;=&nbsp;10,</div></div><div class=\"1604\" style=\"display: none;\"><div style=\"display: table-cell;\"></div><div style=\"display: table-cell;\">lod_interval&nbsp;=&nbsp;300,</div></div><div class=\"1604\" style=\"display: none;\"><div style=\"display: table-cell;\"></div><div style=\"display: table-cell;\">lod_threshold&nbsp;=&nbsp;2000,</div></div><div class=\"1604\" style=\"display: none;\"><div style=\"display: table-cell;\"></div><div style=\"display: table-cell;\">lod_timeout&nbsp;=&nbsp;500,</div></div><div class=\"1604\" style=\"display: none;\"><div style=\"display: table-cell;\"></div><div style=\"display: table-cell;\">margin&nbsp;=&nbsp;(0, 0, 0, 0),</div></div><div class=\"1604\" style=\"display: none;\"><div style=\"display: table-cell;\"></div><div style=\"display: table-cell;\">match_aspect&nbsp;=&nbsp;False,</div></div><div class=\"1604\" style=\"display: none;\"><div style=\"display: table-cell;\"></div><div style=\"display: table-cell;\">max_height&nbsp;=&nbsp;None,</div></div><div class=\"1604\" style=\"display: none;\"><div style=\"display: table-cell;\"></div><div style=\"display: table-cell;\">max_width&nbsp;=&nbsp;None,</div></div><div class=\"1604\" style=\"display: none;\"><div style=\"display: table-cell;\"></div><div style=\"display: table-cell;\">min_border&nbsp;=&nbsp;5,</div></div><div class=\"1604\" style=\"display: none;\"><div style=\"display: table-cell;\"></div><div style=\"display: table-cell;\">min_border_bottom&nbsp;=&nbsp;None,</div></div><div class=\"1604\" style=\"display: none;\"><div style=\"display: table-cell;\"></div><div style=\"display: table-cell;\">min_border_left&nbsp;=&nbsp;None,</div></div><div class=\"1604\" style=\"display: none;\"><div style=\"display: table-cell;\"></div><div style=\"display: table-cell;\">min_border_right&nbsp;=&nbsp;None,</div></div><div class=\"1604\" style=\"display: none;\"><div style=\"display: table-cell;\"></div><div style=\"display: table-cell;\">min_border_top&nbsp;=&nbsp;None,</div></div><div class=\"1604\" style=\"display: none;\"><div style=\"display: table-cell;\"></div><div style=\"display: table-cell;\">min_height&nbsp;=&nbsp;None,</div></div><div class=\"1604\" style=\"display: none;\"><div style=\"display: table-cell;\"></div><div style=\"display: table-cell;\">min_width&nbsp;=&nbsp;None,</div></div><div class=\"1604\" style=\"display: none;\"><div style=\"display: table-cell;\"></div><div style=\"display: table-cell;\">name&nbsp;=&nbsp;None,</div></div><div class=\"1604\" style=\"display: none;\"><div style=\"display: table-cell;\"></div><div style=\"display: table-cell;\">outer_height&nbsp;=&nbsp;0,</div></div><div class=\"1604\" style=\"display: none;\"><div style=\"display: table-cell;\"></div><div style=\"display: table-cell;\">outer_width&nbsp;=&nbsp;0,</div></div><div class=\"1604\" style=\"display: none;\"><div style=\"display: table-cell;\"></div><div style=\"display: table-cell;\">outline_line_alpha&nbsp;=&nbsp;1.0,</div></div><div class=\"1604\" style=\"display: none;\"><div style=\"display: table-cell;\"></div><div style=\"display: table-cell;\">outline_line_cap&nbsp;=&nbsp;'butt',</div></div><div class=\"1604\" style=\"display: none;\"><div style=\"display: table-cell;\"></div><div style=\"display: table-cell;\">outline_line_color&nbsp;=&nbsp;'#e5e5e5',</div></div><div class=\"1604\" style=\"display: none;\"><div style=\"display: table-cell;\"></div><div style=\"display: table-cell;\">outline_line_dash&nbsp;=&nbsp;[],</div></div><div class=\"1604\" style=\"display: none;\"><div style=\"display: table-cell;\"></div><div style=\"display: table-cell;\">outline_line_dash_offset&nbsp;=&nbsp;0,</div></div><div class=\"1604\" style=\"display: none;\"><div style=\"display: table-cell;\"></div><div style=\"display: table-cell;\">outline_line_join&nbsp;=&nbsp;'bevel',</div></div><div class=\"1604\" style=\"display: none;\"><div style=\"display: table-cell;\"></div><div style=\"display: table-cell;\">outline_line_width&nbsp;=&nbsp;1,</div></div><div class=\"1604\" style=\"display: none;\"><div style=\"display: table-cell;\"></div><div style=\"display: table-cell;\">output_backend&nbsp;=&nbsp;'canvas',</div></div><div class=\"1604\" style=\"display: none;\"><div style=\"display: table-cell;\"></div><div style=\"display: table-cell;\">renderers&nbsp;=&nbsp;[GlyphRenderer(id='1532', ...)],</div></div><div class=\"1604\" style=\"display: none;\"><div style=\"display: table-cell;\"></div><div style=\"display: table-cell;\">reset_policy&nbsp;=&nbsp;'standard',</div></div><div class=\"1604\" style=\"display: none;\"><div style=\"display: table-cell;\"></div><div style=\"display: table-cell;\">right&nbsp;=&nbsp;[],</div></div><div class=\"1604\" style=\"display: none;\"><div style=\"display: table-cell;\"></div><div style=\"display: table-cell;\">sizing_mode&nbsp;=&nbsp;None,</div></div><div class=\"1604\" style=\"display: none;\"><div style=\"display: table-cell;\"></div><div style=\"display: table-cell;\">subscribed_events&nbsp;=&nbsp;[],</div></div><div class=\"1604\" style=\"display: none;\"><div style=\"display: table-cell;\"></div><div style=\"display: table-cell;\">syncable&nbsp;=&nbsp;True,</div></div><div class=\"1604\" style=\"display: none;\"><div style=\"display: table-cell;\"></div><div style=\"display: table-cell;\">tags&nbsp;=&nbsp;[],</div></div><div class=\"1604\" style=\"display: none;\"><div style=\"display: table-cell;\"></div><div style=\"display: table-cell;\">title&nbsp;=&nbsp;Title(id='1494', ...),</div></div><div class=\"1604\" style=\"display: none;\"><div style=\"display: table-cell;\"></div><div style=\"display: table-cell;\">title_location&nbsp;=&nbsp;'above',</div></div><div class=\"1604\" style=\"display: none;\"><div style=\"display: table-cell;\"></div><div style=\"display: table-cell;\">toolbar&nbsp;=&nbsp;Toolbar(id='1519', ...),</div></div><div class=\"1604\" style=\"display: none;\"><div style=\"display: table-cell;\"></div><div style=\"display: table-cell;\">toolbar_location&nbsp;=&nbsp;None,</div></div><div class=\"1604\" style=\"display: none;\"><div style=\"display: table-cell;\"></div><div style=\"display: table-cell;\">toolbar_sticky&nbsp;=&nbsp;True,</div></div><div class=\"1604\" style=\"display: none;\"><div style=\"display: table-cell;\"></div><div style=\"display: table-cell;\">visible&nbsp;=&nbsp;True,</div></div><div class=\"1604\" style=\"display: none;\"><div style=\"display: table-cell;\"></div><div style=\"display: table-cell;\">width&nbsp;=&nbsp;600,</div></div><div class=\"1604\" style=\"display: none;\"><div style=\"display: table-cell;\"></div><div style=\"display: table-cell;\">width_policy&nbsp;=&nbsp;'auto',</div></div><div class=\"1604\" style=\"display: none;\"><div style=\"display: table-cell;\"></div><div style=\"display: table-cell;\">x_range&nbsp;=&nbsp;Range1d(id='1496', ...),</div></div><div class=\"1604\" style=\"display: none;\"><div style=\"display: table-cell;\"></div><div style=\"display: table-cell;\">x_scale&nbsp;=&nbsp;LinearScale(id='1500', ...),</div></div><div class=\"1604\" style=\"display: none;\"><div style=\"display: table-cell;\"></div><div style=\"display: table-cell;\">y_range&nbsp;=&nbsp;Range1d(id='1498', ...),</div></div><div class=\"1604\" style=\"display: none;\"><div style=\"display: table-cell;\"></div><div style=\"display: table-cell;\">y_scale&nbsp;=&nbsp;LinearScale(id='1502', ...))</div></div></div>\n",
       "<script>\n",
       "(function() {\n",
       "  var expanded = false;\n",
       "  var ellipsis = document.getElementById(\"1605\");\n",
       "  ellipsis.addEventListener(\"click\", function() {\n",
       "    var rows = document.getElementsByClassName(\"1604\");\n",
       "    for (var i = 0; i < rows.length; i++) {\n",
       "      var el = rows[i];\n",
       "      el.style.display = expanded ? \"none\" : \"table-row\";\n",
       "    }\n",
       "    ellipsis.innerHTML = expanded ? \"&hellip;)\" : \"&lsaquo;&lsaquo;&lsaquo;\";\n",
       "    expanded = !expanded;\n",
       "  });\n",
       "})();\n",
       "</script>\n"
      ],
      "text/plain": [
       "Figure(id='1493', ...)"
      ]
     },
     "execution_count": 16,
     "metadata": {},
     "output_type": "execute_result"
    }
   ],
   "source": [
    "df_team = df.Team.value_counts()\n",
    "df_team.plot_bokeh(kind='pie', title='Ration of imposters vs. crewmate')"
   ]
  },
  {
   "cell_type": "markdown",
   "metadata": {},
   "source": [
    "### Donut Plot"
   ]
  },
  {
   "cell_type": "code",
   "execution_count": 17,
   "metadata": {},
   "outputs": [
    {
     "data": {
      "text/html": [
       "<div>\n",
       "<style scoped>\n",
       "    .dataframe tbody tr th:only-of-type {\n",
       "        vertical-align: middle;\n",
       "    }\n",
       "\n",
       "    .dataframe tbody tr th {\n",
       "        vertical-align: top;\n",
       "    }\n",
       "\n",
       "    .dataframe thead th {\n",
       "        text-align: right;\n",
       "    }\n",
       "</style>\n",
       "<table border=\"1\" class=\"dataframe\">\n",
       "  <thead>\n",
       "    <tr style=\"text-align: right;\">\n",
       "      <th></th>\n",
       "      <th>Murdered</th>\n",
       "      <th>Value</th>\n",
       "      <th>Angle</th>\n",
       "      <th>color</th>\n",
       "    </tr>\n",
       "  </thead>\n",
       "  <tbody>\n",
       "    <tr>\n",
       "      <th>0</th>\n",
       "      <td>Not Murdered</td>\n",
       "      <td>894</td>\n",
       "      <td>2.522302</td>\n",
       "      <td>#3182bd</td>\n",
       "    </tr>\n",
       "    <tr>\n",
       "      <th>1</th>\n",
       "      <td>Murdered</td>\n",
       "      <td>867</td>\n",
       "      <td>2.446126</td>\n",
       "      <td>#6baed6</td>\n",
       "    </tr>\n",
       "    <tr>\n",
       "      <th>2</th>\n",
       "      <td>Missing</td>\n",
       "      <td>466</td>\n",
       "      <td>1.314757</td>\n",
       "      <td>#9ecae1</td>\n",
       "    </tr>\n",
       "  </tbody>\n",
       "</table>\n",
       "</div>"
      ],
      "text/plain": [
       "       Murdered  Value     Angle    color\n",
       "0  Not Murdered    894  2.522302  #3182bd\n",
       "1      Murdered    867  2.446126  #6baed6\n",
       "2       Missing    466  1.314757  #9ecae1"
      ]
     },
     "execution_count": 17,
     "metadata": {},
     "output_type": "execute_result"
    }
   ],
   "source": [
    "df_mur = df.Murdered.value_counts().reset_index().rename(columns={'index': 'Murdered', 'Murdered': 'Value'})\n",
    "df_mur['Angle'] = df_mur['Value'] / df_mur['Value'].sum() * 2 * pi\n",
    "df_mur['color'] = ['#3182bd', '#6baed6', '#9ecae1']\n",
    "df_mur"
   ]
  },
  {
   "cell_type": "code",
   "execution_count": 21,
   "metadata": {},
   "outputs": [
    {
     "name": "stderr",
     "output_type": "stream",
     "text": [
      "BokehDeprecationWarning: 'legend' keyword is deprecated, use explicit 'legend_label', 'legend_field', or 'legend_group' keywords instead\n"
     ]
    },
    {
     "data": {
      "text/html": [
       "\n",
       "\n",
       "\n",
       "\n",
       "\n",
       "\n",
       "  <div class=\"bk-root\" id=\"07df3ba4-fc60-421c-9073-a85dbc36ce2e\" data-root-id=\"1744\"></div>\n"
      ]
     },
     "metadata": {},
     "output_type": "display_data"
    },
    {
     "data": {
      "application/javascript": "(function(root) {\n  function embed_document(root) {\n    \n  var docs_json = {\"aa435ee6-f0ca-4d66-8bed-84d3a084b4e9\":{\"defs\":[],\"roots\":{\"references\":[{\"attributes\":{\"below\":[{\"id\":\"1755\"}],\"center\":[{\"id\":\"1758\"},{\"id\":\"1762\"},{\"id\":\"1783\"}],\"height\":350,\"left\":[{\"id\":\"1759\"}],\"renderers\":[{\"id\":\"1772\"}],\"title\":{\"id\":\"1745\"},\"toolbar\":{\"id\":\"1764\"},\"toolbar_location\":null,\"x_range\":{\"id\":\"1747\"},\"x_scale\":{\"id\":\"1751\"},\"y_range\":{\"id\":\"1749\"},\"y_scale\":{\"id\":\"1753\"}},\"id\":\"1744\",\"subtype\":\"Figure\",\"type\":\"Plot\"},{\"attributes\":{},\"id\":\"1778\",\"type\":\"AllLabels\"},{\"attributes\":{},\"id\":\"1780\",\"type\":\"BasicTickFormatter\"},{\"attributes\":{\"field\":\"Angle\"},\"id\":\"1767\",\"type\":\"CumSum\"},{\"attributes\":{\"end_angle\":{\"expr\":{\"id\":\"1767\"}},\"fill_color\":{\"field\":\"color\"},\"inner_radius\":{\"value\":0.15},\"line_color\":{\"value\":\"white\"},\"outer_radius\":{\"value\":0.25},\"start_angle\":{\"expr\":{\"id\":\"1766\"}},\"x\":{\"value\":0},\"y\":{\"value\":1}},\"id\":\"1770\",\"type\":\"AnnularWedge\"},{\"attributes\":{},\"id\":\"1775\",\"type\":\"AllLabels\"},{\"attributes\":{},\"id\":\"1777\",\"type\":\"BasicTickFormatter\"},{\"attributes\":{\"field\":\"Angle\",\"include_zero\":true},\"id\":\"1766\",\"type\":\"CumSum\"},{\"attributes\":{\"data\":{\"Angle\":{\"__ndarray__\":\"yn607qwtBEBmwW1JqpEDQAA0zOA+CfU/\",\"dtype\":\"float64\",\"order\":\"little\",\"shape\":[3]},\"Murdered\":[\"Not Murdered\",\"Murdered\",\"Missing\"],\"Value\":[894,867,466],\"color\":[\"#3182bd\",\"#6baed6\",\"#9ecae1\"],\"index\":[0,1,2]},\"selected\":{\"id\":\"1782\"},\"selection_policy\":{\"id\":\"1781\"}},\"id\":\"1768\",\"type\":\"ColumnDataSource\"},{\"attributes\":{\"text\":\"Ration of Murdered Vs. Not Murdered\"},\"id\":\"1745\",\"type\":\"Title\"},{\"attributes\":{\"data_source\":{\"id\":\"1768\"},\"glyph\":{\"id\":\"1770\"},\"hover_glyph\":null,\"muted_glyph\":null,\"nonselection_glyph\":{\"id\":\"1771\"},\"view\":{\"id\":\"1773\"}},\"id\":\"1772\",\"type\":\"GlyphRenderer\"},{\"attributes\":{\"axis\":{\"id\":\"1759\"},\"dimension\":1,\"grid_line_color\":null,\"ticker\":null},\"id\":\"1762\",\"type\":\"Grid\"},{\"attributes\":{},\"id\":\"1782\",\"type\":\"Selection\"},{\"attributes\":{},\"id\":\"1751\",\"type\":\"LinearScale\"},{\"attributes\":{\"axis_label\":null,\"formatter\":{\"id\":\"1780\"},\"major_label_policy\":{\"id\":\"1778\"},\"ticker\":{\"id\":\"1760\"},\"visible\":false},\"id\":\"1759\",\"type\":\"LinearAxis\"},{\"attributes\":{\"end\":0.5,\"start\":-0.5},\"id\":\"1747\",\"type\":\"Range1d\"},{\"attributes\":{},\"id\":\"1753\",\"type\":\"LinearScale\"},{\"attributes\":{\"label\":{\"field\":\"Murdered\"},\"renderers\":[{\"id\":\"1772\"}]},\"id\":\"1784\",\"type\":\"LegendItem\"},{\"attributes\":{},\"id\":\"1749\",\"type\":\"DataRange1d\"},{\"attributes\":{\"axis_label\":null,\"formatter\":{\"id\":\"1777\"},\"major_label_policy\":{\"id\":\"1775\"},\"ticker\":{\"id\":\"1756\"},\"visible\":false},\"id\":\"1755\",\"type\":\"LinearAxis\"},{\"attributes\":{},\"id\":\"1756\",\"type\":\"BasicTicker\"},{\"attributes\":{\"end_angle\":{\"expr\":{\"id\":\"1767\"}},\"fill_alpha\":{\"value\":0.1},\"fill_color\":{\"field\":\"color\"},\"inner_radius\":{\"value\":0.15},\"line_alpha\":{\"value\":0.1},\"line_color\":{\"value\":\"white\"},\"outer_radius\":{\"value\":0.25},\"start_angle\":{\"expr\":{\"id\":\"1766\"}},\"x\":{\"value\":0},\"y\":{\"value\":1}},\"id\":\"1771\",\"type\":\"AnnularWedge\"},{\"attributes\":{\"axis\":{\"id\":\"1755\"},\"grid_line_color\":null,\"ticker\":null},\"id\":\"1758\",\"type\":\"Grid\"},{\"attributes\":{\"items\":[{\"id\":\"1784\"}]},\"id\":\"1783\",\"type\":\"Legend\"},{\"attributes\":{},\"id\":\"1760\",\"type\":\"BasicTicker\"},{\"attributes\":{},\"id\":\"1781\",\"type\":\"UnionRenderers\"},{\"attributes\":{\"callback\":null,\"tooltips\":\"@Murdered: @Value\"},\"id\":\"1763\",\"type\":\"HoverTool\"},{\"attributes\":{\"active_multi\":null,\"tools\":[{\"id\":\"1763\"}]},\"id\":\"1764\",\"type\":\"Toolbar\"},{\"attributes\":{\"source\":{\"id\":\"1768\"}},\"id\":\"1773\",\"type\":\"CDSView\"}],\"root_ids\":[\"1744\"]},\"title\":\"Bokeh Application\",\"version\":\"2.3.2\"}};\n  var render_items = [{\"docid\":\"aa435ee6-f0ca-4d66-8bed-84d3a084b4e9\",\"root_ids\":[\"1744\"],\"roots\":{\"1744\":\"07df3ba4-fc60-421c-9073-a85dbc36ce2e\"}}];\n  root.Bokeh.embed.embed_items_notebook(docs_json, render_items);\n\n  }\n  if (root.Bokeh !== undefined) {\n    embed_document(root);\n  } else {\n    var attempts = 0;\n    var timer = setInterval(function(root) {\n      if (root.Bokeh !== undefined) {\n        clearInterval(timer);\n        embed_document(root);\n      } else {\n        attempts++;\n        if (attempts > 100) {\n          clearInterval(timer);\n          console.log(\"Bokeh: ERROR: Unable to run BokehJS code because BokehJS library is missing\");\n        }\n      }\n    }, 10, root)\n  }\n})(window);",
      "application/vnd.bokehjs_exec.v0+json": ""
     },
     "metadata": {
      "application/vnd.bokehjs_exec.v0+json": {
       "id": "1744"
      }
     },
     "output_type": "display_data"
    }
   ],
   "source": [
    "fig = figure(plot_height=350, title='Ration of Murdered Vs. Not Murdered', \n",
    "                toolbar_location=None, tools='hover', \n",
    "                tooltips='@Murdered: @Value', x_range=(-.5, .5))\n",
    "fig.annular_wedge(x=0, y=1, inner_radius=0.15, \n",
    "                    outer_radius=0.25, direction='anticlock', \n",
    "                    start_angle=cumsum('Angle', include_zero=True), \n",
    "                    end_angle=cumsum('Angle'), line_color='white', \n",
    "                    fill_color='color', legend='Murdered', source=df_mur)\n",
    "fig.axis.axis_label=None\n",
    "fig.axis.visible=False\n",
    "fig.grid.grid_line_color=None\n",
    "show(fig)"
   ]
  },
  {
   "cell_type": "markdown",
   "metadata": {},
   "source": [
    "### Scatter Plot"
   ]
  },
  {
   "cell_type": "code",
   "execution_count": 25,
   "metadata": {},
   "outputs": [
    {
     "data": {
      "text/plain": [
       "Index(['Game Completed Date', 'Team', 'Outcome', 'Task Completed',\n",
       "       'All Tasks Completed', 'Murdered', 'Imposter Kills', 'Game Length',\n",
       "       'Ejected', 'Sabotages Fixed', 'Time to complete all tasks',\n",
       "       'Rank Change', 'Region/Game Code', 'User ID', 'Min'],\n",
       "      dtype='object')"
      ]
     },
     "execution_count": 25,
     "metadata": {},
     "output_type": "execute_result"
    }
   ],
   "source": [
    "df.columns"
   ]
  },
  {
   "cell_type": "code",
   "execution_count": 26,
   "metadata": {},
   "outputs": [
    {
     "ename": "TypeError",
     "evalue": "unhashable type: 'list'",
     "output_type": "error",
     "traceback": [
      "\u001b[1;31m---------------------------------------------------------------------------\u001b[0m",
      "\u001b[1;31mTypeError\u001b[0m                                 Traceback (most recent call last)",
      "\u001b[1;32m<ipython-input-26-f82524edb634>\u001b[0m in \u001b[0;36m<module>\u001b[1;34m\u001b[0m\n\u001b[1;32m----> 1\u001b[1;33m \u001b[0mdf_min\u001b[0m \u001b[1;33m=\u001b[0m \u001b[0mpd\u001b[0m\u001b[1;33m.\u001b[0m\u001b[0mcrosstab\u001b[0m\u001b[1;33m(\u001b[0m\u001b[0mdf\u001b[0m\u001b[1;33m[\u001b[0m\u001b[1;34m'Min'\u001b[0m\u001b[1;33m]\u001b[0m\u001b[1;33m,\u001b[0m \u001b[0mdf\u001b[0m\u001b[1;33m[\u001b[0m\u001b[1;34m'Sabotages Fixed'\u001b[0m\u001b[1;33m]\u001b[0m\u001b[1;33m)\u001b[0m\u001b[1;33m\u001b[0m\u001b[1;33m\u001b[0m\u001b[0m\n\u001b[0m\u001b[0;32m      2\u001b[0m df_min = df_min.rename(columns={0.0: '0T', \n\u001b[0;32m      3\u001b[0m                                 \u001b[1;36m1.0\u001b[0m\u001b[1;33m:\u001b[0m \u001b[1;34m'1T'\u001b[0m\u001b[1;33m,\u001b[0m\u001b[1;33m\u001b[0m\u001b[1;33m\u001b[0m\u001b[0m\n\u001b[0;32m      4\u001b[0m                                 \u001b[1;36m2.0\u001b[0m\u001b[1;33m:\u001b[0m \u001b[1;34m'2T'\u001b[0m\u001b[1;33m,\u001b[0m\u001b[1;33m\u001b[0m\u001b[1;33m\u001b[0m\u001b[0m\n\u001b[0;32m      5\u001b[0m                                 \u001b[1;36m3.0\u001b[0m\u001b[1;33m:\u001b[0m \u001b[1;34m'3T'\u001b[0m\u001b[1;33m,\u001b[0m\u001b[1;33m\u001b[0m\u001b[1;33m\u001b[0m\u001b[0m\n",
      "\u001b[1;32mC:\\ProgramData\\Anaconda3\\lib\\site-packages\\pandas\\core\\reshape\\pivot.py\u001b[0m in \u001b[0;36mcrosstab\u001b[1;34m(index, columns, values, rownames, colnames, aggfunc, margins, margins_name, dropna, normalize)\u001b[0m\n\u001b[0;32m    606\u001b[0m         \u001b[0mkwargs\u001b[0m \u001b[1;33m=\u001b[0m \u001b[1;33m{\u001b[0m\u001b[1;34m\"aggfunc\"\u001b[0m\u001b[1;33m:\u001b[0m \u001b[0maggfunc\u001b[0m\u001b[1;33m}\u001b[0m\u001b[1;33m\u001b[0m\u001b[1;33m\u001b[0m\u001b[0m\n\u001b[0;32m    607\u001b[0m \u001b[1;33m\u001b[0m\u001b[0m\n\u001b[1;32m--> 608\u001b[1;33m     table = df.pivot_table(\n\u001b[0m\u001b[0;32m    609\u001b[0m         \u001b[1;33m[\u001b[0m\u001b[1;34m\"__dummy__\"\u001b[0m\u001b[1;33m]\u001b[0m\u001b[1;33m,\u001b[0m\u001b[1;33m\u001b[0m\u001b[1;33m\u001b[0m\u001b[0m\n\u001b[0;32m    610\u001b[0m         \u001b[0mindex\u001b[0m\u001b[1;33m=\u001b[0m\u001b[0munique_rownames\u001b[0m\u001b[1;33m,\u001b[0m\u001b[1;33m\u001b[0m\u001b[1;33m\u001b[0m\u001b[0m\n",
      "\u001b[1;32mC:\\ProgramData\\Anaconda3\\lib\\site-packages\\pandas\\core\\frame.py\u001b[0m in \u001b[0;36mpivot_table\u001b[1;34m(self, values, index, columns, aggfunc, fill_value, margins, dropna, margins_name, observed)\u001b[0m\n\u001b[0;32m   7029\u001b[0m         \u001b[1;32mfrom\u001b[0m \u001b[0mpandas\u001b[0m\u001b[1;33m.\u001b[0m\u001b[0mcore\u001b[0m\u001b[1;33m.\u001b[0m\u001b[0mreshape\u001b[0m\u001b[1;33m.\u001b[0m\u001b[0mpivot\u001b[0m \u001b[1;32mimport\u001b[0m \u001b[0mpivot_table\u001b[0m\u001b[1;33m\u001b[0m\u001b[1;33m\u001b[0m\u001b[0m\n\u001b[0;32m   7030\u001b[0m \u001b[1;33m\u001b[0m\u001b[0m\n\u001b[1;32m-> 7031\u001b[1;33m         return pivot_table(\n\u001b[0m\u001b[0;32m   7032\u001b[0m             \u001b[0mself\u001b[0m\u001b[1;33m,\u001b[0m\u001b[1;33m\u001b[0m\u001b[1;33m\u001b[0m\u001b[0m\n\u001b[0;32m   7033\u001b[0m             \u001b[0mvalues\u001b[0m\u001b[1;33m=\u001b[0m\u001b[0mvalues\u001b[0m\u001b[1;33m,\u001b[0m\u001b[1;33m\u001b[0m\u001b[1;33m\u001b[0m\u001b[0m\n",
      "\u001b[1;32mC:\\ProgramData\\Anaconda3\\lib\\site-packages\\pandas\\core\\reshape\\pivot.py\u001b[0m in \u001b[0;36mpivot_table\u001b[1;34m(data, values, index, columns, aggfunc, fill_value, margins, dropna, margins_name, observed)\u001b[0m\n\u001b[0;32m    111\u001b[0m \u001b[1;33m\u001b[0m\u001b[0m\n\u001b[0;32m    112\u001b[0m     \u001b[0mgrouped\u001b[0m \u001b[1;33m=\u001b[0m \u001b[0mdata\u001b[0m\u001b[1;33m.\u001b[0m\u001b[0mgroupby\u001b[0m\u001b[1;33m(\u001b[0m\u001b[0mkeys\u001b[0m\u001b[1;33m,\u001b[0m \u001b[0mobserved\u001b[0m\u001b[1;33m=\u001b[0m\u001b[0mobserved\u001b[0m\u001b[1;33m)\u001b[0m\u001b[1;33m\u001b[0m\u001b[1;33m\u001b[0m\u001b[0m\n\u001b[1;32m--> 113\u001b[1;33m     \u001b[0magged\u001b[0m \u001b[1;33m=\u001b[0m \u001b[0mgrouped\u001b[0m\u001b[1;33m.\u001b[0m\u001b[0magg\u001b[0m\u001b[1;33m(\u001b[0m\u001b[0maggfunc\u001b[0m\u001b[1;33m)\u001b[0m\u001b[1;33m\u001b[0m\u001b[1;33m\u001b[0m\u001b[0m\n\u001b[0m\u001b[0;32m    114\u001b[0m     \u001b[1;32mif\u001b[0m \u001b[0mdropna\u001b[0m \u001b[1;32mand\u001b[0m \u001b[0misinstance\u001b[0m\u001b[1;33m(\u001b[0m\u001b[0magged\u001b[0m\u001b[1;33m,\u001b[0m \u001b[0mABCDataFrame\u001b[0m\u001b[1;33m)\u001b[0m \u001b[1;32mand\u001b[0m \u001b[0mlen\u001b[0m\u001b[1;33m(\u001b[0m\u001b[0magged\u001b[0m\u001b[1;33m.\u001b[0m\u001b[0mcolumns\u001b[0m\u001b[1;33m)\u001b[0m\u001b[1;33m:\u001b[0m\u001b[1;33m\u001b[0m\u001b[1;33m\u001b[0m\u001b[0m\n\u001b[0;32m    115\u001b[0m         \u001b[0magged\u001b[0m \u001b[1;33m=\u001b[0m \u001b[0magged\u001b[0m\u001b[1;33m.\u001b[0m\u001b[0mdropna\u001b[0m\u001b[1;33m(\u001b[0m\u001b[0mhow\u001b[0m\u001b[1;33m=\u001b[0m\u001b[1;34m\"all\"\u001b[0m\u001b[1;33m)\u001b[0m\u001b[1;33m\u001b[0m\u001b[1;33m\u001b[0m\u001b[0m\n",
      "\u001b[1;32mC:\\ProgramData\\Anaconda3\\lib\\site-packages\\pandas\\core\\groupby\\generic.py\u001b[0m in \u001b[0;36maggregate\u001b[1;34m(self, func, engine, engine_kwargs, *args, **kwargs)\u001b[0m\n\u001b[0;32m    951\u001b[0m             \u001b[1;31m# grouper specific aggregations\u001b[0m\u001b[1;33m\u001b[0m\u001b[1;33m\u001b[0m\u001b[1;33m\u001b[0m\u001b[0m\n\u001b[0;32m    952\u001b[0m             \u001b[1;32mif\u001b[0m \u001b[0mself\u001b[0m\u001b[1;33m.\u001b[0m\u001b[0mgrouper\u001b[0m\u001b[1;33m.\u001b[0m\u001b[0mnkeys\u001b[0m \u001b[1;33m>\u001b[0m \u001b[1;36m1\u001b[0m\u001b[1;33m:\u001b[0m\u001b[1;33m\u001b[0m\u001b[1;33m\u001b[0m\u001b[0m\n\u001b[1;32m--> 953\u001b[1;33m                 \u001b[1;32mreturn\u001b[0m \u001b[0mself\u001b[0m\u001b[1;33m.\u001b[0m\u001b[0m_python_agg_general\u001b[0m\u001b[1;33m(\u001b[0m\u001b[0mfunc\u001b[0m\u001b[1;33m,\u001b[0m \u001b[1;33m*\u001b[0m\u001b[0margs\u001b[0m\u001b[1;33m,\u001b[0m \u001b[1;33m**\u001b[0m\u001b[0mkwargs\u001b[0m\u001b[1;33m)\u001b[0m\u001b[1;33m\u001b[0m\u001b[1;33m\u001b[0m\u001b[0m\n\u001b[0m\u001b[0;32m    954\u001b[0m             \u001b[1;32melif\u001b[0m \u001b[0margs\u001b[0m \u001b[1;32mor\u001b[0m \u001b[0mkwargs\u001b[0m\u001b[1;33m:\u001b[0m\u001b[1;33m\u001b[0m\u001b[1;33m\u001b[0m\u001b[0m\n\u001b[0;32m    955\u001b[0m                 \u001b[0mresult\u001b[0m \u001b[1;33m=\u001b[0m \u001b[0mself\u001b[0m\u001b[1;33m.\u001b[0m\u001b[0m_aggregate_frame\u001b[0m\u001b[1;33m(\u001b[0m\u001b[0mfunc\u001b[0m\u001b[1;33m,\u001b[0m \u001b[1;33m*\u001b[0m\u001b[0margs\u001b[0m\u001b[1;33m,\u001b[0m \u001b[1;33m**\u001b[0m\u001b[0mkwargs\u001b[0m\u001b[1;33m)\u001b[0m\u001b[1;33m\u001b[0m\u001b[1;33m\u001b[0m\u001b[0m\n",
      "\u001b[1;32mC:\\ProgramData\\Anaconda3\\lib\\site-packages\\pandas\\core\\groupby\\groupby.py\u001b[0m in \u001b[0;36m_python_agg_general\u001b[1;34m(self, func, *args, **kwargs)\u001b[0m\n\u001b[0;32m   1165\u001b[0m         \u001b[1;32mfor\u001b[0m \u001b[0midx\u001b[0m\u001b[1;33m,\u001b[0m \u001b[0mobj\u001b[0m \u001b[1;32min\u001b[0m \u001b[0menumerate\u001b[0m\u001b[1;33m(\u001b[0m\u001b[0mself\u001b[0m\u001b[1;33m.\u001b[0m\u001b[0m_iterate_slices\u001b[0m\u001b[1;33m(\u001b[0m\u001b[1;33m)\u001b[0m\u001b[1;33m)\u001b[0m\u001b[1;33m:\u001b[0m\u001b[1;33m\u001b[0m\u001b[1;33m\u001b[0m\u001b[0m\n\u001b[0;32m   1166\u001b[0m             \u001b[0mname\u001b[0m \u001b[1;33m=\u001b[0m \u001b[0mobj\u001b[0m\u001b[1;33m.\u001b[0m\u001b[0mname\u001b[0m\u001b[1;33m\u001b[0m\u001b[1;33m\u001b[0m\u001b[0m\n\u001b[1;32m-> 1167\u001b[1;33m             \u001b[1;32mif\u001b[0m \u001b[0mself\u001b[0m\u001b[1;33m.\u001b[0m\u001b[0mgrouper\u001b[0m\u001b[1;33m.\u001b[0m\u001b[0mngroups\u001b[0m \u001b[1;33m==\u001b[0m \u001b[1;36m0\u001b[0m\u001b[1;33m:\u001b[0m\u001b[1;33m\u001b[0m\u001b[1;33m\u001b[0m\u001b[0m\n\u001b[0m\u001b[0;32m   1168\u001b[0m                 \u001b[1;31m# agg_series below assumes ngroups > 0\u001b[0m\u001b[1;33m\u001b[0m\u001b[1;33m\u001b[0m\u001b[1;33m\u001b[0m\u001b[0m\n\u001b[0;32m   1169\u001b[0m                 \u001b[1;32mcontinue\u001b[0m\u001b[1;33m\u001b[0m\u001b[1;33m\u001b[0m\u001b[0m\n",
      "\u001b[1;32m~\\AppData\\Roaming\\Python\\Python38\\site-packages\\pandas\\_libs\\properties.pyx\u001b[0m in \u001b[0;36mpandas._libs.properties.CachedProperty.__get__\u001b[1;34m()\u001b[0m\n",
      "\u001b[1;32mC:\\ProgramData\\Anaconda3\\lib\\site-packages\\pandas\\core\\groupby\\ops.py\u001b[0m in \u001b[0;36mngroups\u001b[1;34m(self)\u001b[0m\n\u001b[0;32m    327\u001b[0m     \u001b[1;33m@\u001b[0m\u001b[0mcache_readonly\u001b[0m\u001b[1;33m\u001b[0m\u001b[1;33m\u001b[0m\u001b[0m\n\u001b[0;32m    328\u001b[0m     \u001b[1;32mdef\u001b[0m \u001b[0mngroups\u001b[0m\u001b[1;33m(\u001b[0m\u001b[0mself\u001b[0m\u001b[1;33m)\u001b[0m \u001b[1;33m->\u001b[0m \u001b[0mint\u001b[0m\u001b[1;33m:\u001b[0m\u001b[1;33m\u001b[0m\u001b[1;33m\u001b[0m\u001b[0m\n\u001b[1;32m--> 329\u001b[1;33m         \u001b[1;32mreturn\u001b[0m \u001b[0mlen\u001b[0m\u001b[1;33m(\u001b[0m\u001b[0mself\u001b[0m\u001b[1;33m.\u001b[0m\u001b[0mresult_index\u001b[0m\u001b[1;33m)\u001b[0m\u001b[1;33m\u001b[0m\u001b[1;33m\u001b[0m\u001b[0m\n\u001b[0m\u001b[0;32m    330\u001b[0m \u001b[1;33m\u001b[0m\u001b[0m\n\u001b[0;32m    331\u001b[0m     \u001b[1;33m@\u001b[0m\u001b[0mproperty\u001b[0m\u001b[1;33m\u001b[0m\u001b[1;33m\u001b[0m\u001b[0m\n",
      "\u001b[1;32m~\\AppData\\Roaming\\Python\\Python38\\site-packages\\pandas\\_libs\\properties.pyx\u001b[0m in \u001b[0;36mpandas._libs.properties.CachedProperty.__get__\u001b[1;34m()\u001b[0m\n",
      "\u001b[1;32mC:\\ProgramData\\Anaconda3\\lib\\site-packages\\pandas\\core\\groupby\\ops.py\u001b[0m in \u001b[0;36mresult_index\u001b[1;34m(self)\u001b[0m\n\u001b[0;32m    340\u001b[0m             \u001b[1;32mreturn\u001b[0m \u001b[0mself\u001b[0m\u001b[1;33m.\u001b[0m\u001b[0mgroupings\u001b[0m\u001b[1;33m[\u001b[0m\u001b[1;36m0\u001b[0m\u001b[1;33m]\u001b[0m\u001b[1;33m.\u001b[0m\u001b[0mresult_index\u001b[0m\u001b[1;33m.\u001b[0m\u001b[0mrename\u001b[0m\u001b[1;33m(\u001b[0m\u001b[0mself\u001b[0m\u001b[1;33m.\u001b[0m\u001b[0mnames\u001b[0m\u001b[1;33m[\u001b[0m\u001b[1;36m0\u001b[0m\u001b[1;33m]\u001b[0m\u001b[1;33m)\u001b[0m\u001b[1;33m\u001b[0m\u001b[1;33m\u001b[0m\u001b[0m\n\u001b[0;32m    341\u001b[0m \u001b[1;33m\u001b[0m\u001b[0m\n\u001b[1;32m--> 342\u001b[1;33m         \u001b[0mcodes\u001b[0m \u001b[1;33m=\u001b[0m \u001b[0mself\u001b[0m\u001b[1;33m.\u001b[0m\u001b[0mreconstructed_codes\u001b[0m\u001b[1;33m\u001b[0m\u001b[1;33m\u001b[0m\u001b[0m\n\u001b[0m\u001b[0;32m    343\u001b[0m         \u001b[0mlevels\u001b[0m \u001b[1;33m=\u001b[0m \u001b[1;33m[\u001b[0m\u001b[0mping\u001b[0m\u001b[1;33m.\u001b[0m\u001b[0mresult_index\u001b[0m \u001b[1;32mfor\u001b[0m \u001b[0mping\u001b[0m \u001b[1;32min\u001b[0m \u001b[0mself\u001b[0m\u001b[1;33m.\u001b[0m\u001b[0mgroupings\u001b[0m\u001b[1;33m]\u001b[0m\u001b[1;33m\u001b[0m\u001b[1;33m\u001b[0m\u001b[0m\n\u001b[0;32m    344\u001b[0m         return MultiIndex(\n",
      "\u001b[1;32mC:\\ProgramData\\Anaconda3\\lib\\site-packages\\pandas\\core\\groupby\\ops.py\u001b[0m in \u001b[0;36mreconstructed_codes\u001b[1;34m(self)\u001b[0m\n\u001b[0;32m    331\u001b[0m     \u001b[1;33m@\u001b[0m\u001b[0mproperty\u001b[0m\u001b[1;33m\u001b[0m\u001b[1;33m\u001b[0m\u001b[0m\n\u001b[0;32m    332\u001b[0m     \u001b[1;32mdef\u001b[0m \u001b[0mreconstructed_codes\u001b[0m\u001b[1;33m(\u001b[0m\u001b[0mself\u001b[0m\u001b[1;33m)\u001b[0m \u001b[1;33m->\u001b[0m \u001b[0mList\u001b[0m\u001b[1;33m[\u001b[0m\u001b[0mnp\u001b[0m\u001b[1;33m.\u001b[0m\u001b[0mndarray\u001b[0m\u001b[1;33m]\u001b[0m\u001b[1;33m:\u001b[0m\u001b[1;33m\u001b[0m\u001b[1;33m\u001b[0m\u001b[0m\n\u001b[1;32m--> 333\u001b[1;33m         \u001b[0mcodes\u001b[0m \u001b[1;33m=\u001b[0m \u001b[0mself\u001b[0m\u001b[1;33m.\u001b[0m\u001b[0mcodes\u001b[0m\u001b[1;33m\u001b[0m\u001b[1;33m\u001b[0m\u001b[0m\n\u001b[0m\u001b[0;32m    334\u001b[0m         \u001b[0mcomp_ids\u001b[0m\u001b[1;33m,\u001b[0m \u001b[0mobs_ids\u001b[0m\u001b[1;33m,\u001b[0m \u001b[0m_\u001b[0m \u001b[1;33m=\u001b[0m \u001b[0mself\u001b[0m\u001b[1;33m.\u001b[0m\u001b[0mgroup_info\u001b[0m\u001b[1;33m\u001b[0m\u001b[1;33m\u001b[0m\u001b[0m\n\u001b[0;32m    335\u001b[0m         \u001b[1;32mreturn\u001b[0m \u001b[0mdecons_obs_group_ids\u001b[0m\u001b[1;33m(\u001b[0m\u001b[0mcomp_ids\u001b[0m\u001b[1;33m,\u001b[0m \u001b[0mobs_ids\u001b[0m\u001b[1;33m,\u001b[0m \u001b[0mself\u001b[0m\u001b[1;33m.\u001b[0m\u001b[0mshape\u001b[0m\u001b[1;33m,\u001b[0m \u001b[0mcodes\u001b[0m\u001b[1;33m,\u001b[0m \u001b[0mxnull\u001b[0m\u001b[1;33m=\u001b[0m\u001b[1;32mTrue\u001b[0m\u001b[1;33m)\u001b[0m\u001b[1;33m\u001b[0m\u001b[1;33m\u001b[0m\u001b[0m\n",
      "\u001b[1;32mC:\\ProgramData\\Anaconda3\\lib\\site-packages\\pandas\\core\\groupby\\ops.py\u001b[0m in \u001b[0;36mcodes\u001b[1;34m(self)\u001b[0m\n\u001b[0;32m    257\u001b[0m     \u001b[1;33m@\u001b[0m\u001b[0mproperty\u001b[0m\u001b[1;33m\u001b[0m\u001b[1;33m\u001b[0m\u001b[0m\n\u001b[0;32m    258\u001b[0m     \u001b[1;32mdef\u001b[0m \u001b[0mcodes\u001b[0m\u001b[1;33m(\u001b[0m\u001b[0mself\u001b[0m\u001b[1;33m)\u001b[0m \u001b[1;33m->\u001b[0m \u001b[0mList\u001b[0m\u001b[1;33m[\u001b[0m\u001b[0mnp\u001b[0m\u001b[1;33m.\u001b[0m\u001b[0mndarray\u001b[0m\u001b[1;33m]\u001b[0m\u001b[1;33m:\u001b[0m\u001b[1;33m\u001b[0m\u001b[1;33m\u001b[0m\u001b[0m\n\u001b[1;32m--> 259\u001b[1;33m         \u001b[1;32mreturn\u001b[0m \u001b[1;33m[\u001b[0m\u001b[0mping\u001b[0m\u001b[1;33m.\u001b[0m\u001b[0mcodes\u001b[0m \u001b[1;32mfor\u001b[0m \u001b[0mping\u001b[0m \u001b[1;32min\u001b[0m \u001b[0mself\u001b[0m\u001b[1;33m.\u001b[0m\u001b[0mgroupings\u001b[0m\u001b[1;33m]\u001b[0m\u001b[1;33m\u001b[0m\u001b[1;33m\u001b[0m\u001b[0m\n\u001b[0m\u001b[0;32m    260\u001b[0m \u001b[1;33m\u001b[0m\u001b[0m\n\u001b[0;32m    261\u001b[0m     \u001b[1;33m@\u001b[0m\u001b[0mproperty\u001b[0m\u001b[1;33m\u001b[0m\u001b[1;33m\u001b[0m\u001b[0m\n",
      "\u001b[1;32mC:\\ProgramData\\Anaconda3\\lib\\site-packages\\pandas\\core\\groupby\\ops.py\u001b[0m in \u001b[0;36m<listcomp>\u001b[1;34m(.0)\u001b[0m\n\u001b[0;32m    257\u001b[0m     \u001b[1;33m@\u001b[0m\u001b[0mproperty\u001b[0m\u001b[1;33m\u001b[0m\u001b[1;33m\u001b[0m\u001b[0m\n\u001b[0;32m    258\u001b[0m     \u001b[1;32mdef\u001b[0m \u001b[0mcodes\u001b[0m\u001b[1;33m(\u001b[0m\u001b[0mself\u001b[0m\u001b[1;33m)\u001b[0m \u001b[1;33m->\u001b[0m \u001b[0mList\u001b[0m\u001b[1;33m[\u001b[0m\u001b[0mnp\u001b[0m\u001b[1;33m.\u001b[0m\u001b[0mndarray\u001b[0m\u001b[1;33m]\u001b[0m\u001b[1;33m:\u001b[0m\u001b[1;33m\u001b[0m\u001b[1;33m\u001b[0m\u001b[0m\n\u001b[1;32m--> 259\u001b[1;33m         \u001b[1;32mreturn\u001b[0m \u001b[1;33m[\u001b[0m\u001b[0mping\u001b[0m\u001b[1;33m.\u001b[0m\u001b[0mcodes\u001b[0m \u001b[1;32mfor\u001b[0m \u001b[0mping\u001b[0m \u001b[1;32min\u001b[0m \u001b[0mself\u001b[0m\u001b[1;33m.\u001b[0m\u001b[0mgroupings\u001b[0m\u001b[1;33m]\u001b[0m\u001b[1;33m\u001b[0m\u001b[1;33m\u001b[0m\u001b[0m\n\u001b[0m\u001b[0;32m    260\u001b[0m \u001b[1;33m\u001b[0m\u001b[0m\n\u001b[0;32m    261\u001b[0m     \u001b[1;33m@\u001b[0m\u001b[0mproperty\u001b[0m\u001b[1;33m\u001b[0m\u001b[1;33m\u001b[0m\u001b[0m\n",
      "\u001b[1;32mC:\\ProgramData\\Anaconda3\\lib\\site-packages\\pandas\\core\\groupby\\grouper.py\u001b[0m in \u001b[0;36mcodes\u001b[1;34m(self)\u001b[0m\n\u001b[0;32m    589\u001b[0m     \u001b[1;32mdef\u001b[0m \u001b[0mcodes\u001b[0m\u001b[1;33m(\u001b[0m\u001b[0mself\u001b[0m\u001b[1;33m)\u001b[0m \u001b[1;33m->\u001b[0m \u001b[0mnp\u001b[0m\u001b[1;33m.\u001b[0m\u001b[0mndarray\u001b[0m\u001b[1;33m:\u001b[0m\u001b[1;33m\u001b[0m\u001b[1;33m\u001b[0m\u001b[0m\n\u001b[0;32m    590\u001b[0m         \u001b[1;32mif\u001b[0m \u001b[0mself\u001b[0m\u001b[1;33m.\u001b[0m\u001b[0m_codes\u001b[0m \u001b[1;32mis\u001b[0m \u001b[1;32mNone\u001b[0m\u001b[1;33m:\u001b[0m\u001b[1;33m\u001b[0m\u001b[1;33m\u001b[0m\u001b[0m\n\u001b[1;32m--> 591\u001b[1;33m             \u001b[0mself\u001b[0m\u001b[1;33m.\u001b[0m\u001b[0m_make_codes\u001b[0m\u001b[1;33m(\u001b[0m\u001b[1;33m)\u001b[0m\u001b[1;33m\u001b[0m\u001b[1;33m\u001b[0m\u001b[0m\n\u001b[0m\u001b[0;32m    592\u001b[0m         \u001b[1;32mreturn\u001b[0m \u001b[0mself\u001b[0m\u001b[1;33m.\u001b[0m\u001b[0m_codes\u001b[0m\u001b[1;33m\u001b[0m\u001b[1;33m\u001b[0m\u001b[0m\n\u001b[0;32m    593\u001b[0m \u001b[1;33m\u001b[0m\u001b[0m\n",
      "\u001b[1;32mC:\\ProgramData\\Anaconda3\\lib\\site-packages\\pandas\\core\\groupby\\grouper.py\u001b[0m in \u001b[0;36m_make_codes\u001b[1;34m(self)\u001b[0m\n\u001b[0;32m    621\u001b[0m             \u001b[1;32melse\u001b[0m\u001b[1;33m:\u001b[0m\u001b[1;33m\u001b[0m\u001b[1;33m\u001b[0m\u001b[0m\n\u001b[0;32m    622\u001b[0m                 \u001b[0mna_sentinel\u001b[0m \u001b[1;33m=\u001b[0m \u001b[1;33m-\u001b[0m\u001b[1;36m1\u001b[0m\u001b[1;33m\u001b[0m\u001b[1;33m\u001b[0m\u001b[0m\n\u001b[1;32m--> 623\u001b[1;33m             codes, uniques = algorithms.factorize(\n\u001b[0m\u001b[0;32m    624\u001b[0m                 \u001b[0mself\u001b[0m\u001b[1;33m.\u001b[0m\u001b[0mgrouper\u001b[0m\u001b[1;33m,\u001b[0m \u001b[0msort\u001b[0m\u001b[1;33m=\u001b[0m\u001b[0mself\u001b[0m\u001b[1;33m.\u001b[0m\u001b[0msort\u001b[0m\u001b[1;33m,\u001b[0m \u001b[0mna_sentinel\u001b[0m\u001b[1;33m=\u001b[0m\u001b[0mna_sentinel\u001b[0m\u001b[1;33m\u001b[0m\u001b[1;33m\u001b[0m\u001b[0m\n\u001b[0;32m    625\u001b[0m             )\n",
      "\u001b[1;32mC:\\ProgramData\\Anaconda3\\lib\\site-packages\\pandas\\core\\algorithms.py\u001b[0m in \u001b[0;36mfactorize\u001b[1;34m(values, sort, na_sentinel, size_hint)\u001b[0m\n\u001b[0;32m    720\u001b[0m             \u001b[0mna_value\u001b[0m \u001b[1;33m=\u001b[0m \u001b[1;32mNone\u001b[0m\u001b[1;33m\u001b[0m\u001b[1;33m\u001b[0m\u001b[0m\n\u001b[0;32m    721\u001b[0m \u001b[1;33m\u001b[0m\u001b[0m\n\u001b[1;32m--> 722\u001b[1;33m         codes, uniques = factorize_array(\n\u001b[0m\u001b[0;32m    723\u001b[0m             \u001b[0mvalues\u001b[0m\u001b[1;33m,\u001b[0m \u001b[0mna_sentinel\u001b[0m\u001b[1;33m=\u001b[0m\u001b[0mna_sentinel\u001b[0m\u001b[1;33m,\u001b[0m \u001b[0msize_hint\u001b[0m\u001b[1;33m=\u001b[0m\u001b[0msize_hint\u001b[0m\u001b[1;33m,\u001b[0m \u001b[0mna_value\u001b[0m\u001b[1;33m=\u001b[0m\u001b[0mna_value\u001b[0m\u001b[1;33m\u001b[0m\u001b[1;33m\u001b[0m\u001b[0m\n\u001b[0;32m    724\u001b[0m         )\n",
      "\u001b[1;32mC:\\ProgramData\\Anaconda3\\lib\\site-packages\\pandas\\core\\algorithms.py\u001b[0m in \u001b[0;36mfactorize_array\u001b[1;34m(values, na_sentinel, size_hint, na_value, mask)\u001b[0m\n\u001b[0;32m    526\u001b[0m \u001b[1;33m\u001b[0m\u001b[0m\n\u001b[0;32m    527\u001b[0m     \u001b[0mtable\u001b[0m \u001b[1;33m=\u001b[0m \u001b[0mhash_klass\u001b[0m\u001b[1;33m(\u001b[0m\u001b[0msize_hint\u001b[0m \u001b[1;32mor\u001b[0m \u001b[0mlen\u001b[0m\u001b[1;33m(\u001b[0m\u001b[0mvalues\u001b[0m\u001b[1;33m)\u001b[0m\u001b[1;33m)\u001b[0m\u001b[1;33m\u001b[0m\u001b[1;33m\u001b[0m\u001b[0m\n\u001b[1;32m--> 528\u001b[1;33m     uniques, codes = table.factorize(\n\u001b[0m\u001b[0;32m    529\u001b[0m         \u001b[0mvalues\u001b[0m\u001b[1;33m,\u001b[0m \u001b[0mna_sentinel\u001b[0m\u001b[1;33m=\u001b[0m\u001b[0mna_sentinel\u001b[0m\u001b[1;33m,\u001b[0m \u001b[0mna_value\u001b[0m\u001b[1;33m=\u001b[0m\u001b[0mna_value\u001b[0m\u001b[1;33m,\u001b[0m \u001b[0mmask\u001b[0m\u001b[1;33m=\u001b[0m\u001b[0mmask\u001b[0m\u001b[1;33m\u001b[0m\u001b[1;33m\u001b[0m\u001b[0m\n\u001b[0;32m    530\u001b[0m     )\n",
      "\u001b[1;32mpandas\\_libs\\hashtable_class_helper.pxi\u001b[0m in \u001b[0;36mpandas._libs.hashtable.PyObjectHashTable.factorize\u001b[1;34m()\u001b[0m\n",
      "\u001b[1;32mpandas\\_libs\\hashtable_class_helper.pxi\u001b[0m in \u001b[0;36mpandas._libs.hashtable.PyObjectHashTable._unique\u001b[1;34m()\u001b[0m\n",
      "\u001b[1;31mTypeError\u001b[0m: unhashable type: 'list'"
     ]
    }
   ],
   "source": [
    "df_min = pd.crosstab(df['Min'], df['Sabotages Fixed']).reset_index()\n",
    "df_min = df_min.rename(columns={0.0: '0T', \n",
    "                                1.0: '1T', \n",
    "                                2.0: '2T', \n",
    "                                3.0: '3T', \n",
    "                                4.0:'4T', \n",
    "                                5.0: '5T'})\n",
    "df_min[:2]"
   ]
  },
  {
   "cell_type": "code",
   "execution_count": 27,
   "metadata": {},
   "outputs": [
    {
     "ename": "NameError",
     "evalue": "name 'df_min' is not defined",
     "output_type": "error",
     "traceback": [
      "\u001b[1;31m---------------------------------------------------------------------------\u001b[0m",
      "\u001b[1;31mNameError\u001b[0m                                 Traceback (most recent call last)",
      "\u001b[1;32m<ipython-input-27-bd7e533701ee>\u001b[0m in \u001b[0;36m<module>\u001b[1;34m\u001b[0m\n\u001b[1;32m----> 1\u001b[1;33m \u001b[0mdf_0\u001b[0m \u001b[1;33m=\u001b[0m \u001b[0mdf_min\u001b[0m\u001b[1;33m[\u001b[0m\u001b[1;33m[\u001b[0m\u001b[1;34m'Min'\u001b[0m\u001b[1;33m,\u001b[0m \u001b[1;34m'0T'\u001b[0m\u001b[1;33m]\u001b[0m\u001b[1;33m]\u001b[0m\u001b[1;33m\u001b[0m\u001b[1;33m\u001b[0m\u001b[0m\n\u001b[0m\u001b[0;32m      2\u001b[0m \u001b[0mdf_1\u001b[0m \u001b[1;33m=\u001b[0m \u001b[0mdf_min\u001b[0m\u001b[1;33m[\u001b[0m\u001b[1;33m[\u001b[0m\u001b[1;34m'Min'\u001b[0m\u001b[1;33m,\u001b[0m \u001b[1;34m'1T'\u001b[0m\u001b[1;33m]\u001b[0m\u001b[1;33m]\u001b[0m\u001b[1;33m\u001b[0m\u001b[1;33m\u001b[0m\u001b[0m\n\u001b[0;32m      3\u001b[0m \u001b[0mdf_2\u001b[0m \u001b[1;33m=\u001b[0m \u001b[0mdf_min\u001b[0m\u001b[1;33m[\u001b[0m\u001b[1;33m[\u001b[0m\u001b[1;34m'Min'\u001b[0m\u001b[1;33m,\u001b[0m \u001b[1;34m'2T'\u001b[0m\u001b[1;33m]\u001b[0m\u001b[1;33m]\u001b[0m\u001b[1;33m\u001b[0m\u001b[1;33m\u001b[0m\u001b[0m\n",
      "\u001b[1;31mNameError\u001b[0m: name 'df_min' is not defined"
     ]
    }
   ],
   "source": [
    "df_0 = df_min[['Min', '0T']]\n",
    "df_1 = df_min[['Min', '1T']]\n",
    "df_2 = df_min[['Min', '2T']]"
   ]
  },
  {
   "cell_type": "code",
   "execution_count": null,
   "metadata": {},
   "outputs": [],
   "source": [
    "df_min.plot_bokeh.scatter(x='Min', y='1T')"
   ]
  },
  {
   "cell_type": "code",
   "execution_count": null,
   "metadata": {},
   "outputs": [],
   "source": [
    "fig = figure(title='Sabotages Fixed Vs. Minutes',\n",
    "            tools='hover',\n",
    "            toolbar_location='above',\n",
    "            toolbar_sticky=False)\n",
    "fig.circle(x='Min', y='0T',\n",
    "            size=12, alpha=0.5,\n",
    "            color='#F78888',\n",
    "            legend_label='0T',\n",
    "            source=df_0)\n",
    "fig.circle(x='Min', y='1T',\n",
    "            size=12, alpha=0.5,\n",
    "            color='blue',\n",
    "            legend_label='1T',\n",
    "            source=df_1)\n",
    "fig.circle(x='Min', y='2T',\n",
    "            size=12, alpha=0.5,\n",
    "            color='#626262',\n",
    "            legend_label='2T',\n",
    "            source=df_2)\n",
    "show(fig)"
   ]
  },
  {
   "cell_type": "markdown",
   "metadata": {},
   "source": [
    "### Histogram"
   ]
  },
  {
   "cell_type": "code",
   "execution_count": 35,
   "metadata": {},
   "outputs": [
    {
     "data": {
      "text/plain": [
       "0       [07m, 04s]\n",
       "1       [16m, 21s]\n",
       "2       [11m, 33s]\n",
       "3       [08m, 05s]\n",
       "4       [05m, 10s]\n",
       "           ...    \n",
       "2222    [11m, 02s]\n",
       "2223    [06m, 56s]\n",
       "2224    [22m, 06s]\n",
       "2225    [13m, 41s]\n",
       "2226    [13m, 27s]\n",
       "Name: Min, Length: 2227, dtype: object"
      ]
     },
     "execution_count": 35,
     "metadata": {},
     "output_type": "execute_result"
    }
   ],
   "source": [
    "df_minutes = df['Min']\n",
    "df_minutes"
   ]
  },
  {
   "cell_type": "code",
   "execution_count": 31,
   "metadata": {},
   "outputs": [
    {
     "ename": "ValueError",
     "evalue": "No numeric data columns found for plotting.",
     "output_type": "error",
     "traceback": [
      "\u001b[1;31m---------------------------------------------------------------------------\u001b[0m",
      "\u001b[1;31mValueError\u001b[0m                                Traceback (most recent call last)",
      "\u001b[1;32m<ipython-input-31-ffb9cac3080e>\u001b[0m in \u001b[0;36m<module>\u001b[1;34m\u001b[0m\n\u001b[1;32m----> 1\u001b[1;33m \u001b[0mdf_minutes\u001b[0m\u001b[1;33m.\u001b[0m\u001b[0mplot_bokeh\u001b[0m\u001b[1;33m(\u001b[0m\u001b[0mkind\u001b[0m\u001b[1;33m=\u001b[0m\u001b[1;34m'hist'\u001b[0m\u001b[1;33m,\u001b[0m \u001b[0mtitle\u001b[0m\u001b[1;33m=\u001b[0m\u001b[1;34m'Distribution of Minutes'\u001b[0m\u001b[1;33m)\u001b[0m\u001b[1;33m\u001b[0m\u001b[1;33m\u001b[0m\u001b[0m\n\u001b[0m",
      "\u001b[1;32mC:\\ProgramData\\Anaconda3\\lib\\site-packages\\pandas_bokeh\\plot.py\u001b[0m in \u001b[0;36mplot\u001b[1;34m(df_in, x, y, kind, figsize, use_index, title, legend, logx, logy, xlabel, ylabel, xticks, yticks, xlim, ylim, fontsize_title, fontsize_label, fontsize_ticks, fontsize_legend, color, colormap, category, histogram_type, stacked, weights, bins, normed, cumulative, show_average, plot_data_points, plot_data_points_size, number_format, disable_scientific_axes, show_figure, return_html, panning, zooming, sizing_mode, toolbar_location, hovertool, hovertool_string, rangetool, vertical_xlabel, x_axis_location, webgl, reuse_plot, **kwargs)\u001b[0m\n\u001b[0;32m    397\u001b[0m \u001b[1;33m\u001b[0m\u001b[0m\n\u001b[0;32m    398\u001b[0m     \u001b[1;31m# Determine data cols to plot (only plot numeric data):\u001b[0m\u001b[1;33m\u001b[0m\u001b[1;33m\u001b[0m\u001b[1;33m\u001b[0m\u001b[0m\n\u001b[1;32m--> 399\u001b[1;33m     \u001b[0mdata_cols\u001b[0m \u001b[1;33m=\u001b[0m \u001b[0m_determine_data_columns\u001b[0m\u001b[1;33m(\u001b[0m\u001b[0my\u001b[0m\u001b[1;33m,\u001b[0m \u001b[0mdf\u001b[0m\u001b[1;33m)\u001b[0m\u001b[1;33m\u001b[0m\u001b[1;33m\u001b[0m\u001b[0m\n\u001b[0m\u001b[0;32m    400\u001b[0m \u001b[1;33m\u001b[0m\u001b[0m\n\u001b[0;32m    401\u001b[0m     \u001b[1;31m# Convert y-column names into string representation:\u001b[0m\u001b[1;33m\u001b[0m\u001b[1;33m\u001b[0m\u001b[1;33m\u001b[0m\u001b[0m\n",
      "\u001b[1;32mC:\\ProgramData\\Anaconda3\\lib\\site-packages\\pandas_bokeh\\plot.py\u001b[0m in \u001b[0;36m_determine_data_columns\u001b[1;34m(y, df)\u001b[0m\n\u001b[0;32m    955\u001b[0m             \u001b[0mdata_cols\u001b[0m\u001b[1;33m.\u001b[0m\u001b[0mappend\u001b[0m\u001b[1;33m(\u001b[0m\u001b[0mcol\u001b[0m\u001b[1;33m)\u001b[0m\u001b[1;33m\u001b[0m\u001b[1;33m\u001b[0m\u001b[0m\n\u001b[0;32m    956\u001b[0m     \u001b[1;32mif\u001b[0m \u001b[0mlen\u001b[0m\u001b[1;33m(\u001b[0m\u001b[0mdata_cols\u001b[0m\u001b[1;33m)\u001b[0m \u001b[1;33m==\u001b[0m \u001b[1;36m0\u001b[0m\u001b[1;33m:\u001b[0m\u001b[1;33m\u001b[0m\u001b[1;33m\u001b[0m\u001b[0m\n\u001b[1;32m--> 957\u001b[1;33m         \u001b[1;32mraise\u001b[0m \u001b[0mValueError\u001b[0m\u001b[1;33m(\u001b[0m\u001b[1;34m\"No numeric data columns found for plotting.\"\u001b[0m\u001b[1;33m)\u001b[0m\u001b[1;33m\u001b[0m\u001b[1;33m\u001b[0m\u001b[0m\n\u001b[0m\u001b[0;32m    958\u001b[0m     \u001b[1;32mreturn\u001b[0m \u001b[0mdata_cols\u001b[0m\u001b[1;33m\u001b[0m\u001b[1;33m\u001b[0m\u001b[0m\n\u001b[0;32m    959\u001b[0m \u001b[1;33m\u001b[0m\u001b[0m\n",
      "\u001b[1;31mValueError\u001b[0m: No numeric data columns found for plotting."
     ]
    }
   ],
   "source": [
    "df_minutes.plot_bokeh(kind='hist', title='Distribution of Minutes')"
   ]
  },
  {
   "cell_type": "code",
   "execution_count": 39,
   "metadata": {},
   "outputs": [
    {
     "data": {
      "text/html": [
       "\n",
       "\n",
       "\n",
       "\n",
       "\n",
       "\n",
       "  <div class=\"bk-root\" id=\"2047140a-9a5b-4f3e-8fe3-2d9155cf9207\" data-root-id=\"1884\"></div>\n"
      ]
     },
     "metadata": {},
     "output_type": "display_data"
    },
    {
     "data": {
      "application/javascript": "(function(root) {\n  function embed_document(root) {\n    \n  var docs_json = {\"2de06fb9-a022-4c1c-aaff-30c374942892\":{\"defs\":[],\"roots\":{\"references\":[{\"attributes\":{\"below\":[{\"id\":\"1895\"}],\"center\":[{\"id\":\"1898\"},{\"id\":\"1902\"},{\"id\":\"1933\"}],\"height\":350,\"left\":[{\"id\":\"1899\"}],\"output_backend\":\"webgl\",\"renderers\":[{\"id\":\"1921\"},{\"id\":\"1941\"}],\"sizing_mode\":\"fixed\",\"title\":{\"id\":\"1885\"},\"toolbar\":{\"id\":\"1910\"},\"width\":750,\"x_range\":{\"id\":\"1887\"},\"x_scale\":{\"id\":\"1891\"},\"y_range\":{\"id\":\"1889\"},\"y_scale\":{\"id\":\"1893\"}},\"id\":\"1884\",\"subtype\":\"Figure\",\"type\":\"Plot\"},{\"attributes\":{\"source\":{\"id\":\"1937\"}},\"id\":\"1942\",\"type\":\"CDSView\"},{\"attributes\":{},\"id\":\"1930\",\"type\":\"UnionRenderers\"},{\"attributes\":{\"data\":{\"bins\":[\"0.0\\uff0d0.9\",\"0.9\\uff0d1.8\",\"1.8\\uff0d2.7\",\"2.7\\uff0d3.6\",\"3.6\\uff0d4.5\",\"4.5\\uff0d5.4\",\"5.4\\uff0d6.3\",\"6.3\\uff0d7.2\",\"7.2\\uff0d8.1\",\"8.1\\uff0d9.0\"],\"bottom\":[0,0,0,0,0,0,0,0,0,0],\"left\":{\"__ndarray__\":\"AAAAAAAAAADNzMzMzMzsP83MzMzMzPw/mpmZmZmZBUDNzMzMzMwMQAAAAAAAABJAmpmZmZmZFUAzMzMzMzMZQM3MzMzMzBxAMzMzMzMzIEA=\",\"dtype\":\"float64\",\"order\":\"little\",\"shape\":[10]},\"right\":{\"__ndarray__\":\"zczMzMzM7D/NzMzMzMz8P5qZmZmZmQVAzczMzMzMDEAAAAAAAAASQJqZmZmZmRVAMzMzMzMzGUDNzMzMzMwcQDMzMzMzMyBAAAAAAAAAIkA=\",\"dtype\":\"float64\",\"order\":\"little\",\"shape\":[10]},\"top\":[96,410,264,119,58,24,7,9,0,1]},\"selected\":{\"id\":\"1931\"},\"selection_policy\":{\"id\":\"1930\"}},\"id\":\"1917\",\"type\":\"ColumnDataSource\"},{\"attributes\":{},\"id\":\"1926\",\"type\":\"BasicTickFormatter\"},{\"attributes\":{\"data\":{\"bins\":[\"0.0\\uff0d0.9\",\"0.9\\uff0d1.8\",\"1.8\\uff0d2.7\",\"2.7\\uff0d3.6\",\"3.6\\uff0d4.5\",\"4.5\\uff0d5.4\",\"5.4\\uff0d6.3\",\"6.3\\uff0d7.2\",\"7.2\\uff0d8.1\",\"8.1\\uff0d9.0\"],\"bottom\":[0,0,0,0,0,0,0,0,0,0],\"left\":{\"__ndarray__\":\"AAAAAAAAAADNzMzMzMzsP83MzMzMzPw/mpmZmZmZBUDNzMzMzMwMQAAAAAAAABJAmpmZmZmZFUAzMzMzMzMZQM3MzMzMzBxAMzMzMzMzIEA=\",\"dtype\":\"float64\",\"order\":\"little\",\"shape\":[10]},\"right\":{\"__ndarray__\":\"zczMzMzM7D/NzMzMzMz8P5qZmZmZmQVAzczMzMzMDEAAAAAAAAASQJqZmZmZmRVAMzMzMzMzGUDNzMzMzMwcQDMzMzMzMyBAAAAAAAAAIkA=\",\"dtype\":\"float64\",\"order\":\"little\",\"shape\":[10]},\"top\":[611,302,64,8,3,0,0,0,0,0]},\"selected\":{\"id\":\"1953\"},\"selection_policy\":{\"id\":\"1952\"}},\"id\":\"1937\",\"type\":\"ColumnDataSource\"},{\"attributes\":{\"bottom\":{\"field\":\"bottom\"},\"fill_alpha\":{\"value\":0.1},\"fill_color\":{\"value\":\"#ff7f0e\"},\"left\":{\"field\":\"left\"},\"line_alpha\":{\"value\":0.1},\"line_color\":{\"value\":null},\"line_width\":{\"value\":2},\"right\":{\"field\":\"right\"},\"top\":{\"field\":\"top\"}},\"id\":\"1940\",\"type\":\"Quad\"},{\"attributes\":{\"bottom\":{\"field\":\"bottom\"},\"fill_alpha\":{\"value\":0.5},\"fill_color\":{\"value\":\"#ff7f0e\"},\"left\":{\"field\":\"left\"},\"line_alpha\":{\"value\":0.5},\"line_color\":{\"value\":null},\"line_width\":{\"value\":2},\"right\":{\"field\":\"right\"},\"top\":{\"field\":\"top\"}},\"id\":\"1939\",\"type\":\"Quad\"},{\"attributes\":{\"text\":\"Game Length Vs. Imposter/Cremate\"},\"id\":\"1885\",\"type\":\"Title\"},{\"attributes\":{\"callback\":null,\"mode\":\"vline\",\"renderers\":[{\"id\":\"1941\"}],\"tooltips\":\"<h3> Imposter: </h3> <h4>bin=@bins</h4> <h4>value=@top </h4>\"},\"id\":\"1956\",\"type\":\"HoverTool\"},{\"attributes\":{\"axis_label\":\"Game Length\",\"formatter\":{\"id\":\"1926\"},\"major_label_policy\":{\"id\":\"1924\"},\"ticker\":{\"id\":\"1958\"}},\"id\":\"1895\",\"type\":\"LinearAxis\"},{\"attributes\":{},\"id\":\"1924\",\"type\":\"AllLabels\"},{\"attributes\":{\"data_source\":{\"id\":\"1937\"},\"glyph\":{\"id\":\"1939\"},\"hover_glyph\":null,\"muted_glyph\":null,\"nonselection_glyph\":{\"id\":\"1940\"},\"view\":{\"id\":\"1942\"}},\"id\":\"1941\",\"type\":\"GlyphRenderer\"},{\"attributes\":{\"axis\":{\"id\":\"1899\"},\"dimension\":1,\"ticker\":null},\"id\":\"1902\",\"type\":\"Grid\"},{\"attributes\":{\"axis\":{\"id\":\"1895\"},\"ticker\":null},\"id\":\"1898\",\"type\":\"Grid\"},{\"attributes\":{\"callback\":null,\"mode\":\"vline\",\"renderers\":[{\"id\":\"1921\"}],\"tooltips\":\"<h3> Crewmate: </h3> <h4>bin=@bins</h4> <h4>value=@top </h4>\"},\"id\":\"1935\",\"type\":\"HoverTool\"},{\"attributes\":{},\"id\":\"1889\",\"type\":\"DataRange1d\"},{\"attributes\":{},\"id\":\"1929\",\"type\":\"BasicTickFormatter\"},{\"attributes\":{},\"id\":\"1900\",\"type\":\"BasicTicker\"},{\"attributes\":{\"label\":{\"value\":\"Imposter\"},\"renderers\":[{\"id\":\"1941\"}]},\"id\":\"1955\",\"type\":\"LegendItem\"},{\"attributes\":{},\"id\":\"1906\",\"type\":\"SaveTool\"},{\"attributes\":{},\"id\":\"1927\",\"type\":\"AllLabels\"},{\"attributes\":{},\"id\":\"1908\",\"type\":\"HelpTool\"},{\"attributes\":{\"ticks\":[0.0,0.9,1.8,2.7,3.6,4.5,5.4,6.3,7.2,8.1,9.0]},\"id\":\"1958\",\"type\":\"FixedTicker\"},{\"attributes\":{\"overlay\":{\"id\":\"1909\"}},\"id\":\"1905\",\"type\":\"BoxZoomTool\"},{\"attributes\":{},\"id\":\"1903\",\"type\":\"PanTool\"},{\"attributes\":{\"source\":{\"id\":\"1917\"}},\"id\":\"1922\",\"type\":\"CDSView\"},{\"attributes\":{},\"id\":\"1931\",\"type\":\"Selection\"},{\"attributes\":{\"bottom_units\":\"screen\",\"fill_alpha\":0.5,\"fill_color\":\"lightgrey\",\"left_units\":\"screen\",\"level\":\"overlay\",\"line_alpha\":1.0,\"line_color\":\"black\",\"line_dash\":[4,4],\"line_width\":2,\"right_units\":\"screen\",\"syncable\":false,\"top_units\":\"screen\"},\"id\":\"1909\",\"type\":\"BoxAnnotation\"},{\"attributes\":{\"bottom\":{\"field\":\"bottom\"},\"fill_alpha\":{\"value\":0.1},\"fill_color\":{\"value\":\"#1f77b4\"},\"left\":{\"field\":\"left\"},\"line_alpha\":{\"value\":0.1},\"line_color\":{\"value\":null},\"line_width\":{\"value\":2},\"right\":{\"field\":\"right\"},\"top\":{\"field\":\"top\"}},\"id\":\"1920\",\"type\":\"Quad\"},{\"attributes\":{\"active_multi\":null,\"active_scroll\":{\"id\":\"1904\"},\"tools\":[{\"id\":\"1903\"},{\"id\":\"1904\"},{\"id\":\"1905\"},{\"id\":\"1906\"},{\"id\":\"1907\"},{\"id\":\"1908\"},{\"id\":\"1935\"},{\"id\":\"1956\"}]},\"id\":\"1910\",\"type\":\"Toolbar\"},{\"attributes\":{\"formatter\":{\"id\":\"1929\"},\"major_label_policy\":{\"id\":\"1927\"},\"ticker\":{\"id\":\"1900\"}},\"id\":\"1899\",\"type\":\"LinearAxis\"},{\"attributes\":{},\"id\":\"1887\",\"type\":\"DataRange1d\"},{\"attributes\":{},\"id\":\"1907\",\"type\":\"ResetTool\"},{\"attributes\":{},\"id\":\"1952\",\"type\":\"UnionRenderers\"},{\"attributes\":{},\"id\":\"1891\",\"type\":\"LinearScale\"},{\"attributes\":{},\"id\":\"1953\",\"type\":\"Selection\"},{\"attributes\":{},\"id\":\"1893\",\"type\":\"LinearScale\"},{\"attributes\":{\"label\":{\"value\":\"Crewmate\"},\"renderers\":[{\"id\":\"1921\"}]},\"id\":\"1934\",\"type\":\"LegendItem\"},{\"attributes\":{\"bottom\":{\"field\":\"bottom\"},\"fill_alpha\":{\"value\":0.5},\"fill_color\":{\"value\":\"#1f77b4\"},\"left\":{\"field\":\"left\"},\"line_alpha\":{\"value\":0.5},\"line_color\":{\"value\":null},\"line_width\":{\"value\":2},\"right\":{\"field\":\"right\"},\"top\":{\"field\":\"top\"}},\"id\":\"1919\",\"type\":\"Quad\"},{\"attributes\":{\"click_policy\":\"hide\",\"items\":[{\"id\":\"1934\"},{\"id\":\"1955\"}]},\"id\":\"1933\",\"type\":\"Legend\"},{\"attributes\":{},\"id\":\"1904\",\"type\":\"WheelZoomTool\"},{\"attributes\":{\"data_source\":{\"id\":\"1917\"},\"glyph\":{\"id\":\"1919\"},\"hover_glyph\":null,\"muted_glyph\":null,\"nonselection_glyph\":{\"id\":\"1920\"},\"view\":{\"id\":\"1922\"}},\"id\":\"1921\",\"type\":\"GlyphRenderer\"}],\"root_ids\":[\"1884\"]},\"title\":\"Bokeh Application\",\"version\":\"2.3.2\"}};\n  var render_items = [{\"docid\":\"2de06fb9-a022-4c1c-aaff-30c374942892\",\"root_ids\":[\"1884\"],\"roots\":{\"1884\":\"2047140a-9a5b-4f3e-8fe3-2d9155cf9207\"}}];\n  root.Bokeh.embed.embed_items_notebook(docs_json, render_items);\n\n  }\n  if (root.Bokeh !== undefined) {\n    embed_document(root);\n  } else {\n    var attempts = 0;\n    var timer = setInterval(function(root) {\n      if (root.Bokeh !== undefined) {\n        clearInterval(timer);\n        embed_document(root);\n      } else {\n        attempts++;\n        if (attempts > 100) {\n          clearInterval(timer);\n          console.log(\"Bokeh: ERROR: Unable to run BokehJS code because BokehJS library is missing\");\n        }\n      }\n    }, 10, root)\n  }\n})(window);",
      "application/vnd.bokehjs_exec.v0+json": ""
     },
     "metadata": {
      "application/vnd.bokehjs_exec.v0+json": {
       "id": "1884"
      }
     },
     "output_type": "display_data"
    },
    {
     "data": {
      "text/html": [
       "<div style=\"display: table;\"><div style=\"display: table-row;\"><div style=\"display: table-cell;\"><b title=\"bokeh.plotting.figure.Figure\">Figure</b>(</div><div style=\"display: table-cell;\">id&nbsp;=&nbsp;'1884', <span id=\"2045\" style=\"cursor: pointer;\">&hellip;)</span></div></div><div class=\"2044\" style=\"display: none;\"><div style=\"display: table-cell;\"></div><div style=\"display: table-cell;\">above&nbsp;=&nbsp;[],</div></div><div class=\"2044\" style=\"display: none;\"><div style=\"display: table-cell;\"></div><div style=\"display: table-cell;\">align&nbsp;=&nbsp;'start',</div></div><div class=\"2044\" style=\"display: none;\"><div style=\"display: table-cell;\"></div><div style=\"display: table-cell;\">aspect_ratio&nbsp;=&nbsp;None,</div></div><div class=\"2044\" style=\"display: none;\"><div style=\"display: table-cell;\"></div><div style=\"display: table-cell;\">aspect_scale&nbsp;=&nbsp;1,</div></div><div class=\"2044\" style=\"display: none;\"><div style=\"display: table-cell;\"></div><div style=\"display: table-cell;\">background&nbsp;=&nbsp;None,</div></div><div class=\"2044\" style=\"display: none;\"><div style=\"display: table-cell;\"></div><div style=\"display: table-cell;\">background_fill_alpha&nbsp;=&nbsp;1.0,</div></div><div class=\"2044\" style=\"display: none;\"><div style=\"display: table-cell;\"></div><div style=\"display: table-cell;\">background_fill_color&nbsp;=&nbsp;'#ffffff',</div></div><div class=\"2044\" style=\"display: none;\"><div style=\"display: table-cell;\"></div><div style=\"display: table-cell;\">below&nbsp;=&nbsp;[LinearAxis(id='1895', ...)],</div></div><div class=\"2044\" style=\"display: none;\"><div style=\"display: table-cell;\"></div><div style=\"display: table-cell;\">border_fill_alpha&nbsp;=&nbsp;1.0,</div></div><div class=\"2044\" style=\"display: none;\"><div style=\"display: table-cell;\"></div><div style=\"display: table-cell;\">border_fill_color&nbsp;=&nbsp;'#ffffff',</div></div><div class=\"2044\" style=\"display: none;\"><div style=\"display: table-cell;\"></div><div style=\"display: table-cell;\">center&nbsp;=&nbsp;[Grid(id='1898', ...), Grid(id='1902', ...), Legend(id='1933', ...)],</div></div><div class=\"2044\" style=\"display: none;\"><div style=\"display: table-cell;\"></div><div style=\"display: table-cell;\">css_classes&nbsp;=&nbsp;[],</div></div><div class=\"2044\" style=\"display: none;\"><div style=\"display: table-cell;\"></div><div style=\"display: table-cell;\">disabled&nbsp;=&nbsp;False,</div></div><div class=\"2044\" style=\"display: none;\"><div style=\"display: table-cell;\"></div><div style=\"display: table-cell;\">extra_x_ranges&nbsp;=&nbsp;{},</div></div><div class=\"2044\" style=\"display: none;\"><div style=\"display: table-cell;\"></div><div style=\"display: table-cell;\">extra_y_ranges&nbsp;=&nbsp;{},</div></div><div class=\"2044\" style=\"display: none;\"><div style=\"display: table-cell;\"></div><div style=\"display: table-cell;\">frame_height&nbsp;=&nbsp;None,</div></div><div class=\"2044\" style=\"display: none;\"><div style=\"display: table-cell;\"></div><div style=\"display: table-cell;\">frame_width&nbsp;=&nbsp;None,</div></div><div class=\"2044\" style=\"display: none;\"><div style=\"display: table-cell;\"></div><div style=\"display: table-cell;\">height&nbsp;=&nbsp;350,</div></div><div class=\"2044\" style=\"display: none;\"><div style=\"display: table-cell;\"></div><div style=\"display: table-cell;\">height_policy&nbsp;=&nbsp;'auto',</div></div><div class=\"2044\" style=\"display: none;\"><div style=\"display: table-cell;\"></div><div style=\"display: table-cell;\">hidpi&nbsp;=&nbsp;True,</div></div><div class=\"2044\" style=\"display: none;\"><div style=\"display: table-cell;\"></div><div style=\"display: table-cell;\">inner_height&nbsp;=&nbsp;0,</div></div><div class=\"2044\" style=\"display: none;\"><div style=\"display: table-cell;\"></div><div style=\"display: table-cell;\">inner_width&nbsp;=&nbsp;0,</div></div><div class=\"2044\" style=\"display: none;\"><div style=\"display: table-cell;\"></div><div style=\"display: table-cell;\">js_event_callbacks&nbsp;=&nbsp;{},</div></div><div class=\"2044\" style=\"display: none;\"><div style=\"display: table-cell;\"></div><div style=\"display: table-cell;\">js_property_callbacks&nbsp;=&nbsp;{},</div></div><div class=\"2044\" style=\"display: none;\"><div style=\"display: table-cell;\"></div><div style=\"display: table-cell;\">left&nbsp;=&nbsp;[LinearAxis(id='1899', ...)],</div></div><div class=\"2044\" style=\"display: none;\"><div style=\"display: table-cell;\"></div><div style=\"display: table-cell;\">lod_factor&nbsp;=&nbsp;10,</div></div><div class=\"2044\" style=\"display: none;\"><div style=\"display: table-cell;\"></div><div style=\"display: table-cell;\">lod_interval&nbsp;=&nbsp;300,</div></div><div class=\"2044\" style=\"display: none;\"><div style=\"display: table-cell;\"></div><div style=\"display: table-cell;\">lod_threshold&nbsp;=&nbsp;2000,</div></div><div class=\"2044\" style=\"display: none;\"><div style=\"display: table-cell;\"></div><div style=\"display: table-cell;\">lod_timeout&nbsp;=&nbsp;500,</div></div><div class=\"2044\" style=\"display: none;\"><div style=\"display: table-cell;\"></div><div style=\"display: table-cell;\">margin&nbsp;=&nbsp;(0, 0, 0, 0),</div></div><div class=\"2044\" style=\"display: none;\"><div style=\"display: table-cell;\"></div><div style=\"display: table-cell;\">match_aspect&nbsp;=&nbsp;False,</div></div><div class=\"2044\" style=\"display: none;\"><div style=\"display: table-cell;\"></div><div style=\"display: table-cell;\">max_height&nbsp;=&nbsp;None,</div></div><div class=\"2044\" style=\"display: none;\"><div style=\"display: table-cell;\"></div><div style=\"display: table-cell;\">max_width&nbsp;=&nbsp;None,</div></div><div class=\"2044\" style=\"display: none;\"><div style=\"display: table-cell;\"></div><div style=\"display: table-cell;\">min_border&nbsp;=&nbsp;5,</div></div><div class=\"2044\" style=\"display: none;\"><div style=\"display: table-cell;\"></div><div style=\"display: table-cell;\">min_border_bottom&nbsp;=&nbsp;None,</div></div><div class=\"2044\" style=\"display: none;\"><div style=\"display: table-cell;\"></div><div style=\"display: table-cell;\">min_border_left&nbsp;=&nbsp;None,</div></div><div class=\"2044\" style=\"display: none;\"><div style=\"display: table-cell;\"></div><div style=\"display: table-cell;\">min_border_right&nbsp;=&nbsp;None,</div></div><div class=\"2044\" style=\"display: none;\"><div style=\"display: table-cell;\"></div><div style=\"display: table-cell;\">min_border_top&nbsp;=&nbsp;None,</div></div><div class=\"2044\" style=\"display: none;\"><div style=\"display: table-cell;\"></div><div style=\"display: table-cell;\">min_height&nbsp;=&nbsp;None,</div></div><div class=\"2044\" style=\"display: none;\"><div style=\"display: table-cell;\"></div><div style=\"display: table-cell;\">min_width&nbsp;=&nbsp;None,</div></div><div class=\"2044\" style=\"display: none;\"><div style=\"display: table-cell;\"></div><div style=\"display: table-cell;\">name&nbsp;=&nbsp;None,</div></div><div class=\"2044\" style=\"display: none;\"><div style=\"display: table-cell;\"></div><div style=\"display: table-cell;\">outer_height&nbsp;=&nbsp;0,</div></div><div class=\"2044\" style=\"display: none;\"><div style=\"display: table-cell;\"></div><div style=\"display: table-cell;\">outer_width&nbsp;=&nbsp;0,</div></div><div class=\"2044\" style=\"display: none;\"><div style=\"display: table-cell;\"></div><div style=\"display: table-cell;\">outline_line_alpha&nbsp;=&nbsp;1.0,</div></div><div class=\"2044\" style=\"display: none;\"><div style=\"display: table-cell;\"></div><div style=\"display: table-cell;\">outline_line_cap&nbsp;=&nbsp;'butt',</div></div><div class=\"2044\" style=\"display: none;\"><div style=\"display: table-cell;\"></div><div style=\"display: table-cell;\">outline_line_color&nbsp;=&nbsp;'#e5e5e5',</div></div><div class=\"2044\" style=\"display: none;\"><div style=\"display: table-cell;\"></div><div style=\"display: table-cell;\">outline_line_dash&nbsp;=&nbsp;[],</div></div><div class=\"2044\" style=\"display: none;\"><div style=\"display: table-cell;\"></div><div style=\"display: table-cell;\">outline_line_dash_offset&nbsp;=&nbsp;0,</div></div><div class=\"2044\" style=\"display: none;\"><div style=\"display: table-cell;\"></div><div style=\"display: table-cell;\">outline_line_join&nbsp;=&nbsp;'bevel',</div></div><div class=\"2044\" style=\"display: none;\"><div style=\"display: table-cell;\"></div><div style=\"display: table-cell;\">outline_line_width&nbsp;=&nbsp;1,</div></div><div class=\"2044\" style=\"display: none;\"><div style=\"display: table-cell;\"></div><div style=\"display: table-cell;\">output_backend&nbsp;=&nbsp;'webgl',</div></div><div class=\"2044\" style=\"display: none;\"><div style=\"display: table-cell;\"></div><div style=\"display: table-cell;\">renderers&nbsp;=&nbsp;[GlyphRenderer(id='1921', ...), GlyphRenderer(id='1941', ...)],</div></div><div class=\"2044\" style=\"display: none;\"><div style=\"display: table-cell;\"></div><div style=\"display: table-cell;\">reset_policy&nbsp;=&nbsp;'standard',</div></div><div class=\"2044\" style=\"display: none;\"><div style=\"display: table-cell;\"></div><div style=\"display: table-cell;\">right&nbsp;=&nbsp;[],</div></div><div class=\"2044\" style=\"display: none;\"><div style=\"display: table-cell;\"></div><div style=\"display: table-cell;\">sizing_mode&nbsp;=&nbsp;'fixed',</div></div><div class=\"2044\" style=\"display: none;\"><div style=\"display: table-cell;\"></div><div style=\"display: table-cell;\">subscribed_events&nbsp;=&nbsp;[],</div></div><div class=\"2044\" style=\"display: none;\"><div style=\"display: table-cell;\"></div><div style=\"display: table-cell;\">syncable&nbsp;=&nbsp;True,</div></div><div class=\"2044\" style=\"display: none;\"><div style=\"display: table-cell;\"></div><div style=\"display: table-cell;\">tags&nbsp;=&nbsp;[],</div></div><div class=\"2044\" style=\"display: none;\"><div style=\"display: table-cell;\"></div><div style=\"display: table-cell;\">title&nbsp;=&nbsp;Title(id='1885', ...),</div></div><div class=\"2044\" style=\"display: none;\"><div style=\"display: table-cell;\"></div><div style=\"display: table-cell;\">title_location&nbsp;=&nbsp;'above',</div></div><div class=\"2044\" style=\"display: none;\"><div style=\"display: table-cell;\"></div><div style=\"display: table-cell;\">toolbar&nbsp;=&nbsp;Toolbar(id='1910', ...),</div></div><div class=\"2044\" style=\"display: none;\"><div style=\"display: table-cell;\"></div><div style=\"display: table-cell;\">toolbar_location&nbsp;=&nbsp;'right',</div></div><div class=\"2044\" style=\"display: none;\"><div style=\"display: table-cell;\"></div><div style=\"display: table-cell;\">toolbar_sticky&nbsp;=&nbsp;True,</div></div><div class=\"2044\" style=\"display: none;\"><div style=\"display: table-cell;\"></div><div style=\"display: table-cell;\">visible&nbsp;=&nbsp;True,</div></div><div class=\"2044\" style=\"display: none;\"><div style=\"display: table-cell;\"></div><div style=\"display: table-cell;\">width&nbsp;=&nbsp;750,</div></div><div class=\"2044\" style=\"display: none;\"><div style=\"display: table-cell;\"></div><div style=\"display: table-cell;\">width_policy&nbsp;=&nbsp;'auto',</div></div><div class=\"2044\" style=\"display: none;\"><div style=\"display: table-cell;\"></div><div style=\"display: table-cell;\">x_range&nbsp;=&nbsp;DataRange1d(id='1887', ...),</div></div><div class=\"2044\" style=\"display: none;\"><div style=\"display: table-cell;\"></div><div style=\"display: table-cell;\">x_scale&nbsp;=&nbsp;LinearScale(id='1891', ...),</div></div><div class=\"2044\" style=\"display: none;\"><div style=\"display: table-cell;\"></div><div style=\"display: table-cell;\">y_range&nbsp;=&nbsp;DataRange1d(id='1889', ...),</div></div><div class=\"2044\" style=\"display: none;\"><div style=\"display: table-cell;\"></div><div style=\"display: table-cell;\">y_scale&nbsp;=&nbsp;LinearScale(id='1893', ...))</div></div></div>\n",
       "<script>\n",
       "(function() {\n",
       "  var expanded = false;\n",
       "  var ellipsis = document.getElementById(\"2045\");\n",
       "  ellipsis.addEventListener(\"click\", function() {\n",
       "    var rows = document.getElementsByClassName(\"2044\");\n",
       "    for (var i = 0; i < rows.length; i++) {\n",
       "      var el = rows[i];\n",
       "      el.style.display = expanded ? \"none\" : \"table-row\";\n",
       "    }\n",
       "    ellipsis.innerHTML = expanded ? \"&hellip;)\" : \"&lsaquo;&lsaquo;&lsaquo;\";\n",
       "    expanded = !expanded;\n",
       "  });\n",
       "})();\n",
       "</script>\n"
      ],
      "text/plain": [
       "Figure(id='1884', ...)"
      ]
     },
     "execution_count": 39,
     "metadata": {},
     "output_type": "execute_result"
    }
   ],
   "source": [
    "df_gm_te = pd.crosstab(df['Game Length'], df['Team'])\n",
    "df_gm_te.plot_bokeh.hist(title='Game Length Vs. Imposter/Cremate', figsize=(750, 350))"
   ]
  },
  {
   "cell_type": "markdown",
   "metadata": {},
   "source": [
    "### Bar Plot"
   ]
  },
  {
   "cell_type": "code",
   "execution_count": 40,
   "metadata": {},
   "outputs": [
    {
     "data": {
      "text/html": [
       "\n",
       "\n",
       "\n",
       "\n",
       "\n",
       "\n",
       "  <div class=\"bk-root\" id=\"f039c051-76fe-4d78-b6f5-8993b0231b41\" data-root-id=\"2083\"></div>\n"
      ]
     },
     "metadata": {},
     "output_type": "display_data"
    },
    {
     "data": {
      "application/javascript": "(function(root) {\n  function embed_document(root) {\n    \n  var docs_json = {\"cec9b694-c614-46b8-8b75-daca2881702d\":{\"defs\":[],\"roots\":{\"references\":[{\"attributes\":{\"below\":[{\"id\":\"2094\"}],\"center\":[{\"id\":\"2097\"},{\"id\":\"2101\"},{\"id\":\"2133\"}],\"height\":350,\"left\":[{\"id\":\"2098\"}],\"output_backend\":\"webgl\",\"renderers\":[{\"id\":\"2122\"}],\"sizing_mode\":\"fixed\",\"title\":{\"id\":\"2084\"},\"toolbar\":{\"id\":\"2109\"},\"width\":750,\"x_range\":{\"id\":\"2086\"},\"x_scale\":{\"id\":\"2090\"},\"y_range\":{\"id\":\"2088\"},\"y_scale\":{\"id\":\"2092\"}},\"id\":\"2083\",\"subtype\":\"Figure\",\"type\":\"Plot\"},{\"attributes\":{},\"id\":\"2086\",\"type\":\"DataRange1d\"},{\"attributes\":{},\"id\":\"2125\",\"type\":\"AllLabels\"},{\"attributes\":{\"range\":{\"id\":\"2086\"}},\"id\":\"2118\",\"type\":\"Dodge\"},{\"attributes\":{},\"id\":\"2088\",\"type\":\"DataRange1d\"},{\"attributes\":{},\"id\":\"2103\",\"type\":\"WheelZoomTool\"},{\"attributes\":{},\"id\":\"2090\",\"type\":\"LinearScale\"},{\"attributes\":{},\"id\":\"2130\",\"type\":\"UnionRenderers\"},{\"attributes\":{\"formatter\":{\"id\":\"2116\"},\"major_label_policy\":{\"id\":\"2125\"},\"ticker\":{\"id\":\"2137\"}},\"id\":\"2094\",\"type\":\"LinearAxis\"},{\"attributes\":{},\"id\":\"2131\",\"type\":\"Selection\"},{\"attributes\":{\"axis\":{\"id\":\"2094\"},\"ticker\":null},\"id\":\"2097\",\"type\":\"Grid\"},{\"attributes\":{},\"id\":\"2092\",\"type\":\"LinearScale\"},{\"attributes\":{\"code\":\"\\n                                    var labels = {0: '0', 1: '1', 2: '10', 3: '2', 4: '3', 5: '4', 6: '5', 7: '6', 8: '7', 9: '8', 10: '9'};\\n                                    return labels[tick];\\n                                    \"},\"id\":\"2116\",\"type\":\"FuncTickFormatter\"},{\"attributes\":{\"axis\":{\"id\":\"2098\"},\"dimension\":1,\"ticker\":null},\"id\":\"2101\",\"type\":\"Grid\"},{\"attributes\":{},\"id\":\"2099\",\"type\":\"BasicTicker\"},{\"attributes\":{\"active_multi\":null,\"active_scroll\":{\"id\":\"2103\"},\"tools\":[{\"id\":\"2102\"},{\"id\":\"2103\"},{\"id\":\"2104\"},{\"id\":\"2105\"},{\"id\":\"2106\"},{\"id\":\"2107\"},{\"id\":\"2135\"}]},\"id\":\"2109\",\"type\":\"Toolbar\"},{\"attributes\":{},\"id\":\"2107\",\"type\":\"HelpTool\"},{\"attributes\":{},\"id\":\"2127\",\"type\":\"AllLabels\"},{\"attributes\":{},\"id\":\"2102\",\"type\":\"PanTool\"},{\"attributes\":{},\"id\":\"2129\",\"type\":\"BasicTickFormatter\"},{\"attributes\":{\"overlay\":{\"id\":\"2108\"}},\"id\":\"2104\",\"type\":\"BoxZoomTool\"},{\"attributes\":{\"label\":{\"value\":\" Count\"},\"renderers\":[{\"id\":\"2122\"}]},\"id\":\"2134\",\"type\":\"LegendItem\"},{\"attributes\":{},\"id\":\"2105\",\"type\":\"SaveTool\"},{\"attributes\":{},\"id\":\"2106\",\"type\":\"ResetTool\"},{\"attributes\":{\"click_policy\":\"hide\",\"items\":[{\"id\":\"2134\"}]},\"id\":\"2133\",\"type\":\"Legend\"},{\"attributes\":{\"fill_color\":{\"value\":\"#1f77b4\"},\"line_color\":{\"value\":\"#1f77b4\"},\"line_width\":{\"value\":2},\"top\":{\"field\":\"Count\"},\"width\":{\"value\":0.7},\"x\":{\"field\":\"__x__values\",\"transform\":{\"id\":\"2118\"}}},\"id\":\"2120\",\"type\":\"VBar\"},{\"attributes\":{\"fill_alpha\":{\"value\":0.1},\"fill_color\":{\"value\":\"#1f77b4\"},\"line_alpha\":{\"value\":0.1},\"line_color\":{\"value\":\"#1f77b4\"},\"line_width\":{\"value\":2},\"top\":{\"field\":\"Count\"},\"width\":{\"value\":0.7},\"x\":{\"field\":\"__x__values\",\"transform\":{\"id\":\"2118\"}}},\"id\":\"2121\",\"type\":\"VBar\"},{\"attributes\":{\"ticks\":[0,1,2,3,4,5,6,7,8,9,10]},\"id\":\"2137\",\"type\":\"FixedTicker\"},{\"attributes\":{\"source\":{\"id\":\"2082\"}},\"id\":\"2123\",\"type\":\"CDSView\"},{\"attributes\":{\"data_source\":{\"id\":\"2082\"},\"glyph\":{\"id\":\"2120\"},\"hover_glyph\":null,\"muted_glyph\":null,\"nonselection_glyph\":{\"id\":\"2121\"},\"view\":{\"id\":\"2123\"}},\"id\":\"2122\",\"type\":\"GlyphRenderer\"},{\"attributes\":{\"data\":{\"Count\":[69,117,2,134,150,187,194,157,397,326,28],\"__x__values\":[0,1,2,3,4,5,6,7,8,9,10],\"__x__values_original\":[\"0\",\"1\",\"10\",\"2\",\"3\",\"4\",\"5\",\"6\",\"7\",\"8\",\"9\"]},\"selected\":{\"id\":\"2131\"},\"selection_policy\":{\"id\":\"2130\"}},\"id\":\"2082\",\"type\":\"ColumnDataSource\"},{\"attributes\":{\"callback\":null,\"mode\":\"vline\",\"renderers\":[{\"id\":\"2122\"}],\"tooltips\":[[\"x\",\"@__x__values_original\"],[\"Count\",\"@{Count}\"]]},\"id\":\"2135\",\"type\":\"HoverTool\"},{\"attributes\":{\"axis_label\":\"Count\",\"formatter\":{\"id\":\"2129\"},\"major_label_policy\":{\"id\":\"2127\"},\"ticker\":{\"id\":\"2099\"}},\"id\":\"2098\",\"type\":\"LinearAxis\"},{\"attributes\":{\"bottom_units\":\"screen\",\"fill_alpha\":0.5,\"fill_color\":\"lightgrey\",\"left_units\":\"screen\",\"level\":\"overlay\",\"line_alpha\":1.0,\"line_color\":\"black\",\"line_dash\":[4,4],\"line_width\":2,\"right_units\":\"screen\",\"syncable\":false,\"top_units\":\"screen\"},\"id\":\"2108\",\"type\":\"BoxAnnotation\"},{\"attributes\":{\"text\":\"How many People have completed given task?\"},\"id\":\"2084\",\"type\":\"Title\"}],\"root_ids\":[\"2083\"]},\"title\":\"Bokeh Application\",\"version\":\"2.3.2\"}};\n  var render_items = [{\"docid\":\"cec9b694-c614-46b8-8b75-daca2881702d\",\"root_ids\":[\"2083\"],\"roots\":{\"2083\":\"f039c051-76fe-4d78-b6f5-8993b0231b41\"}}];\n  root.Bokeh.embed.embed_items_notebook(docs_json, render_items);\n\n  }\n  if (root.Bokeh !== undefined) {\n    embed_document(root);\n  } else {\n    var attempts = 0;\n    var timer = setInterval(function(root) {\n      if (root.Bokeh !== undefined) {\n        clearInterval(timer);\n        embed_document(root);\n      } else {\n        attempts++;\n        if (attempts > 100) {\n          clearInterval(timer);\n          console.log(\"Bokeh: ERROR: Unable to run BokehJS code because BokehJS library is missing\");\n        }\n      }\n    }, 10, root)\n  }\n})(window);",
      "application/vnd.bokehjs_exec.v0+json": ""
     },
     "metadata": {
      "application/vnd.bokehjs_exec.v0+json": {
       "id": "2083"
      }
     },
     "output_type": "display_data"
    },
    {
     "data": {
      "text/html": [
       "<div style=\"display: table;\"><div style=\"display: table-row;\"><div style=\"display: table-cell;\"><b title=\"bokeh.plotting.figure.Figure\">Figure</b>(</div><div style=\"display: table-cell;\">id&nbsp;=&nbsp;'2083', <span id=\"2217\" style=\"cursor: pointer;\">&hellip;)</span></div></div><div class=\"2216\" style=\"display: none;\"><div style=\"display: table-cell;\"></div><div style=\"display: table-cell;\">above&nbsp;=&nbsp;[],</div></div><div class=\"2216\" style=\"display: none;\"><div style=\"display: table-cell;\"></div><div style=\"display: table-cell;\">align&nbsp;=&nbsp;'start',</div></div><div class=\"2216\" style=\"display: none;\"><div style=\"display: table-cell;\"></div><div style=\"display: table-cell;\">aspect_ratio&nbsp;=&nbsp;None,</div></div><div class=\"2216\" style=\"display: none;\"><div style=\"display: table-cell;\"></div><div style=\"display: table-cell;\">aspect_scale&nbsp;=&nbsp;1,</div></div><div class=\"2216\" style=\"display: none;\"><div style=\"display: table-cell;\"></div><div style=\"display: table-cell;\">background&nbsp;=&nbsp;None,</div></div><div class=\"2216\" style=\"display: none;\"><div style=\"display: table-cell;\"></div><div style=\"display: table-cell;\">background_fill_alpha&nbsp;=&nbsp;1.0,</div></div><div class=\"2216\" style=\"display: none;\"><div style=\"display: table-cell;\"></div><div style=\"display: table-cell;\">background_fill_color&nbsp;=&nbsp;'#ffffff',</div></div><div class=\"2216\" style=\"display: none;\"><div style=\"display: table-cell;\"></div><div style=\"display: table-cell;\">below&nbsp;=&nbsp;[LinearAxis(id='2094', ...)],</div></div><div class=\"2216\" style=\"display: none;\"><div style=\"display: table-cell;\"></div><div style=\"display: table-cell;\">border_fill_alpha&nbsp;=&nbsp;1.0,</div></div><div class=\"2216\" style=\"display: none;\"><div style=\"display: table-cell;\"></div><div style=\"display: table-cell;\">border_fill_color&nbsp;=&nbsp;'#ffffff',</div></div><div class=\"2216\" style=\"display: none;\"><div style=\"display: table-cell;\"></div><div style=\"display: table-cell;\">center&nbsp;=&nbsp;[Grid(id='2097', ...), Grid(id='2101', ...), Legend(id='2133', ...)],</div></div><div class=\"2216\" style=\"display: none;\"><div style=\"display: table-cell;\"></div><div style=\"display: table-cell;\">css_classes&nbsp;=&nbsp;[],</div></div><div class=\"2216\" style=\"display: none;\"><div style=\"display: table-cell;\"></div><div style=\"display: table-cell;\">disabled&nbsp;=&nbsp;False,</div></div><div class=\"2216\" style=\"display: none;\"><div style=\"display: table-cell;\"></div><div style=\"display: table-cell;\">extra_x_ranges&nbsp;=&nbsp;{},</div></div><div class=\"2216\" style=\"display: none;\"><div style=\"display: table-cell;\"></div><div style=\"display: table-cell;\">extra_y_ranges&nbsp;=&nbsp;{},</div></div><div class=\"2216\" style=\"display: none;\"><div style=\"display: table-cell;\"></div><div style=\"display: table-cell;\">frame_height&nbsp;=&nbsp;None,</div></div><div class=\"2216\" style=\"display: none;\"><div style=\"display: table-cell;\"></div><div style=\"display: table-cell;\">frame_width&nbsp;=&nbsp;None,</div></div><div class=\"2216\" style=\"display: none;\"><div style=\"display: table-cell;\"></div><div style=\"display: table-cell;\">height&nbsp;=&nbsp;350,</div></div><div class=\"2216\" style=\"display: none;\"><div style=\"display: table-cell;\"></div><div style=\"display: table-cell;\">height_policy&nbsp;=&nbsp;'auto',</div></div><div class=\"2216\" style=\"display: none;\"><div style=\"display: table-cell;\"></div><div style=\"display: table-cell;\">hidpi&nbsp;=&nbsp;True,</div></div><div class=\"2216\" style=\"display: none;\"><div style=\"display: table-cell;\"></div><div style=\"display: table-cell;\">inner_height&nbsp;=&nbsp;0,</div></div><div class=\"2216\" style=\"display: none;\"><div style=\"display: table-cell;\"></div><div style=\"display: table-cell;\">inner_width&nbsp;=&nbsp;0,</div></div><div class=\"2216\" style=\"display: none;\"><div style=\"display: table-cell;\"></div><div style=\"display: table-cell;\">js_event_callbacks&nbsp;=&nbsp;{},</div></div><div class=\"2216\" style=\"display: none;\"><div style=\"display: table-cell;\"></div><div style=\"display: table-cell;\">js_property_callbacks&nbsp;=&nbsp;{},</div></div><div class=\"2216\" style=\"display: none;\"><div style=\"display: table-cell;\"></div><div style=\"display: table-cell;\">left&nbsp;=&nbsp;[LinearAxis(id='2098', ...)],</div></div><div class=\"2216\" style=\"display: none;\"><div style=\"display: table-cell;\"></div><div style=\"display: table-cell;\">lod_factor&nbsp;=&nbsp;10,</div></div><div class=\"2216\" style=\"display: none;\"><div style=\"display: table-cell;\"></div><div style=\"display: table-cell;\">lod_interval&nbsp;=&nbsp;300,</div></div><div class=\"2216\" style=\"display: none;\"><div style=\"display: table-cell;\"></div><div style=\"display: table-cell;\">lod_threshold&nbsp;=&nbsp;2000,</div></div><div class=\"2216\" style=\"display: none;\"><div style=\"display: table-cell;\"></div><div style=\"display: table-cell;\">lod_timeout&nbsp;=&nbsp;500,</div></div><div class=\"2216\" style=\"display: none;\"><div style=\"display: table-cell;\"></div><div style=\"display: table-cell;\">margin&nbsp;=&nbsp;(0, 0, 0, 0),</div></div><div class=\"2216\" style=\"display: none;\"><div style=\"display: table-cell;\"></div><div style=\"display: table-cell;\">match_aspect&nbsp;=&nbsp;False,</div></div><div class=\"2216\" style=\"display: none;\"><div style=\"display: table-cell;\"></div><div style=\"display: table-cell;\">max_height&nbsp;=&nbsp;None,</div></div><div class=\"2216\" style=\"display: none;\"><div style=\"display: table-cell;\"></div><div style=\"display: table-cell;\">max_width&nbsp;=&nbsp;None,</div></div><div class=\"2216\" style=\"display: none;\"><div style=\"display: table-cell;\"></div><div style=\"display: table-cell;\">min_border&nbsp;=&nbsp;5,</div></div><div class=\"2216\" style=\"display: none;\"><div style=\"display: table-cell;\"></div><div style=\"display: table-cell;\">min_border_bottom&nbsp;=&nbsp;None,</div></div><div class=\"2216\" style=\"display: none;\"><div style=\"display: table-cell;\"></div><div style=\"display: table-cell;\">min_border_left&nbsp;=&nbsp;None,</div></div><div class=\"2216\" style=\"display: none;\"><div style=\"display: table-cell;\"></div><div style=\"display: table-cell;\">min_border_right&nbsp;=&nbsp;None,</div></div><div class=\"2216\" style=\"display: none;\"><div style=\"display: table-cell;\"></div><div style=\"display: table-cell;\">min_border_top&nbsp;=&nbsp;None,</div></div><div class=\"2216\" style=\"display: none;\"><div style=\"display: table-cell;\"></div><div style=\"display: table-cell;\">min_height&nbsp;=&nbsp;None,</div></div><div class=\"2216\" style=\"display: none;\"><div style=\"display: table-cell;\"></div><div style=\"display: table-cell;\">min_width&nbsp;=&nbsp;None,</div></div><div class=\"2216\" style=\"display: none;\"><div style=\"display: table-cell;\"></div><div style=\"display: table-cell;\">name&nbsp;=&nbsp;None,</div></div><div class=\"2216\" style=\"display: none;\"><div style=\"display: table-cell;\"></div><div style=\"display: table-cell;\">outer_height&nbsp;=&nbsp;0,</div></div><div class=\"2216\" style=\"display: none;\"><div style=\"display: table-cell;\"></div><div style=\"display: table-cell;\">outer_width&nbsp;=&nbsp;0,</div></div><div class=\"2216\" style=\"display: none;\"><div style=\"display: table-cell;\"></div><div style=\"display: table-cell;\">outline_line_alpha&nbsp;=&nbsp;1.0,</div></div><div class=\"2216\" style=\"display: none;\"><div style=\"display: table-cell;\"></div><div style=\"display: table-cell;\">outline_line_cap&nbsp;=&nbsp;'butt',</div></div><div class=\"2216\" style=\"display: none;\"><div style=\"display: table-cell;\"></div><div style=\"display: table-cell;\">outline_line_color&nbsp;=&nbsp;'#e5e5e5',</div></div><div class=\"2216\" style=\"display: none;\"><div style=\"display: table-cell;\"></div><div style=\"display: table-cell;\">outline_line_dash&nbsp;=&nbsp;[],</div></div><div class=\"2216\" style=\"display: none;\"><div style=\"display: table-cell;\"></div><div style=\"display: table-cell;\">outline_line_dash_offset&nbsp;=&nbsp;0,</div></div><div class=\"2216\" style=\"display: none;\"><div style=\"display: table-cell;\"></div><div style=\"display: table-cell;\">outline_line_join&nbsp;=&nbsp;'bevel',</div></div><div class=\"2216\" style=\"display: none;\"><div style=\"display: table-cell;\"></div><div style=\"display: table-cell;\">outline_line_width&nbsp;=&nbsp;1,</div></div><div class=\"2216\" style=\"display: none;\"><div style=\"display: table-cell;\"></div><div style=\"display: table-cell;\">output_backend&nbsp;=&nbsp;'webgl',</div></div><div class=\"2216\" style=\"display: none;\"><div style=\"display: table-cell;\"></div><div style=\"display: table-cell;\">renderers&nbsp;=&nbsp;[GlyphRenderer(id='2122', ...)],</div></div><div class=\"2216\" style=\"display: none;\"><div style=\"display: table-cell;\"></div><div style=\"display: table-cell;\">reset_policy&nbsp;=&nbsp;'standard',</div></div><div class=\"2216\" style=\"display: none;\"><div style=\"display: table-cell;\"></div><div style=\"display: table-cell;\">right&nbsp;=&nbsp;[],</div></div><div class=\"2216\" style=\"display: none;\"><div style=\"display: table-cell;\"></div><div style=\"display: table-cell;\">sizing_mode&nbsp;=&nbsp;'fixed',</div></div><div class=\"2216\" style=\"display: none;\"><div style=\"display: table-cell;\"></div><div style=\"display: table-cell;\">subscribed_events&nbsp;=&nbsp;[],</div></div><div class=\"2216\" style=\"display: none;\"><div style=\"display: table-cell;\"></div><div style=\"display: table-cell;\">syncable&nbsp;=&nbsp;True,</div></div><div class=\"2216\" style=\"display: none;\"><div style=\"display: table-cell;\"></div><div style=\"display: table-cell;\">tags&nbsp;=&nbsp;[],</div></div><div class=\"2216\" style=\"display: none;\"><div style=\"display: table-cell;\"></div><div style=\"display: table-cell;\">title&nbsp;=&nbsp;Title(id='2084', ...),</div></div><div class=\"2216\" style=\"display: none;\"><div style=\"display: table-cell;\"></div><div style=\"display: table-cell;\">title_location&nbsp;=&nbsp;'above',</div></div><div class=\"2216\" style=\"display: none;\"><div style=\"display: table-cell;\"></div><div style=\"display: table-cell;\">toolbar&nbsp;=&nbsp;Toolbar(id='2109', ...),</div></div><div class=\"2216\" style=\"display: none;\"><div style=\"display: table-cell;\"></div><div style=\"display: table-cell;\">toolbar_location&nbsp;=&nbsp;'right',</div></div><div class=\"2216\" style=\"display: none;\"><div style=\"display: table-cell;\"></div><div style=\"display: table-cell;\">toolbar_sticky&nbsp;=&nbsp;True,</div></div><div class=\"2216\" style=\"display: none;\"><div style=\"display: table-cell;\"></div><div style=\"display: table-cell;\">visible&nbsp;=&nbsp;True,</div></div><div class=\"2216\" style=\"display: none;\"><div style=\"display: table-cell;\"></div><div style=\"display: table-cell;\">width&nbsp;=&nbsp;750,</div></div><div class=\"2216\" style=\"display: none;\"><div style=\"display: table-cell;\"></div><div style=\"display: table-cell;\">width_policy&nbsp;=&nbsp;'auto',</div></div><div class=\"2216\" style=\"display: none;\"><div style=\"display: table-cell;\"></div><div style=\"display: table-cell;\">x_range&nbsp;=&nbsp;DataRange1d(id='2086', ...),</div></div><div class=\"2216\" style=\"display: none;\"><div style=\"display: table-cell;\"></div><div style=\"display: table-cell;\">x_scale&nbsp;=&nbsp;LinearScale(id='2090', ...),</div></div><div class=\"2216\" style=\"display: none;\"><div style=\"display: table-cell;\"></div><div style=\"display: table-cell;\">y_range&nbsp;=&nbsp;DataRange1d(id='2088', ...),</div></div><div class=\"2216\" style=\"display: none;\"><div style=\"display: table-cell;\"></div><div style=\"display: table-cell;\">y_scale&nbsp;=&nbsp;LinearScale(id='2092', ...))</div></div></div>\n",
       "<script>\n",
       "(function() {\n",
       "  var expanded = false;\n",
       "  var ellipsis = document.getElementById(\"2217\");\n",
       "  ellipsis.addEventListener(\"click\", function() {\n",
       "    var rows = document.getElementsByClassName(\"2216\");\n",
       "    for (var i = 0; i < rows.length; i++) {\n",
       "      var el = rows[i];\n",
       "      el.style.display = expanded ? \"none\" : \"table-row\";\n",
       "    }\n",
       "    ellipsis.innerHTML = expanded ? \"&hellip;)\" : \"&lsaquo;&lsaquo;&lsaquo;\";\n",
       "    expanded = !expanded;\n",
       "  });\n",
       "})();\n",
       "</script>\n"
      ],
      "text/plain": [
       "Figure(id='2083', ...)"
      ]
     },
     "execution_count": 40,
     "metadata": {},
     "output_type": "execute_result"
    }
   ],
   "source": [
    "df_tc = pd.DataFrame(df['Task Completed'].value_counts())[1:].sort_index().rename(columns={'Task Completed': 'Count'})\n",
    "df_tc.plot_bokeh(kind='bar', y='Count', title='How many People have completed given task?', figsize=(750, 350))"
   ]
  },
  {
   "cell_type": "code",
   "execution_count": 41,
   "metadata": {},
   "outputs": [
    {
     "data": {
      "text/html": [
       "\n",
       "\n",
       "\n",
       "\n",
       "\n",
       "\n",
       "  <div class=\"bk-root\" id=\"6c11980a-56d6-4d76-a847-034f906a9635\" data-root-id=\"2255\"></div>\n"
      ]
     },
     "metadata": {},
     "output_type": "display_data"
    },
    {
     "data": {
      "application/javascript": "(function(root) {\n  function embed_document(root) {\n    \n  var docs_json = {\"6dd12bc6-3776-4d21-827f-d2f73f040ed8\":{\"defs\":[],\"roots\":{\"references\":[{\"attributes\":{\"below\":[{\"id\":\"2266\"}],\"center\":[{\"id\":\"2269\"},{\"id\":\"2273\"},{\"id\":\"2308\"}],\"height\":350,\"left\":[{\"id\":\"2270\"}],\"output_backend\":\"webgl\",\"renderers\":[{\"id\":\"2297\"},{\"id\":\"2313\"}],\"sizing_mode\":\"fixed\",\"title\":{\"id\":\"2256\"},\"toolbar\":{\"id\":\"2281\"},\"width\":450,\"x_range\":{\"id\":\"2258\"},\"x_scale\":{\"id\":\"2262\"},\"y_range\":{\"id\":\"2260\"},\"y_scale\":{\"id\":\"2264\"}},\"id\":\"2255\",\"subtype\":\"Figure\",\"type\":\"Plot\"},{\"attributes\":{\"bottom\":{\"expr\":{\"id\":\"2292\"}},\"fill_color\":{\"value\":\"#ff7f0e\"},\"line_color\":{\"value\":\"#ff7f0e\"},\"line_width\":{\"value\":2},\"top\":{\"expr\":{\"id\":\"2293\"}},\"width\":{\"value\":0.8},\"x\":{\"field\":\"__x__values\"}},\"id\":\"2311\",\"type\":\"VBar\"},{\"attributes\":{},\"id\":\"2300\",\"type\":\"AllLabels\"},{\"attributes\":{\"ticks\":[0,1]},\"id\":\"2327\",\"type\":\"FixedTicker\"},{\"attributes\":{},\"id\":\"2305\",\"type\":\"UnionRenderers\"},{\"attributes\":{},\"id\":\"2306\",\"type\":\"Selection\"},{\"attributes\":{\"data_source\":{\"id\":\"2254\"},\"glyph\":{\"id\":\"2311\"},\"hover_glyph\":null,\"muted_glyph\":null,\"name\":\"Win\",\"nonselection_glyph\":{\"id\":\"2312\"},\"view\":{\"id\":\"2314\"}},\"id\":\"2313\",\"type\":\"GlyphRenderer\"},{\"attributes\":{\"bottom\":{\"expr\":{\"id\":\"2292\"}},\"fill_alpha\":{\"value\":0.1},\"fill_color\":{\"value\":\"#ff7f0e\"},\"line_alpha\":{\"value\":0.1},\"line_color\":{\"value\":\"#ff7f0e\"},\"line_width\":{\"value\":2},\"top\":{\"expr\":{\"id\":\"2293\"}},\"width\":{\"value\":0.8},\"x\":{\"field\":\"__x__values\"}},\"id\":\"2312\",\"type\":\"VBar\"},{\"attributes\":{\"label\":{\"value\":\"Win\"},\"renderers\":[{\"id\":\"2313\"}]},\"id\":\"2324\",\"type\":\"LegendItem\"},{\"attributes\":{\"bottom_units\":\"screen\",\"fill_alpha\":0.5,\"fill_color\":\"lightgrey\",\"left_units\":\"screen\",\"level\":\"overlay\",\"line_alpha\":1.0,\"line_color\":\"black\",\"line_dash\":[4,4],\"line_width\":2,\"right_units\":\"screen\",\"syncable\":false,\"top_units\":\"screen\"},\"id\":\"2280\",\"type\":\"BoxAnnotation\"},{\"attributes\":{\"source\":{\"id\":\"2254\"}},\"id\":\"2314\",\"type\":\"CDSView\"},{\"attributes\":{\"code\":\"\\n                                    var labels = {0: 'Crewmate', 1: 'Imposter'};\\n                                    return labels[tick];\\n                                    \"},\"id\":\"2288\",\"type\":\"FuncTickFormatter\"},{\"attributes\":{},\"id\":\"2258\",\"type\":\"DataRange1d\"},{\"attributes\":{\"text\":\"Who wins: Imposter or Cremates\"},\"id\":\"2256\",\"type\":\"Title\"},{\"attributes\":{},\"id\":\"2302\",\"type\":\"AllLabels\"},{\"attributes\":{\"callback\":null,\"mode\":\"vline\",\"renderers\":[{\"id\":\"2313\"}],\"tooltips\":[[\"Team\",\"@__x__values_original\"],[\"Loss\",\"@{Loss}\"],[\"Win\",\"@{Win}\"]]},\"id\":\"2325\",\"type\":\"HoverTool\"},{\"attributes\":{},\"id\":\"2304\",\"type\":\"BasicTickFormatter\"},{\"attributes\":{},\"id\":\"2260\",\"type\":\"DataRange1d\"},{\"attributes\":{},\"id\":\"2262\",\"type\":\"LinearScale\"},{\"attributes\":{\"data\":{\"Loss\":[780,205],\"Win\":[981,261],\"__x__values\":[0,1],\"__x__values_original\":[\"Crewmate\",\"Imposter\"]},\"selected\":{\"id\":\"2306\"},\"selection_policy\":{\"id\":\"2305\"}},\"id\":\"2254\",\"type\":\"ColumnDataSource\"},{\"attributes\":{\"axis_label\":\"Team\",\"formatter\":{\"id\":\"2288\"},\"major_label_policy\":{\"id\":\"2300\"},\"ticker\":{\"id\":\"2327\"}},\"id\":\"2266\",\"type\":\"LinearAxis\"},{\"attributes\":{\"data_source\":{\"id\":\"2254\"},\"glyph\":{\"id\":\"2295\"},\"hover_glyph\":null,\"muted_glyph\":null,\"name\":\"Loss\",\"nonselection_glyph\":{\"id\":\"2296\"},\"view\":{\"id\":\"2298\"}},\"id\":\"2297\",\"type\":\"GlyphRenderer\"},{\"attributes\":{\"axis\":{\"id\":\"2266\"},\"ticker\":null},\"id\":\"2269\",\"type\":\"Grid\"},{\"attributes\":{},\"id\":\"2264\",\"type\":\"LinearScale\"},{\"attributes\":{},\"id\":\"2279\",\"type\":\"HelpTool\"},{\"attributes\":{\"formatter\":{\"id\":\"2304\"},\"major_label_policy\":{\"id\":\"2302\"},\"ticker\":{\"id\":\"2271\"}},\"id\":\"2270\",\"type\":\"LinearAxis\"},{\"attributes\":{\"label\":{\"value\":\"Loss\"},\"renderers\":[{\"id\":\"2297\"}]},\"id\":\"2309\",\"type\":\"LegendItem\"},{\"attributes\":{\"axis\":{\"id\":\"2270\"},\"dimension\":1,\"ticker\":null},\"id\":\"2273\",\"type\":\"Grid\"},{\"attributes\":{\"active_multi\":null,\"active_scroll\":{\"id\":\"2275\"},\"tools\":[{\"id\":\"2274\"},{\"id\":\"2275\"},{\"id\":\"2276\"},{\"id\":\"2277\"},{\"id\":\"2278\"},{\"id\":\"2279\"},{\"id\":\"2325\"}]},\"id\":\"2281\",\"type\":\"Toolbar\"},{\"attributes\":{},\"id\":\"2271\",\"type\":\"BasicTicker\"},{\"attributes\":{\"source\":{\"id\":\"2254\"}},\"id\":\"2298\",\"type\":\"CDSView\"},{\"attributes\":{\"fields\":[\"Loss\"]},\"id\":\"2292\",\"type\":\"Stack\"},{\"attributes\":{\"items\":[{\"id\":\"2309\"},{\"id\":\"2324\"}]},\"id\":\"2308\",\"type\":\"Legend\"},{\"attributes\":{\"bottom\":{\"expr\":{\"id\":\"2290\"}},\"fill_alpha\":{\"value\":0.1},\"fill_color\":{\"value\":\"#1f77b4\"},\"line_alpha\":{\"value\":0.1},\"line_color\":{\"value\":\"#1f77b4\"},\"line_width\":{\"value\":2},\"top\":{\"expr\":{\"id\":\"2291\"}},\"width\":{\"value\":0.8},\"x\":{\"field\":\"__x__values\"}},\"id\":\"2296\",\"type\":\"VBar\"},{\"attributes\":{\"fields\":[\"Loss\",\"Win\"]},\"id\":\"2293\",\"type\":\"Stack\"},{\"attributes\":{},\"id\":\"2275\",\"type\":\"WheelZoomTool\"},{\"attributes\":{},\"id\":\"2274\",\"type\":\"PanTool\"},{\"attributes\":{\"bottom\":{\"expr\":{\"id\":\"2290\"}},\"fill_color\":{\"value\":\"#1f77b4\"},\"line_color\":{\"value\":\"#1f77b4\"},\"line_width\":{\"value\":2},\"top\":{\"expr\":{\"id\":\"2291\"}},\"width\":{\"value\":0.8},\"x\":{\"field\":\"__x__values\"}},\"id\":\"2295\",\"type\":\"VBar\"},{\"attributes\":{\"overlay\":{\"id\":\"2280\"}},\"id\":\"2276\",\"type\":\"BoxZoomTool\"},{\"attributes\":{\"fields\":[]},\"id\":\"2290\",\"type\":\"Stack\"},{\"attributes\":{},\"id\":\"2277\",\"type\":\"SaveTool\"},{\"attributes\":{},\"id\":\"2278\",\"type\":\"ResetTool\"},{\"attributes\":{\"fields\":[\"Loss\"]},\"id\":\"2291\",\"type\":\"Stack\"}],\"root_ids\":[\"2255\"]},\"title\":\"Bokeh Application\",\"version\":\"2.3.2\"}};\n  var render_items = [{\"docid\":\"6dd12bc6-3776-4d21-827f-d2f73f040ed8\",\"root_ids\":[\"2255\"],\"roots\":{\"2255\":\"6c11980a-56d6-4d76-a847-034f906a9635\"}}];\n  root.Bokeh.embed.embed_items_notebook(docs_json, render_items);\n\n  }\n  if (root.Bokeh !== undefined) {\n    embed_document(root);\n  } else {\n    var attempts = 0;\n    var timer = setInterval(function(root) {\n      if (root.Bokeh !== undefined) {\n        clearInterval(timer);\n        embed_document(root);\n      } else {\n        attempts++;\n        if (attempts > 100) {\n          clearInterval(timer);\n          console.log(\"Bokeh: ERROR: Unable to run BokehJS code because BokehJS library is missing\");\n        }\n      }\n    }, 10, root)\n  }\n})(window);",
      "application/vnd.bokehjs_exec.v0+json": ""
     },
     "metadata": {
      "application/vnd.bokehjs_exec.v0+json": {
       "id": "2255"
      }
     },
     "output_type": "display_data"
    },
    {
     "data": {
      "text/html": [
       "<div style=\"display: table;\"><div style=\"display: table-row;\"><div style=\"display: table-cell;\"><b title=\"bokeh.plotting.figure.Figure\">Figure</b>(</div><div style=\"display: table-cell;\">id&nbsp;=&nbsp;'2255', <span id=\"2415\" style=\"cursor: pointer;\">&hellip;)</span></div></div><div class=\"2414\" style=\"display: none;\"><div style=\"display: table-cell;\"></div><div style=\"display: table-cell;\">above&nbsp;=&nbsp;[],</div></div><div class=\"2414\" style=\"display: none;\"><div style=\"display: table-cell;\"></div><div style=\"display: table-cell;\">align&nbsp;=&nbsp;'start',</div></div><div class=\"2414\" style=\"display: none;\"><div style=\"display: table-cell;\"></div><div style=\"display: table-cell;\">aspect_ratio&nbsp;=&nbsp;None,</div></div><div class=\"2414\" style=\"display: none;\"><div style=\"display: table-cell;\"></div><div style=\"display: table-cell;\">aspect_scale&nbsp;=&nbsp;1,</div></div><div class=\"2414\" style=\"display: none;\"><div style=\"display: table-cell;\"></div><div style=\"display: table-cell;\">background&nbsp;=&nbsp;None,</div></div><div class=\"2414\" style=\"display: none;\"><div style=\"display: table-cell;\"></div><div style=\"display: table-cell;\">background_fill_alpha&nbsp;=&nbsp;1.0,</div></div><div class=\"2414\" style=\"display: none;\"><div style=\"display: table-cell;\"></div><div style=\"display: table-cell;\">background_fill_color&nbsp;=&nbsp;'#ffffff',</div></div><div class=\"2414\" style=\"display: none;\"><div style=\"display: table-cell;\"></div><div style=\"display: table-cell;\">below&nbsp;=&nbsp;[LinearAxis(id='2266', ...)],</div></div><div class=\"2414\" style=\"display: none;\"><div style=\"display: table-cell;\"></div><div style=\"display: table-cell;\">border_fill_alpha&nbsp;=&nbsp;1.0,</div></div><div class=\"2414\" style=\"display: none;\"><div style=\"display: table-cell;\"></div><div style=\"display: table-cell;\">border_fill_color&nbsp;=&nbsp;'#ffffff',</div></div><div class=\"2414\" style=\"display: none;\"><div style=\"display: table-cell;\"></div><div style=\"display: table-cell;\">center&nbsp;=&nbsp;[Grid(id='2269', ...), Grid(id='2273', ...), Legend(id='2308', ...)],</div></div><div class=\"2414\" style=\"display: none;\"><div style=\"display: table-cell;\"></div><div style=\"display: table-cell;\">css_classes&nbsp;=&nbsp;[],</div></div><div class=\"2414\" style=\"display: none;\"><div style=\"display: table-cell;\"></div><div style=\"display: table-cell;\">disabled&nbsp;=&nbsp;False,</div></div><div class=\"2414\" style=\"display: none;\"><div style=\"display: table-cell;\"></div><div style=\"display: table-cell;\">extra_x_ranges&nbsp;=&nbsp;{},</div></div><div class=\"2414\" style=\"display: none;\"><div style=\"display: table-cell;\"></div><div style=\"display: table-cell;\">extra_y_ranges&nbsp;=&nbsp;{},</div></div><div class=\"2414\" style=\"display: none;\"><div style=\"display: table-cell;\"></div><div style=\"display: table-cell;\">frame_height&nbsp;=&nbsp;None,</div></div><div class=\"2414\" style=\"display: none;\"><div style=\"display: table-cell;\"></div><div style=\"display: table-cell;\">frame_width&nbsp;=&nbsp;None,</div></div><div class=\"2414\" style=\"display: none;\"><div style=\"display: table-cell;\"></div><div style=\"display: table-cell;\">height&nbsp;=&nbsp;350,</div></div><div class=\"2414\" style=\"display: none;\"><div style=\"display: table-cell;\"></div><div style=\"display: table-cell;\">height_policy&nbsp;=&nbsp;'auto',</div></div><div class=\"2414\" style=\"display: none;\"><div style=\"display: table-cell;\"></div><div style=\"display: table-cell;\">hidpi&nbsp;=&nbsp;True,</div></div><div class=\"2414\" style=\"display: none;\"><div style=\"display: table-cell;\"></div><div style=\"display: table-cell;\">inner_height&nbsp;=&nbsp;0,</div></div><div class=\"2414\" style=\"display: none;\"><div style=\"display: table-cell;\"></div><div style=\"display: table-cell;\">inner_width&nbsp;=&nbsp;0,</div></div><div class=\"2414\" style=\"display: none;\"><div style=\"display: table-cell;\"></div><div style=\"display: table-cell;\">js_event_callbacks&nbsp;=&nbsp;{},</div></div><div class=\"2414\" style=\"display: none;\"><div style=\"display: table-cell;\"></div><div style=\"display: table-cell;\">js_property_callbacks&nbsp;=&nbsp;{},</div></div><div class=\"2414\" style=\"display: none;\"><div style=\"display: table-cell;\"></div><div style=\"display: table-cell;\">left&nbsp;=&nbsp;[LinearAxis(id='2270', ...)],</div></div><div class=\"2414\" style=\"display: none;\"><div style=\"display: table-cell;\"></div><div style=\"display: table-cell;\">lod_factor&nbsp;=&nbsp;10,</div></div><div class=\"2414\" style=\"display: none;\"><div style=\"display: table-cell;\"></div><div style=\"display: table-cell;\">lod_interval&nbsp;=&nbsp;300,</div></div><div class=\"2414\" style=\"display: none;\"><div style=\"display: table-cell;\"></div><div style=\"display: table-cell;\">lod_threshold&nbsp;=&nbsp;2000,</div></div><div class=\"2414\" style=\"display: none;\"><div style=\"display: table-cell;\"></div><div style=\"display: table-cell;\">lod_timeout&nbsp;=&nbsp;500,</div></div><div class=\"2414\" style=\"display: none;\"><div style=\"display: table-cell;\"></div><div style=\"display: table-cell;\">margin&nbsp;=&nbsp;(0, 0, 0, 0),</div></div><div class=\"2414\" style=\"display: none;\"><div style=\"display: table-cell;\"></div><div style=\"display: table-cell;\">match_aspect&nbsp;=&nbsp;False,</div></div><div class=\"2414\" style=\"display: none;\"><div style=\"display: table-cell;\"></div><div style=\"display: table-cell;\">max_height&nbsp;=&nbsp;None,</div></div><div class=\"2414\" style=\"display: none;\"><div style=\"display: table-cell;\"></div><div style=\"display: table-cell;\">max_width&nbsp;=&nbsp;None,</div></div><div class=\"2414\" style=\"display: none;\"><div style=\"display: table-cell;\"></div><div style=\"display: table-cell;\">min_border&nbsp;=&nbsp;5,</div></div><div class=\"2414\" style=\"display: none;\"><div style=\"display: table-cell;\"></div><div style=\"display: table-cell;\">min_border_bottom&nbsp;=&nbsp;None,</div></div><div class=\"2414\" style=\"display: none;\"><div style=\"display: table-cell;\"></div><div style=\"display: table-cell;\">min_border_left&nbsp;=&nbsp;None,</div></div><div class=\"2414\" style=\"display: none;\"><div style=\"display: table-cell;\"></div><div style=\"display: table-cell;\">min_border_right&nbsp;=&nbsp;None,</div></div><div class=\"2414\" style=\"display: none;\"><div style=\"display: table-cell;\"></div><div style=\"display: table-cell;\">min_border_top&nbsp;=&nbsp;None,</div></div><div class=\"2414\" style=\"display: none;\"><div style=\"display: table-cell;\"></div><div style=\"display: table-cell;\">min_height&nbsp;=&nbsp;None,</div></div><div class=\"2414\" style=\"display: none;\"><div style=\"display: table-cell;\"></div><div style=\"display: table-cell;\">min_width&nbsp;=&nbsp;None,</div></div><div class=\"2414\" style=\"display: none;\"><div style=\"display: table-cell;\"></div><div style=\"display: table-cell;\">name&nbsp;=&nbsp;None,</div></div><div class=\"2414\" style=\"display: none;\"><div style=\"display: table-cell;\"></div><div style=\"display: table-cell;\">outer_height&nbsp;=&nbsp;0,</div></div><div class=\"2414\" style=\"display: none;\"><div style=\"display: table-cell;\"></div><div style=\"display: table-cell;\">outer_width&nbsp;=&nbsp;0,</div></div><div class=\"2414\" style=\"display: none;\"><div style=\"display: table-cell;\"></div><div style=\"display: table-cell;\">outline_line_alpha&nbsp;=&nbsp;1.0,</div></div><div class=\"2414\" style=\"display: none;\"><div style=\"display: table-cell;\"></div><div style=\"display: table-cell;\">outline_line_cap&nbsp;=&nbsp;'butt',</div></div><div class=\"2414\" style=\"display: none;\"><div style=\"display: table-cell;\"></div><div style=\"display: table-cell;\">outline_line_color&nbsp;=&nbsp;'#e5e5e5',</div></div><div class=\"2414\" style=\"display: none;\"><div style=\"display: table-cell;\"></div><div style=\"display: table-cell;\">outline_line_dash&nbsp;=&nbsp;[],</div></div><div class=\"2414\" style=\"display: none;\"><div style=\"display: table-cell;\"></div><div style=\"display: table-cell;\">outline_line_dash_offset&nbsp;=&nbsp;0,</div></div><div class=\"2414\" style=\"display: none;\"><div style=\"display: table-cell;\"></div><div style=\"display: table-cell;\">outline_line_join&nbsp;=&nbsp;'bevel',</div></div><div class=\"2414\" style=\"display: none;\"><div style=\"display: table-cell;\"></div><div style=\"display: table-cell;\">outline_line_width&nbsp;=&nbsp;1,</div></div><div class=\"2414\" style=\"display: none;\"><div style=\"display: table-cell;\"></div><div style=\"display: table-cell;\">output_backend&nbsp;=&nbsp;'webgl',</div></div><div class=\"2414\" style=\"display: none;\"><div style=\"display: table-cell;\"></div><div style=\"display: table-cell;\">renderers&nbsp;=&nbsp;[GlyphRenderer(id='2297', ...), GlyphRenderer(id='2313', ...)],</div></div><div class=\"2414\" style=\"display: none;\"><div style=\"display: table-cell;\"></div><div style=\"display: table-cell;\">reset_policy&nbsp;=&nbsp;'standard',</div></div><div class=\"2414\" style=\"display: none;\"><div style=\"display: table-cell;\"></div><div style=\"display: table-cell;\">right&nbsp;=&nbsp;[],</div></div><div class=\"2414\" style=\"display: none;\"><div style=\"display: table-cell;\"></div><div style=\"display: table-cell;\">sizing_mode&nbsp;=&nbsp;'fixed',</div></div><div class=\"2414\" style=\"display: none;\"><div style=\"display: table-cell;\"></div><div style=\"display: table-cell;\">subscribed_events&nbsp;=&nbsp;[],</div></div><div class=\"2414\" style=\"display: none;\"><div style=\"display: table-cell;\"></div><div style=\"display: table-cell;\">syncable&nbsp;=&nbsp;True,</div></div><div class=\"2414\" style=\"display: none;\"><div style=\"display: table-cell;\"></div><div style=\"display: table-cell;\">tags&nbsp;=&nbsp;[],</div></div><div class=\"2414\" style=\"display: none;\"><div style=\"display: table-cell;\"></div><div style=\"display: table-cell;\">title&nbsp;=&nbsp;Title(id='2256', ...),</div></div><div class=\"2414\" style=\"display: none;\"><div style=\"display: table-cell;\"></div><div style=\"display: table-cell;\">title_location&nbsp;=&nbsp;'above',</div></div><div class=\"2414\" style=\"display: none;\"><div style=\"display: table-cell;\"></div><div style=\"display: table-cell;\">toolbar&nbsp;=&nbsp;Toolbar(id='2281', ...),</div></div><div class=\"2414\" style=\"display: none;\"><div style=\"display: table-cell;\"></div><div style=\"display: table-cell;\">toolbar_location&nbsp;=&nbsp;'right',</div></div><div class=\"2414\" style=\"display: none;\"><div style=\"display: table-cell;\"></div><div style=\"display: table-cell;\">toolbar_sticky&nbsp;=&nbsp;True,</div></div><div class=\"2414\" style=\"display: none;\"><div style=\"display: table-cell;\"></div><div style=\"display: table-cell;\">visible&nbsp;=&nbsp;True,</div></div><div class=\"2414\" style=\"display: none;\"><div style=\"display: table-cell;\"></div><div style=\"display: table-cell;\">width&nbsp;=&nbsp;450,</div></div><div class=\"2414\" style=\"display: none;\"><div style=\"display: table-cell;\"></div><div style=\"display: table-cell;\">width_policy&nbsp;=&nbsp;'auto',</div></div><div class=\"2414\" style=\"display: none;\"><div style=\"display: table-cell;\"></div><div style=\"display: table-cell;\">x_range&nbsp;=&nbsp;DataRange1d(id='2258', ...),</div></div><div class=\"2414\" style=\"display: none;\"><div style=\"display: table-cell;\"></div><div style=\"display: table-cell;\">x_scale&nbsp;=&nbsp;LinearScale(id='2262', ...),</div></div><div class=\"2414\" style=\"display: none;\"><div style=\"display: table-cell;\"></div><div style=\"display: table-cell;\">y_range&nbsp;=&nbsp;DataRange1d(id='2260', ...),</div></div><div class=\"2414\" style=\"display: none;\"><div style=\"display: table-cell;\"></div><div style=\"display: table-cell;\">y_scale&nbsp;=&nbsp;LinearScale(id='2264', ...))</div></div></div>\n",
       "<script>\n",
       "(function() {\n",
       "  var expanded = false;\n",
       "  var ellipsis = document.getElementById(\"2415\");\n",
       "  ellipsis.addEventListener(\"click\", function() {\n",
       "    var rows = document.getElementsByClassName(\"2414\");\n",
       "    for (var i = 0; i < rows.length; i++) {\n",
       "      var el = rows[i];\n",
       "      el.style.display = expanded ? \"none\" : \"table-row\";\n",
       "    }\n",
       "    ellipsis.innerHTML = expanded ? \"&hellip;)\" : \"&lsaquo;&lsaquo;&lsaquo;\";\n",
       "    expanded = !expanded;\n",
       "  });\n",
       "})();\n",
       "</script>\n"
      ],
      "text/plain": [
       "Figure(id='2255', ...)"
      ]
     },
     "execution_count": 41,
     "metadata": {},
     "output_type": "execute_result"
    }
   ],
   "source": [
    "df1 = pd.crosstab(df['Team'], df['Outcome'])\n",
    "df1.plot_bokeh.bar(title='Who wins: Imposter or Cremates', stacked=True, figsize=(450, 350))"
   ]
  },
  {
   "cell_type": "code",
   "execution_count": 42,
   "metadata": {},
   "outputs": [
    {
     "data": {
      "text/html": [
       "\n",
       "\n",
       "\n",
       "\n",
       "\n",
       "\n",
       "  <div class=\"bk-root\" id=\"5fc12614-7dce-47c8-a051-7925990daca2\" data-root-id=\"2453\"></div>\n"
      ]
     },
     "metadata": {},
     "output_type": "display_data"
    },
    {
     "data": {
      "application/javascript": "(function(root) {\n  function embed_document(root) {\n    \n  var docs_json = {\"0a2ad0a9-5fd6-4cf2-8361-7bcd2ebd0f0f\":{\"defs\":[],\"roots\":{\"references\":[{\"attributes\":{\"below\":[{\"id\":\"2464\"}],\"center\":[{\"id\":\"2467\"},{\"id\":\"2471\"},{\"id\":\"2508\"}],\"height\":350,\"left\":[{\"id\":\"2468\"}],\"output_backend\":\"webgl\",\"renderers\":[{\"id\":\"2497\"},{\"id\":\"2513\"},{\"id\":\"2528\"}],\"sizing_mode\":\"fixed\",\"title\":{\"id\":\"2454\"},\"toolbar\":{\"id\":\"2479\"},\"width\":650,\"x_range\":{\"id\":\"2456\"},\"x_scale\":{\"id\":\"2460\"},\"y_range\":{\"id\":\"2458\"},\"y_scale\":{\"id\":\"2462\"}},\"id\":\"2453\",\"subtype\":\"Figure\",\"type\":\"Plot\"},{\"attributes\":{},\"id\":\"2476\",\"type\":\"ResetTool\"},{\"attributes\":{\"fill_color\":{\"value\":\"#ff7f0e\"},\"height\":{\"value\":0.8},\"left\":{\"expr\":{\"id\":\"2490\"}},\"line_color\":{\"value\":\"#ff7f0e\"},\"line_width\":{\"value\":2},\"right\":{\"expr\":{\"id\":\"2491\"}},\"y\":{\"field\":\"__x__values\"}},\"id\":\"2511\",\"type\":\"HBar\"},{\"attributes\":{},\"id\":\"2472\",\"type\":\"PanTool\"},{\"attributes\":{},\"id\":\"2500\",\"type\":\"AllLabels\"},{\"attributes\":{\"axis\":{\"id\":\"2468\"},\"dimension\":1,\"ticker\":null},\"id\":\"2471\",\"type\":\"Grid\"},{\"attributes\":{},\"id\":\"2502\",\"type\":\"BasicTickFormatter\"},{\"attributes\":{},\"id\":\"2475\",\"type\":\"SaveTool\"},{\"attributes\":{},\"id\":\"2505\",\"type\":\"UnionRenderers\"},{\"attributes\":{\"data_source\":{\"id\":\"2452\"},\"glyph\":{\"id\":\"2511\"},\"hover_glyph\":null,\"muted_glyph\":null,\"name\":\"Tasks Completed\",\"nonselection_glyph\":{\"id\":\"2512\"},\"view\":{\"id\":\"2514\"}},\"id\":\"2513\",\"type\":\"GlyphRenderer\"},{\"attributes\":{},\"id\":\"2506\",\"type\":\"Selection\"},{\"attributes\":{\"fill_alpha\":{\"value\":0.1},\"fill_color\":{\"value\":\"#ff7f0e\"},\"height\":{\"value\":0.8},\"left\":{\"expr\":{\"id\":\"2490\"}},\"line_alpha\":{\"value\":0.1},\"line_color\":{\"value\":\"#ff7f0e\"},\"line_width\":{\"value\":2},\"right\":{\"expr\":{\"id\":\"2491\"}},\"y\":{\"field\":\"__x__values\"}},\"id\":\"2512\",\"type\":\"HBar\"},{\"attributes\":{\"text\":\"Completing task: win or loss\"},\"id\":\"2454\",\"type\":\"Title\"},{\"attributes\":{\"data\":{\"-\":[205,261],\"Tasks Completed\":[304,464],\"Tasks Not Completed\":[476,517],\"__x__values\":[0,1],\"__x__values_original\":[\"Loss\",\"Win\"]},\"selected\":{\"id\":\"2506\"},\"selection_policy\":{\"id\":\"2505\"}},\"id\":\"2452\",\"type\":\"ColumnDataSource\"},{\"attributes\":{\"label\":{\"value\":\"Tasks Completed\"},\"renderers\":[{\"id\":\"2513\"}]},\"id\":\"2524\",\"type\":\"LegendItem\"},{\"attributes\":{\"source\":{\"id\":\"2452\"}},\"id\":\"2514\",\"type\":\"CDSView\"},{\"attributes\":{\"ticks\":[0,1]},\"id\":\"2542\",\"type\":\"FixedTicker\"},{\"attributes\":{\"code\":\"\\n                                    var labels = {0: 'Loss', 1: 'Win'};\\n                                    return labels[tick];\\n                                    \"},\"id\":\"2486\",\"type\":\"FuncTickFormatter\"},{\"attributes\":{},\"id\":\"2456\",\"type\":\"DataRange1d\"},{\"attributes\":{},\"id\":\"2458\",\"type\":\"DataRange1d\"},{\"attributes\":{\"callback\":null,\"mode\":\"hline\",\"renderers\":[{\"id\":\"2528\"}],\"tooltips\":[[\"Outcome\",\"@__x__values_original\"],[\"-\",\"@{-}\"],[\"Tasks Completed\",\"@{Tasks Completed}\"],[\"Tasks Not Completed\",\"@{Tasks Not Completed}\"]]},\"id\":\"2540\",\"type\":\"HoverTool\"},{\"attributes\":{\"fields\":[\"-\"]},\"id\":\"2490\",\"type\":\"Stack\"},{\"attributes\":{},\"id\":\"2465\",\"type\":\"BasicTicker\"},{\"attributes\":{\"axis_label\":\"Outcome\",\"formatter\":{\"id\":\"2486\"},\"major_label_policy\":{\"id\":\"2503\"},\"ticker\":{\"id\":\"2542\"}},\"id\":\"2468\",\"type\":\"LinearAxis\"},{\"attributes\":{},\"id\":\"2460\",\"type\":\"LinearScale\"},{\"attributes\":{},\"id\":\"2503\",\"type\":\"AllLabels\"},{\"attributes\":{\"fields\":[]},\"id\":\"2488\",\"type\":\"Stack\"},{\"attributes\":{\"fields\":[\"-\",\"Tasks Completed\"]},\"id\":\"2491\",\"type\":\"Stack\"},{\"attributes\":{\"fields\":[\"-\",\"Tasks Completed\"]},\"id\":\"2492\",\"type\":\"Stack\"},{\"attributes\":{\"formatter\":{\"id\":\"2502\"},\"major_label_policy\":{\"id\":\"2500\"},\"ticker\":{\"id\":\"2465\"}},\"id\":\"2464\",\"type\":\"LinearAxis\"},{\"attributes\":{\"fields\":[\"-\"]},\"id\":\"2489\",\"type\":\"Stack\"},{\"attributes\":{\"fill_color\":{\"value\":\"#2ca02c\"},\"height\":{\"value\":0.8},\"left\":{\"expr\":{\"id\":\"2492\"}},\"line_color\":{\"value\":\"#2ca02c\"},\"line_width\":{\"value\":2},\"right\":{\"expr\":{\"id\":\"2493\"}},\"y\":{\"field\":\"__x__values\"}},\"id\":\"2526\",\"type\":\"HBar\"},{\"attributes\":{},\"id\":\"2473\",\"type\":\"WheelZoomTool\"},{\"attributes\":{\"data_source\":{\"id\":\"2452\"},\"glyph\":{\"id\":\"2526\"},\"hover_glyph\":null,\"muted_glyph\":null,\"name\":\"Tasks Not Completed\",\"nonselection_glyph\":{\"id\":\"2527\"},\"view\":{\"id\":\"2529\"}},\"id\":\"2528\",\"type\":\"GlyphRenderer\"},{\"attributes\":{},\"id\":\"2462\",\"type\":\"LinearScale\"},{\"attributes\":{\"fill_color\":{\"value\":\"#1f77b4\"},\"height\":{\"value\":0.8},\"left\":{\"expr\":{\"id\":\"2488\"}},\"line_color\":{\"value\":\"#1f77b4\"},\"line_width\":{\"value\":2},\"right\":{\"expr\":{\"id\":\"2489\"}},\"y\":{\"field\":\"__x__values\"}},\"id\":\"2495\",\"type\":\"HBar\"},{\"attributes\":{\"fields\":[\"-\",\"Tasks Completed\",\"Tasks Not Completed\"]},\"id\":\"2493\",\"type\":\"Stack\"},{\"attributes\":{},\"id\":\"2477\",\"type\":\"HelpTool\"},{\"attributes\":{\"fill_alpha\":{\"value\":0.1},\"fill_color\":{\"value\":\"#2ca02c\"},\"height\":{\"value\":0.8},\"left\":{\"expr\":{\"id\":\"2492\"}},\"line_alpha\":{\"value\":0.1},\"line_color\":{\"value\":\"#2ca02c\"},\"line_width\":{\"value\":2},\"right\":{\"expr\":{\"id\":\"2493\"}},\"y\":{\"field\":\"__x__values\"}},\"id\":\"2527\",\"type\":\"HBar\"},{\"attributes\":{\"data_source\":{\"id\":\"2452\"},\"glyph\":{\"id\":\"2495\"},\"hover_glyph\":null,\"muted_glyph\":null,\"name\":\"-\",\"nonselection_glyph\":{\"id\":\"2496\"},\"view\":{\"id\":\"2498\"}},\"id\":\"2497\",\"type\":\"GlyphRenderer\"},{\"attributes\":{\"axis\":{\"id\":\"2464\"},\"ticker\":null},\"id\":\"2467\",\"type\":\"Grid\"},{\"attributes\":{\"bottom_units\":\"screen\",\"fill_alpha\":0.5,\"fill_color\":\"lightgrey\",\"left_units\":\"screen\",\"level\":\"overlay\",\"line_alpha\":1.0,\"line_color\":\"black\",\"line_dash\":[4,4],\"line_width\":2,\"right_units\":\"screen\",\"syncable\":false,\"top_units\":\"screen\"},\"id\":\"2478\",\"type\":\"BoxAnnotation\"},{\"attributes\":{\"fill_alpha\":{\"value\":0.1},\"fill_color\":{\"value\":\"#1f77b4\"},\"height\":{\"value\":0.8},\"left\":{\"expr\":{\"id\":\"2488\"}},\"line_alpha\":{\"value\":0.1},\"line_color\":{\"value\":\"#1f77b4\"},\"line_width\":{\"value\":2},\"right\":{\"expr\":{\"id\":\"2489\"}},\"y\":{\"field\":\"__x__values\"}},\"id\":\"2496\",\"type\":\"HBar\"},{\"attributes\":{\"label\":{\"value\":\"Tasks Not Completed\"},\"renderers\":[{\"id\":\"2528\"}]},\"id\":\"2539\",\"type\":\"LegendItem\"},{\"attributes\":{\"overlay\":{\"id\":\"2478\"}},\"id\":\"2474\",\"type\":\"BoxZoomTool\"},{\"attributes\":{\"source\":{\"id\":\"2452\"}},\"id\":\"2529\",\"type\":\"CDSView\"},{\"attributes\":{\"label\":{\"value\":\"-\"},\"renderers\":[{\"id\":\"2497\"}]},\"id\":\"2509\",\"type\":\"LegendItem\"},{\"attributes\":{\"source\":{\"id\":\"2452\"}},\"id\":\"2498\",\"type\":\"CDSView\"},{\"attributes\":{\"items\":[{\"id\":\"2509\"},{\"id\":\"2524\"},{\"id\":\"2539\"}]},\"id\":\"2508\",\"type\":\"Legend\"},{\"attributes\":{\"active_multi\":null,\"active_scroll\":{\"id\":\"2473\"},\"tools\":[{\"id\":\"2472\"},{\"id\":\"2473\"},{\"id\":\"2474\"},{\"id\":\"2475\"},{\"id\":\"2476\"},{\"id\":\"2477\"},{\"id\":\"2540\"}]},\"id\":\"2479\",\"type\":\"Toolbar\"}],\"root_ids\":[\"2453\"]},\"title\":\"Bokeh Application\",\"version\":\"2.3.2\"}};\n  var render_items = [{\"docid\":\"0a2ad0a9-5fd6-4cf2-8361-7bcd2ebd0f0f\",\"root_ids\":[\"2453\"],\"roots\":{\"2453\":\"5fc12614-7dce-47c8-a051-7925990daca2\"}}];\n  root.Bokeh.embed.embed_items_notebook(docs_json, render_items);\n\n  }\n  if (root.Bokeh !== undefined) {\n    embed_document(root);\n  } else {\n    var attempts = 0;\n    var timer = setInterval(function(root) {\n      if (root.Bokeh !== undefined) {\n        clearInterval(timer);\n        embed_document(root);\n      } else {\n        attempts++;\n        if (attempts > 100) {\n          clearInterval(timer);\n          console.log(\"Bokeh: ERROR: Unable to run BokehJS code because BokehJS library is missing\");\n        }\n      }\n    }, 10, root)\n  }\n})(window);",
      "application/vnd.bokehjs_exec.v0+json": ""
     },
     "metadata": {
      "application/vnd.bokehjs_exec.v0+json": {
       "id": "2453"
      }
     },
     "output_type": "display_data"
    },
    {
     "data": {
      "text/html": [
       "<div style=\"display: table;\"><div style=\"display: table-row;\"><div style=\"display: table-cell;\"><b title=\"bokeh.plotting.figure.Figure\">Figure</b>(</div><div style=\"display: table-cell;\">id&nbsp;=&nbsp;'2453', <span id=\"2638\" style=\"cursor: pointer;\">&hellip;)</span></div></div><div class=\"2637\" style=\"display: none;\"><div style=\"display: table-cell;\"></div><div style=\"display: table-cell;\">above&nbsp;=&nbsp;[],</div></div><div class=\"2637\" style=\"display: none;\"><div style=\"display: table-cell;\"></div><div style=\"display: table-cell;\">align&nbsp;=&nbsp;'start',</div></div><div class=\"2637\" style=\"display: none;\"><div style=\"display: table-cell;\"></div><div style=\"display: table-cell;\">aspect_ratio&nbsp;=&nbsp;None,</div></div><div class=\"2637\" style=\"display: none;\"><div style=\"display: table-cell;\"></div><div style=\"display: table-cell;\">aspect_scale&nbsp;=&nbsp;1,</div></div><div class=\"2637\" style=\"display: none;\"><div style=\"display: table-cell;\"></div><div style=\"display: table-cell;\">background&nbsp;=&nbsp;None,</div></div><div class=\"2637\" style=\"display: none;\"><div style=\"display: table-cell;\"></div><div style=\"display: table-cell;\">background_fill_alpha&nbsp;=&nbsp;1.0,</div></div><div class=\"2637\" style=\"display: none;\"><div style=\"display: table-cell;\"></div><div style=\"display: table-cell;\">background_fill_color&nbsp;=&nbsp;'#ffffff',</div></div><div class=\"2637\" style=\"display: none;\"><div style=\"display: table-cell;\"></div><div style=\"display: table-cell;\">below&nbsp;=&nbsp;[LinearAxis(id='2464', ...)],</div></div><div class=\"2637\" style=\"display: none;\"><div style=\"display: table-cell;\"></div><div style=\"display: table-cell;\">border_fill_alpha&nbsp;=&nbsp;1.0,</div></div><div class=\"2637\" style=\"display: none;\"><div style=\"display: table-cell;\"></div><div style=\"display: table-cell;\">border_fill_color&nbsp;=&nbsp;'#ffffff',</div></div><div class=\"2637\" style=\"display: none;\"><div style=\"display: table-cell;\"></div><div style=\"display: table-cell;\">center&nbsp;=&nbsp;[Grid(id='2467', ...), Grid(id='2471', ...), Legend(id='2508', ...)],</div></div><div class=\"2637\" style=\"display: none;\"><div style=\"display: table-cell;\"></div><div style=\"display: table-cell;\">css_classes&nbsp;=&nbsp;[],</div></div><div class=\"2637\" style=\"display: none;\"><div style=\"display: table-cell;\"></div><div style=\"display: table-cell;\">disabled&nbsp;=&nbsp;False,</div></div><div class=\"2637\" style=\"display: none;\"><div style=\"display: table-cell;\"></div><div style=\"display: table-cell;\">extra_x_ranges&nbsp;=&nbsp;{},</div></div><div class=\"2637\" style=\"display: none;\"><div style=\"display: table-cell;\"></div><div style=\"display: table-cell;\">extra_y_ranges&nbsp;=&nbsp;{},</div></div><div class=\"2637\" style=\"display: none;\"><div style=\"display: table-cell;\"></div><div style=\"display: table-cell;\">frame_height&nbsp;=&nbsp;None,</div></div><div class=\"2637\" style=\"display: none;\"><div style=\"display: table-cell;\"></div><div style=\"display: table-cell;\">frame_width&nbsp;=&nbsp;None,</div></div><div class=\"2637\" style=\"display: none;\"><div style=\"display: table-cell;\"></div><div style=\"display: table-cell;\">height&nbsp;=&nbsp;350,</div></div><div class=\"2637\" style=\"display: none;\"><div style=\"display: table-cell;\"></div><div style=\"display: table-cell;\">height_policy&nbsp;=&nbsp;'auto',</div></div><div class=\"2637\" style=\"display: none;\"><div style=\"display: table-cell;\"></div><div style=\"display: table-cell;\">hidpi&nbsp;=&nbsp;True,</div></div><div class=\"2637\" style=\"display: none;\"><div style=\"display: table-cell;\"></div><div style=\"display: table-cell;\">inner_height&nbsp;=&nbsp;0,</div></div><div class=\"2637\" style=\"display: none;\"><div style=\"display: table-cell;\"></div><div style=\"display: table-cell;\">inner_width&nbsp;=&nbsp;0,</div></div><div class=\"2637\" style=\"display: none;\"><div style=\"display: table-cell;\"></div><div style=\"display: table-cell;\">js_event_callbacks&nbsp;=&nbsp;{},</div></div><div class=\"2637\" style=\"display: none;\"><div style=\"display: table-cell;\"></div><div style=\"display: table-cell;\">js_property_callbacks&nbsp;=&nbsp;{},</div></div><div class=\"2637\" style=\"display: none;\"><div style=\"display: table-cell;\"></div><div style=\"display: table-cell;\">left&nbsp;=&nbsp;[LinearAxis(id='2468', ...)],</div></div><div class=\"2637\" style=\"display: none;\"><div style=\"display: table-cell;\"></div><div style=\"display: table-cell;\">lod_factor&nbsp;=&nbsp;10,</div></div><div class=\"2637\" style=\"display: none;\"><div style=\"display: table-cell;\"></div><div style=\"display: table-cell;\">lod_interval&nbsp;=&nbsp;300,</div></div><div class=\"2637\" style=\"display: none;\"><div style=\"display: table-cell;\"></div><div style=\"display: table-cell;\">lod_threshold&nbsp;=&nbsp;2000,</div></div><div class=\"2637\" style=\"display: none;\"><div style=\"display: table-cell;\"></div><div style=\"display: table-cell;\">lod_timeout&nbsp;=&nbsp;500,</div></div><div class=\"2637\" style=\"display: none;\"><div style=\"display: table-cell;\"></div><div style=\"display: table-cell;\">margin&nbsp;=&nbsp;(0, 0, 0, 0),</div></div><div class=\"2637\" style=\"display: none;\"><div style=\"display: table-cell;\"></div><div style=\"display: table-cell;\">match_aspect&nbsp;=&nbsp;False,</div></div><div class=\"2637\" style=\"display: none;\"><div style=\"display: table-cell;\"></div><div style=\"display: table-cell;\">max_height&nbsp;=&nbsp;None,</div></div><div class=\"2637\" style=\"display: none;\"><div style=\"display: table-cell;\"></div><div style=\"display: table-cell;\">max_width&nbsp;=&nbsp;None,</div></div><div class=\"2637\" style=\"display: none;\"><div style=\"display: table-cell;\"></div><div style=\"display: table-cell;\">min_border&nbsp;=&nbsp;5,</div></div><div class=\"2637\" style=\"display: none;\"><div style=\"display: table-cell;\"></div><div style=\"display: table-cell;\">min_border_bottom&nbsp;=&nbsp;None,</div></div><div class=\"2637\" style=\"display: none;\"><div style=\"display: table-cell;\"></div><div style=\"display: table-cell;\">min_border_left&nbsp;=&nbsp;None,</div></div><div class=\"2637\" style=\"display: none;\"><div style=\"display: table-cell;\"></div><div style=\"display: table-cell;\">min_border_right&nbsp;=&nbsp;None,</div></div><div class=\"2637\" style=\"display: none;\"><div style=\"display: table-cell;\"></div><div style=\"display: table-cell;\">min_border_top&nbsp;=&nbsp;None,</div></div><div class=\"2637\" style=\"display: none;\"><div style=\"display: table-cell;\"></div><div style=\"display: table-cell;\">min_height&nbsp;=&nbsp;None,</div></div><div class=\"2637\" style=\"display: none;\"><div style=\"display: table-cell;\"></div><div style=\"display: table-cell;\">min_width&nbsp;=&nbsp;None,</div></div><div class=\"2637\" style=\"display: none;\"><div style=\"display: table-cell;\"></div><div style=\"display: table-cell;\">name&nbsp;=&nbsp;None,</div></div><div class=\"2637\" style=\"display: none;\"><div style=\"display: table-cell;\"></div><div style=\"display: table-cell;\">outer_height&nbsp;=&nbsp;0,</div></div><div class=\"2637\" style=\"display: none;\"><div style=\"display: table-cell;\"></div><div style=\"display: table-cell;\">outer_width&nbsp;=&nbsp;0,</div></div><div class=\"2637\" style=\"display: none;\"><div style=\"display: table-cell;\"></div><div style=\"display: table-cell;\">outline_line_alpha&nbsp;=&nbsp;1.0,</div></div><div class=\"2637\" style=\"display: none;\"><div style=\"display: table-cell;\"></div><div style=\"display: table-cell;\">outline_line_cap&nbsp;=&nbsp;'butt',</div></div><div class=\"2637\" style=\"display: none;\"><div style=\"display: table-cell;\"></div><div style=\"display: table-cell;\">outline_line_color&nbsp;=&nbsp;'#e5e5e5',</div></div><div class=\"2637\" style=\"display: none;\"><div style=\"display: table-cell;\"></div><div style=\"display: table-cell;\">outline_line_dash&nbsp;=&nbsp;[],</div></div><div class=\"2637\" style=\"display: none;\"><div style=\"display: table-cell;\"></div><div style=\"display: table-cell;\">outline_line_dash_offset&nbsp;=&nbsp;0,</div></div><div class=\"2637\" style=\"display: none;\"><div style=\"display: table-cell;\"></div><div style=\"display: table-cell;\">outline_line_join&nbsp;=&nbsp;'bevel',</div></div><div class=\"2637\" style=\"display: none;\"><div style=\"display: table-cell;\"></div><div style=\"display: table-cell;\">outline_line_width&nbsp;=&nbsp;1,</div></div><div class=\"2637\" style=\"display: none;\"><div style=\"display: table-cell;\"></div><div style=\"display: table-cell;\">output_backend&nbsp;=&nbsp;'webgl',</div></div><div class=\"2637\" style=\"display: none;\"><div style=\"display: table-cell;\"></div><div style=\"display: table-cell;\">renderers&nbsp;=&nbsp;[GlyphRenderer(id='2497', ...), GlyphRenderer(id='2513', ...), GlyphRenderer(id='2528', ...)],</div></div><div class=\"2637\" style=\"display: none;\"><div style=\"display: table-cell;\"></div><div style=\"display: table-cell;\">reset_policy&nbsp;=&nbsp;'standard',</div></div><div class=\"2637\" style=\"display: none;\"><div style=\"display: table-cell;\"></div><div style=\"display: table-cell;\">right&nbsp;=&nbsp;[],</div></div><div class=\"2637\" style=\"display: none;\"><div style=\"display: table-cell;\"></div><div style=\"display: table-cell;\">sizing_mode&nbsp;=&nbsp;'fixed',</div></div><div class=\"2637\" style=\"display: none;\"><div style=\"display: table-cell;\"></div><div style=\"display: table-cell;\">subscribed_events&nbsp;=&nbsp;[],</div></div><div class=\"2637\" style=\"display: none;\"><div style=\"display: table-cell;\"></div><div style=\"display: table-cell;\">syncable&nbsp;=&nbsp;True,</div></div><div class=\"2637\" style=\"display: none;\"><div style=\"display: table-cell;\"></div><div style=\"display: table-cell;\">tags&nbsp;=&nbsp;[],</div></div><div class=\"2637\" style=\"display: none;\"><div style=\"display: table-cell;\"></div><div style=\"display: table-cell;\">title&nbsp;=&nbsp;Title(id='2454', ...),</div></div><div class=\"2637\" style=\"display: none;\"><div style=\"display: table-cell;\"></div><div style=\"display: table-cell;\">title_location&nbsp;=&nbsp;'above',</div></div><div class=\"2637\" style=\"display: none;\"><div style=\"display: table-cell;\"></div><div style=\"display: table-cell;\">toolbar&nbsp;=&nbsp;Toolbar(id='2479', ...),</div></div><div class=\"2637\" style=\"display: none;\"><div style=\"display: table-cell;\"></div><div style=\"display: table-cell;\">toolbar_location&nbsp;=&nbsp;'right',</div></div><div class=\"2637\" style=\"display: none;\"><div style=\"display: table-cell;\"></div><div style=\"display: table-cell;\">toolbar_sticky&nbsp;=&nbsp;True,</div></div><div class=\"2637\" style=\"display: none;\"><div style=\"display: table-cell;\"></div><div style=\"display: table-cell;\">visible&nbsp;=&nbsp;True,</div></div><div class=\"2637\" style=\"display: none;\"><div style=\"display: table-cell;\"></div><div style=\"display: table-cell;\">width&nbsp;=&nbsp;650,</div></div><div class=\"2637\" style=\"display: none;\"><div style=\"display: table-cell;\"></div><div style=\"display: table-cell;\">width_policy&nbsp;=&nbsp;'auto',</div></div><div class=\"2637\" style=\"display: none;\"><div style=\"display: table-cell;\"></div><div style=\"display: table-cell;\">x_range&nbsp;=&nbsp;DataRange1d(id='2456', ...),</div></div><div class=\"2637\" style=\"display: none;\"><div style=\"display: table-cell;\"></div><div style=\"display: table-cell;\">x_scale&nbsp;=&nbsp;LinearScale(id='2460', ...),</div></div><div class=\"2637\" style=\"display: none;\"><div style=\"display: table-cell;\"></div><div style=\"display: table-cell;\">y_range&nbsp;=&nbsp;DataRange1d(id='2458', ...),</div></div><div class=\"2637\" style=\"display: none;\"><div style=\"display: table-cell;\"></div><div style=\"display: table-cell;\">y_scale&nbsp;=&nbsp;LinearScale(id='2462', ...))</div></div></div>\n",
       "<script>\n",
       "(function() {\n",
       "  var expanded = false;\n",
       "  var ellipsis = document.getElementById(\"2638\");\n",
       "  ellipsis.addEventListener(\"click\", function() {\n",
       "    var rows = document.getElementsByClassName(\"2637\");\n",
       "    for (var i = 0; i < rows.length; i++) {\n",
       "      var el = rows[i];\n",
       "      el.style.display = expanded ? \"none\" : \"table-row\";\n",
       "    }\n",
       "    ellipsis.innerHTML = expanded ? \"&hellip;)\" : \"&lsaquo;&lsaquo;&lsaquo;\";\n",
       "    expanded = !expanded;\n",
       "  });\n",
       "})();\n",
       "</script>\n"
      ],
      "text/plain": [
       "Figure(id='2453', ...)"
      ]
     },
     "execution_count": 42,
     "metadata": {},
     "output_type": "execute_result"
    }
   ],
   "source": [
    "df['All Tasks Completed'].replace(['Yes', 'No'], ['Tasks Completed', 'Tasks Not Completed'], inplace=True)\n",
    "df2 = pd.crosstab(df['Outcome'], df['All Tasks Completed'])\n",
    "df2.plot_bokeh.barh(title='Completing task: win or loss', stacked=True, figsize=(650, 350))"
   ]
  },
  {
   "cell_type": "code",
   "execution_count": 43,
   "metadata": {},
   "outputs": [
    {
     "data": {
      "text/html": [
       "<div>\n",
       "<style scoped>\n",
       "    .dataframe tbody tr th:only-of-type {\n",
       "        vertical-align: middle;\n",
       "    }\n",
       "\n",
       "    .dataframe tbody tr th {\n",
       "        vertical-align: top;\n",
       "    }\n",
       "\n",
       "    .dataframe thead th {\n",
       "        text-align: right;\n",
       "    }\n",
       "</style>\n",
       "<table border=\"1\" class=\"dataframe\">\n",
       "  <thead>\n",
       "    <tr style=\"text-align: right;\">\n",
       "      <th>Outcome</th>\n",
       "      <th>Loss</th>\n",
       "      <th>Win</th>\n",
       "    </tr>\n",
       "    <tr>\n",
       "      <th>User ID</th>\n",
       "      <th></th>\n",
       "      <th></th>\n",
       "    </tr>\n",
       "  </thead>\n",
       "  <tbody>\n",
       "    <tr>\n",
       "      <th>1 User</th>\n",
       "      <td>-42</td>\n",
       "      <td>58</td>\n",
       "    </tr>\n",
       "    <tr>\n",
       "      <th>2 User</th>\n",
       "      <td>-45</td>\n",
       "      <td>55</td>\n",
       "    </tr>\n",
       "  </tbody>\n",
       "</table>\n",
       "</div>"
      ],
      "text/plain": [
       "Outcome  Loss  Win\n",
       "User ID           \n",
       "1 User    -42   58\n",
       "2 User    -45   55"
      ]
     },
     "execution_count": 43,
     "metadata": {},
     "output_type": "execute_result"
    }
   ],
   "source": [
    "df_user = pd.crosstab(df['User ID'], df['Outcome']).reset_index()\n",
    "df_user['Loss'] = df_user['Loss'] * -1\n",
    "df_user['User ID'] = (df_user.index + 1).astype(str) + ' User'\n",
    "df_user = df_user.set_index('User ID')\n",
    "df_user[:2]"
   ]
  },
  {
   "cell_type": "code",
   "execution_count": 44,
   "metadata": {},
   "outputs": [
    {
     "data": {
      "text/html": [
       "\n",
       "\n",
       "\n",
       "\n",
       "\n",
       "\n",
       "  <div class=\"bk-root\" id=\"59d5158f-4774-498d-b434-eafd5bc881da\" data-root-id=\"2676\"></div>\n"
      ]
     },
     "metadata": {},
     "output_type": "display_data"
    },
    {
     "data": {
      "application/javascript": "(function(root) {\n  function embed_document(root) {\n    \n  var docs_json = {\"2e7cfd90-c22f-4385-8c6b-08e5a0254009\":{\"defs\":[],\"roots\":{\"references\":[{\"attributes\":{\"below\":[{\"id\":\"2687\"}],\"center\":[{\"id\":\"2690\"},{\"id\":\"2694\"},{\"id\":\"2726\"}],\"height\":400,\"left\":[{\"id\":\"2691\"}],\"output_backend\":\"webgl\",\"renderers\":[{\"id\":\"2715\"},{\"id\":\"2734\"}],\"sizing_mode\":\"fixed\",\"title\":{\"id\":\"2677\"},\"toolbar\":{\"id\":\"2702\"},\"x_range\":{\"id\":\"2679\"},\"x_scale\":{\"id\":\"2683\"},\"y_range\":{\"id\":\"2681\"},\"y_scale\":{\"id\":\"2685\"}},\"id\":\"2676\",\"subtype\":\"Figure\",\"type\":\"Plot\"},{\"attributes\":{},\"id\":\"2679\",\"type\":\"DataRange1d\"},{\"attributes\":{\"formatter\":{\"id\":\"2720\"},\"major_label_policy\":{\"id\":\"2718\"},\"ticker\":{\"id\":\"2688\"}},\"id\":\"2687\",\"type\":\"LinearAxis\"},{\"attributes\":{\"label\":{\"value\":\" Loss\"},\"renderers\":[{\"id\":\"2715\"}]},\"id\":\"2727\",\"type\":\"LegendItem\"},{\"attributes\":{},\"id\":\"2688\",\"type\":\"BasicTicker\"},{\"attributes\":{},\"id\":\"2681\",\"type\":\"DataRange1d\"},{\"attributes\":{\"axis\":{\"id\":\"2687\"},\"ticker\":null},\"id\":\"2690\",\"type\":\"Grid\"},{\"attributes\":{},\"id\":\"2720\",\"type\":\"BasicTickFormatter\"},{\"attributes\":{},\"id\":\"2683\",\"type\":\"LinearScale\"},{\"attributes\":{\"axis_label\":\"User ID\",\"formatter\":{\"id\":\"2709\"},\"major_label_policy\":{\"id\":\"2721\"},\"ticker\":{\"id\":\"2748\"}},\"id\":\"2691\",\"type\":\"LinearAxis\"},{\"attributes\":{},\"id\":\"2696\",\"type\":\"WheelZoomTool\"},{\"attributes\":{},\"id\":\"2685\",\"type\":\"LinearScale\"},{\"attributes\":{\"axis\":{\"id\":\"2691\"},\"dimension\":1,\"ticker\":null},\"id\":\"2694\",\"type\":\"Grid\"},{\"attributes\":{\"code\":\"\\n                                    var labels = {0: '1 User', 1: '2 User', 2: '3 User', 3: '4 User', 4: '5 User', 5: '6 User', 6: '7 User', 7: '8 User', 8: '9 User', 9: '10 User', 10: '11 User', 11: '12 User', 12: '13 User', 13: '14 User', 14: '15 User', 15: '16 User', 16: '17 User', 17: '18 User', 18: '19 User', 19: '20 User', 20: '21 User', 21: '22 User', 22: '23 User', 23: '24 User', 24: '25 User', 25: '26 User', 26: '27 User', 27: '28 User', 28: '29 User'};\\n                                    return labels[tick];\\n                                    \"},\"id\":\"2709\",\"type\":\"FuncTickFormatter\"},{\"attributes\":{},\"id\":\"2700\",\"type\":\"HelpTool\"},{\"attributes\":{},\"id\":\"2695\",\"type\":\"PanTool\"},{\"attributes\":{\"callback\":null,\"mode\":\"hline\",\"renderers\":[{\"id\":\"2715\"}],\"tooltips\":[[\"User ID\",\"@__x__values_original\"],[\"Loss\",\"@{Loss}\"]]},\"id\":\"2728\",\"type\":\"HoverTool\"},{\"attributes\":{\"overlay\":{\"id\":\"2701\"}},\"id\":\"2697\",\"type\":\"BoxZoomTool\"},{\"attributes\":{},\"id\":\"2698\",\"type\":\"SaveTool\"},{\"attributes\":{\"source\":{\"id\":\"2675\"}},\"id\":\"2735\",\"type\":\"CDSView\"},{\"attributes\":{},\"id\":\"2699\",\"type\":\"ResetTool\"},{\"attributes\":{\"fill_color\":{\"value\":\"#ff7f0e\"},\"height\":{\"value\":0.2333333333333333},\"line_color\":{\"value\":\"#ff7f0e\"},\"line_width\":{\"value\":2},\"right\":{\"field\":\"Win\"},\"y\":{\"field\":\"__x__values\",\"transform\":{\"id\":\"2730\"}}},\"id\":\"2732\",\"type\":\"HBar\"},{\"attributes\":{\"data\":{\"Loss\":[-42,-45,-13,-46,-37,-36,-20,-25,-26,-51,-15,-53,-36,-36,-48,-13,-14,-51,-11,-43,-27,-17,-50,-53,-17,-41,-45,-30,-44],\"Win\":[58,55,18,54,63,64,19,45,46,49,23,47,28,43,52,24,24,49,22,57,27,29,41,47,18,59,55,70,56],\"__x__values\":[0,1,2,3,4,5,6,7,8,9,10,11,12,13,14,15,16,17,18,19,20,21,22,23,24,25,26,27,28],\"__x__values_original\":[\"1 User\",\"2 User\",\"3 User\",\"4 User\",\"5 User\",\"6 User\",\"7 User\",\"8 User\",\"9 User\",\"10 User\",\"11 User\",\"12 User\",\"13 User\",\"14 User\",\"15 User\",\"16 User\",\"17 User\",\"18 User\",\"19 User\",\"20 User\",\"21 User\",\"22 User\",\"23 User\",\"24 User\",\"25 User\",\"26 User\",\"27 User\",\"28 User\",\"29 User\"]},\"selected\":{\"id\":\"2724\"},\"selection_policy\":{\"id\":\"2723\"}},\"id\":\"2675\",\"type\":\"ColumnDataSource\"},{\"attributes\":{\"callback\":null,\"mode\":\"hline\",\"renderers\":[{\"id\":\"2734\"}],\"tooltips\":[[\"User ID\",\"@__x__values_original\"],[\"Win\",\"@{Win}\"]]},\"id\":\"2746\",\"type\":\"HoverTool\"},{\"attributes\":{},\"id\":\"2723\",\"type\":\"UnionRenderers\"},{\"attributes\":{\"fill_alpha\":{\"value\":0.1},\"fill_color\":{\"value\":\"#ff7f0e\"},\"height\":{\"value\":0.2333333333333333},\"line_alpha\":{\"value\":0.1},\"line_color\":{\"value\":\"#ff7f0e\"},\"line_width\":{\"value\":2},\"right\":{\"field\":\"Win\"},\"y\":{\"field\":\"__x__values\",\"transform\":{\"id\":\"2730\"}}},\"id\":\"2733\",\"type\":\"HBar\"},{\"attributes\":{\"data_source\":{\"id\":\"2675\"},\"glyph\":{\"id\":\"2732\"},\"hover_glyph\":null,\"muted_glyph\":null,\"nonselection_glyph\":{\"id\":\"2733\"},\"view\":{\"id\":\"2735\"}},\"id\":\"2734\",\"type\":\"GlyphRenderer\"},{\"attributes\":{},\"id\":\"2724\",\"type\":\"Selection\"},{\"attributes\":{\"data_source\":{\"id\":\"2675\"},\"glyph\":{\"id\":\"2713\"},\"hover_glyph\":null,\"muted_glyph\":null,\"nonselection_glyph\":{\"id\":\"2714\"},\"view\":{\"id\":\"2716\"}},\"id\":\"2715\",\"type\":\"GlyphRenderer\"},{\"attributes\":{\"range\":{\"id\":\"2681\"},\"value\":0.175},\"id\":\"2730\",\"type\":\"Dodge\"},{\"attributes\":{\"fill_alpha\":{\"value\":0.1},\"fill_color\":{\"value\":\"#1f77b4\"},\"height\":{\"value\":0.2333333333333333},\"line_alpha\":{\"value\":0.1},\"line_color\":{\"value\":\"#1f77b4\"},\"line_width\":{\"value\":2},\"right\":{\"field\":\"Loss\"},\"y\":{\"field\":\"__x__values\",\"transform\":{\"id\":\"2711\"}}},\"id\":\"2714\",\"type\":\"HBar\"},{\"attributes\":{},\"id\":\"2718\",\"type\":\"AllLabels\"},{\"attributes\":{\"ticks\":[0,1,2,3,4,5,6,7,8,9,10,11,12,13,14,15,16,17,18,19,20,21,22,23,24,25,26,27,28]},\"id\":\"2748\",\"type\":\"FixedTicker\"},{\"attributes\":{\"label\":{\"value\":\" Win\"},\"renderers\":[{\"id\":\"2734\"}]},\"id\":\"2745\",\"type\":\"LegendItem\"},{\"attributes\":{\"text\":\"Users: won or defeat\"},\"id\":\"2677\",\"type\":\"Title\"},{\"attributes\":{\"active_multi\":null,\"active_scroll\":{\"id\":\"2696\"},\"tools\":[{\"id\":\"2695\"},{\"id\":\"2696\"},{\"id\":\"2697\"},{\"id\":\"2698\"},{\"id\":\"2699\"},{\"id\":\"2700\"},{\"id\":\"2728\"},{\"id\":\"2746\"}]},\"id\":\"2702\",\"type\":\"Toolbar\"},{\"attributes\":{},\"id\":\"2721\",\"type\":\"AllLabels\"},{\"attributes\":{\"source\":{\"id\":\"2675\"}},\"id\":\"2716\",\"type\":\"CDSView\"},{\"attributes\":{\"range\":{\"id\":\"2681\"},\"value\":-0.175},\"id\":\"2711\",\"type\":\"Dodge\"},{\"attributes\":{\"fill_color\":{\"value\":\"#1f77b4\"},\"height\":{\"value\":0.2333333333333333},\"line_color\":{\"value\":\"#1f77b4\"},\"line_width\":{\"value\":2},\"right\":{\"field\":\"Loss\"},\"y\":{\"field\":\"__x__values\",\"transform\":{\"id\":\"2711\"}}},\"id\":\"2713\",\"type\":\"HBar\"},{\"attributes\":{\"click_policy\":\"hide\",\"items\":[{\"id\":\"2727\"},{\"id\":\"2745\"}]},\"id\":\"2726\",\"type\":\"Legend\"},{\"attributes\":{\"bottom_units\":\"screen\",\"fill_alpha\":0.5,\"fill_color\":\"lightgrey\",\"left_units\":\"screen\",\"level\":\"overlay\",\"line_alpha\":1.0,\"line_color\":\"black\",\"line_dash\":[4,4],\"line_width\":2,\"right_units\":\"screen\",\"syncable\":false,\"top_units\":\"screen\"},\"id\":\"2701\",\"type\":\"BoxAnnotation\"}],\"root_ids\":[\"2676\"]},\"title\":\"Bokeh Application\",\"version\":\"2.3.2\"}};\n  var render_items = [{\"docid\":\"2e7cfd90-c22f-4385-8c6b-08e5a0254009\",\"root_ids\":[\"2676\"],\"roots\":{\"2676\":\"59d5158f-4774-498d-b434-eafd5bc881da\"}}];\n  root.Bokeh.embed.embed_items_notebook(docs_json, render_items);\n\n  }\n  if (root.Bokeh !== undefined) {\n    embed_document(root);\n  } else {\n    var attempts = 0;\n    var timer = setInterval(function(root) {\n      if (root.Bokeh !== undefined) {\n        clearInterval(timer);\n        embed_document(root);\n      } else {\n        attempts++;\n        if (attempts > 100) {\n          clearInterval(timer);\n          console.log(\"Bokeh: ERROR: Unable to run BokehJS code because BokehJS library is missing\");\n        }\n      }\n    }, 10, root)\n  }\n})(window);",
      "application/vnd.bokehjs_exec.v0+json": ""
     },
     "metadata": {
      "application/vnd.bokehjs_exec.v0+json": {
       "id": "2676"
      }
     },
     "output_type": "display_data"
    },
    {
     "data": {
      "text/html": [
       "<div style=\"display: table;\"><div style=\"display: table-row;\"><div style=\"display: table-cell;\"><b title=\"bokeh.plotting.figure.Figure\">Figure</b>(</div><div style=\"display: table-cell;\">id&nbsp;=&nbsp;'2676', <span id=\"2852\" style=\"cursor: pointer;\">&hellip;)</span></div></div><div class=\"2851\" style=\"display: none;\"><div style=\"display: table-cell;\"></div><div style=\"display: table-cell;\">above&nbsp;=&nbsp;[],</div></div><div class=\"2851\" style=\"display: none;\"><div style=\"display: table-cell;\"></div><div style=\"display: table-cell;\">align&nbsp;=&nbsp;'start',</div></div><div class=\"2851\" style=\"display: none;\"><div style=\"display: table-cell;\"></div><div style=\"display: table-cell;\">aspect_ratio&nbsp;=&nbsp;None,</div></div><div class=\"2851\" style=\"display: none;\"><div style=\"display: table-cell;\"></div><div style=\"display: table-cell;\">aspect_scale&nbsp;=&nbsp;1,</div></div><div class=\"2851\" style=\"display: none;\"><div style=\"display: table-cell;\"></div><div style=\"display: table-cell;\">background&nbsp;=&nbsp;None,</div></div><div class=\"2851\" style=\"display: none;\"><div style=\"display: table-cell;\"></div><div style=\"display: table-cell;\">background_fill_alpha&nbsp;=&nbsp;1.0,</div></div><div class=\"2851\" style=\"display: none;\"><div style=\"display: table-cell;\"></div><div style=\"display: table-cell;\">background_fill_color&nbsp;=&nbsp;'#ffffff',</div></div><div class=\"2851\" style=\"display: none;\"><div style=\"display: table-cell;\"></div><div style=\"display: table-cell;\">below&nbsp;=&nbsp;[LinearAxis(id='2687', ...)],</div></div><div class=\"2851\" style=\"display: none;\"><div style=\"display: table-cell;\"></div><div style=\"display: table-cell;\">border_fill_alpha&nbsp;=&nbsp;1.0,</div></div><div class=\"2851\" style=\"display: none;\"><div style=\"display: table-cell;\"></div><div style=\"display: table-cell;\">border_fill_color&nbsp;=&nbsp;'#ffffff',</div></div><div class=\"2851\" style=\"display: none;\"><div style=\"display: table-cell;\"></div><div style=\"display: table-cell;\">center&nbsp;=&nbsp;[Grid(id='2690', ...), Grid(id='2694', ...), Legend(id='2726', ...)],</div></div><div class=\"2851\" style=\"display: none;\"><div style=\"display: table-cell;\"></div><div style=\"display: table-cell;\">css_classes&nbsp;=&nbsp;[],</div></div><div class=\"2851\" style=\"display: none;\"><div style=\"display: table-cell;\"></div><div style=\"display: table-cell;\">disabled&nbsp;=&nbsp;False,</div></div><div class=\"2851\" style=\"display: none;\"><div style=\"display: table-cell;\"></div><div style=\"display: table-cell;\">extra_x_ranges&nbsp;=&nbsp;{},</div></div><div class=\"2851\" style=\"display: none;\"><div style=\"display: table-cell;\"></div><div style=\"display: table-cell;\">extra_y_ranges&nbsp;=&nbsp;{},</div></div><div class=\"2851\" style=\"display: none;\"><div style=\"display: table-cell;\"></div><div style=\"display: table-cell;\">frame_height&nbsp;=&nbsp;None,</div></div><div class=\"2851\" style=\"display: none;\"><div style=\"display: table-cell;\"></div><div style=\"display: table-cell;\">frame_width&nbsp;=&nbsp;None,</div></div><div class=\"2851\" style=\"display: none;\"><div style=\"display: table-cell;\"></div><div style=\"display: table-cell;\">height&nbsp;=&nbsp;400,</div></div><div class=\"2851\" style=\"display: none;\"><div style=\"display: table-cell;\"></div><div style=\"display: table-cell;\">height_policy&nbsp;=&nbsp;'auto',</div></div><div class=\"2851\" style=\"display: none;\"><div style=\"display: table-cell;\"></div><div style=\"display: table-cell;\">hidpi&nbsp;=&nbsp;True,</div></div><div class=\"2851\" style=\"display: none;\"><div style=\"display: table-cell;\"></div><div style=\"display: table-cell;\">inner_height&nbsp;=&nbsp;0,</div></div><div class=\"2851\" style=\"display: none;\"><div style=\"display: table-cell;\"></div><div style=\"display: table-cell;\">inner_width&nbsp;=&nbsp;0,</div></div><div class=\"2851\" style=\"display: none;\"><div style=\"display: table-cell;\"></div><div style=\"display: table-cell;\">js_event_callbacks&nbsp;=&nbsp;{},</div></div><div class=\"2851\" style=\"display: none;\"><div style=\"display: table-cell;\"></div><div style=\"display: table-cell;\">js_property_callbacks&nbsp;=&nbsp;{},</div></div><div class=\"2851\" style=\"display: none;\"><div style=\"display: table-cell;\"></div><div style=\"display: table-cell;\">left&nbsp;=&nbsp;[LinearAxis(id='2691', ...)],</div></div><div class=\"2851\" style=\"display: none;\"><div style=\"display: table-cell;\"></div><div style=\"display: table-cell;\">lod_factor&nbsp;=&nbsp;10,</div></div><div class=\"2851\" style=\"display: none;\"><div style=\"display: table-cell;\"></div><div style=\"display: table-cell;\">lod_interval&nbsp;=&nbsp;300,</div></div><div class=\"2851\" style=\"display: none;\"><div style=\"display: table-cell;\"></div><div style=\"display: table-cell;\">lod_threshold&nbsp;=&nbsp;2000,</div></div><div class=\"2851\" style=\"display: none;\"><div style=\"display: table-cell;\"></div><div style=\"display: table-cell;\">lod_timeout&nbsp;=&nbsp;500,</div></div><div class=\"2851\" style=\"display: none;\"><div style=\"display: table-cell;\"></div><div style=\"display: table-cell;\">margin&nbsp;=&nbsp;(0, 0, 0, 0),</div></div><div class=\"2851\" style=\"display: none;\"><div style=\"display: table-cell;\"></div><div style=\"display: table-cell;\">match_aspect&nbsp;=&nbsp;False,</div></div><div class=\"2851\" style=\"display: none;\"><div style=\"display: table-cell;\"></div><div style=\"display: table-cell;\">max_height&nbsp;=&nbsp;None,</div></div><div class=\"2851\" style=\"display: none;\"><div style=\"display: table-cell;\"></div><div style=\"display: table-cell;\">max_width&nbsp;=&nbsp;None,</div></div><div class=\"2851\" style=\"display: none;\"><div style=\"display: table-cell;\"></div><div style=\"display: table-cell;\">min_border&nbsp;=&nbsp;5,</div></div><div class=\"2851\" style=\"display: none;\"><div style=\"display: table-cell;\"></div><div style=\"display: table-cell;\">min_border_bottom&nbsp;=&nbsp;None,</div></div><div class=\"2851\" style=\"display: none;\"><div style=\"display: table-cell;\"></div><div style=\"display: table-cell;\">min_border_left&nbsp;=&nbsp;None,</div></div><div class=\"2851\" style=\"display: none;\"><div style=\"display: table-cell;\"></div><div style=\"display: table-cell;\">min_border_right&nbsp;=&nbsp;None,</div></div><div class=\"2851\" style=\"display: none;\"><div style=\"display: table-cell;\"></div><div style=\"display: table-cell;\">min_border_top&nbsp;=&nbsp;None,</div></div><div class=\"2851\" style=\"display: none;\"><div style=\"display: table-cell;\"></div><div style=\"display: table-cell;\">min_height&nbsp;=&nbsp;None,</div></div><div class=\"2851\" style=\"display: none;\"><div style=\"display: table-cell;\"></div><div style=\"display: table-cell;\">min_width&nbsp;=&nbsp;None,</div></div><div class=\"2851\" style=\"display: none;\"><div style=\"display: table-cell;\"></div><div style=\"display: table-cell;\">name&nbsp;=&nbsp;None,</div></div><div class=\"2851\" style=\"display: none;\"><div style=\"display: table-cell;\"></div><div style=\"display: table-cell;\">outer_height&nbsp;=&nbsp;0,</div></div><div class=\"2851\" style=\"display: none;\"><div style=\"display: table-cell;\"></div><div style=\"display: table-cell;\">outer_width&nbsp;=&nbsp;0,</div></div><div class=\"2851\" style=\"display: none;\"><div style=\"display: table-cell;\"></div><div style=\"display: table-cell;\">outline_line_alpha&nbsp;=&nbsp;1.0,</div></div><div class=\"2851\" style=\"display: none;\"><div style=\"display: table-cell;\"></div><div style=\"display: table-cell;\">outline_line_cap&nbsp;=&nbsp;'butt',</div></div><div class=\"2851\" style=\"display: none;\"><div style=\"display: table-cell;\"></div><div style=\"display: table-cell;\">outline_line_color&nbsp;=&nbsp;'#e5e5e5',</div></div><div class=\"2851\" style=\"display: none;\"><div style=\"display: table-cell;\"></div><div style=\"display: table-cell;\">outline_line_dash&nbsp;=&nbsp;[],</div></div><div class=\"2851\" style=\"display: none;\"><div style=\"display: table-cell;\"></div><div style=\"display: table-cell;\">outline_line_dash_offset&nbsp;=&nbsp;0,</div></div><div class=\"2851\" style=\"display: none;\"><div style=\"display: table-cell;\"></div><div style=\"display: table-cell;\">outline_line_join&nbsp;=&nbsp;'bevel',</div></div><div class=\"2851\" style=\"display: none;\"><div style=\"display: table-cell;\"></div><div style=\"display: table-cell;\">outline_line_width&nbsp;=&nbsp;1,</div></div><div class=\"2851\" style=\"display: none;\"><div style=\"display: table-cell;\"></div><div style=\"display: table-cell;\">output_backend&nbsp;=&nbsp;'webgl',</div></div><div class=\"2851\" style=\"display: none;\"><div style=\"display: table-cell;\"></div><div style=\"display: table-cell;\">renderers&nbsp;=&nbsp;[GlyphRenderer(id='2715', ...), GlyphRenderer(id='2734', ...)],</div></div><div class=\"2851\" style=\"display: none;\"><div style=\"display: table-cell;\"></div><div style=\"display: table-cell;\">reset_policy&nbsp;=&nbsp;'standard',</div></div><div class=\"2851\" style=\"display: none;\"><div style=\"display: table-cell;\"></div><div style=\"display: table-cell;\">right&nbsp;=&nbsp;[],</div></div><div class=\"2851\" style=\"display: none;\"><div style=\"display: table-cell;\"></div><div style=\"display: table-cell;\">sizing_mode&nbsp;=&nbsp;'fixed',</div></div><div class=\"2851\" style=\"display: none;\"><div style=\"display: table-cell;\"></div><div style=\"display: table-cell;\">subscribed_events&nbsp;=&nbsp;[],</div></div><div class=\"2851\" style=\"display: none;\"><div style=\"display: table-cell;\"></div><div style=\"display: table-cell;\">syncable&nbsp;=&nbsp;True,</div></div><div class=\"2851\" style=\"display: none;\"><div style=\"display: table-cell;\"></div><div style=\"display: table-cell;\">tags&nbsp;=&nbsp;[],</div></div><div class=\"2851\" style=\"display: none;\"><div style=\"display: table-cell;\"></div><div style=\"display: table-cell;\">title&nbsp;=&nbsp;Title(id='2677', ...),</div></div><div class=\"2851\" style=\"display: none;\"><div style=\"display: table-cell;\"></div><div style=\"display: table-cell;\">title_location&nbsp;=&nbsp;'above',</div></div><div class=\"2851\" style=\"display: none;\"><div style=\"display: table-cell;\"></div><div style=\"display: table-cell;\">toolbar&nbsp;=&nbsp;Toolbar(id='2702', ...),</div></div><div class=\"2851\" style=\"display: none;\"><div style=\"display: table-cell;\"></div><div style=\"display: table-cell;\">toolbar_location&nbsp;=&nbsp;'right',</div></div><div class=\"2851\" style=\"display: none;\"><div style=\"display: table-cell;\"></div><div style=\"display: table-cell;\">toolbar_sticky&nbsp;=&nbsp;True,</div></div><div class=\"2851\" style=\"display: none;\"><div style=\"display: table-cell;\"></div><div style=\"display: table-cell;\">visible&nbsp;=&nbsp;True,</div></div><div class=\"2851\" style=\"display: none;\"><div style=\"display: table-cell;\"></div><div style=\"display: table-cell;\">width&nbsp;=&nbsp;600,</div></div><div class=\"2851\" style=\"display: none;\"><div style=\"display: table-cell;\"></div><div style=\"display: table-cell;\">width_policy&nbsp;=&nbsp;'auto',</div></div><div class=\"2851\" style=\"display: none;\"><div style=\"display: table-cell;\"></div><div style=\"display: table-cell;\">x_range&nbsp;=&nbsp;DataRange1d(id='2679', ...),</div></div><div class=\"2851\" style=\"display: none;\"><div style=\"display: table-cell;\"></div><div style=\"display: table-cell;\">x_scale&nbsp;=&nbsp;LinearScale(id='2683', ...),</div></div><div class=\"2851\" style=\"display: none;\"><div style=\"display: table-cell;\"></div><div style=\"display: table-cell;\">y_range&nbsp;=&nbsp;DataRange1d(id='2681', ...),</div></div><div class=\"2851\" style=\"display: none;\"><div style=\"display: table-cell;\"></div><div style=\"display: table-cell;\">y_scale&nbsp;=&nbsp;LinearScale(id='2685', ...))</div></div></div>\n",
       "<script>\n",
       "(function() {\n",
       "  var expanded = false;\n",
       "  var ellipsis = document.getElementById(\"2852\");\n",
       "  ellipsis.addEventListener(\"click\", function() {\n",
       "    var rows = document.getElementsByClassName(\"2851\");\n",
       "    for (var i = 0; i < rows.length; i++) {\n",
       "      var el = rows[i];\n",
       "      el.style.display = expanded ? \"none\" : \"table-row\";\n",
       "    }\n",
       "    ellipsis.innerHTML = expanded ? \"&hellip;)\" : \"&lsaquo;&lsaquo;&lsaquo;\";\n",
       "    expanded = !expanded;\n",
       "  });\n",
       "})();\n",
       "</script>\n"
      ],
      "text/plain": [
       "Figure(id='2676', ...)"
      ]
     },
     "execution_count": 44,
     "metadata": {},
     "output_type": "execute_result"
    }
   ],
   "source": [
    "df_user.plot_bokeh.barh(title='Users: won or defeat')"
   ]
  },
  {
   "cell_type": "markdown",
   "metadata": {},
   "source": [
    "### Area Plot"
   ]
  },
  {
   "cell_type": "code",
   "execution_count": 47,
   "metadata": {},
   "outputs": [
    {
     "ename": "TypeError",
     "evalue": "unhashable type: 'list'",
     "output_type": "error",
     "traceback": [
      "\u001b[1;31m---------------------------------------------------------------------------\u001b[0m",
      "\u001b[1;31mTypeError\u001b[0m                                 Traceback (most recent call last)",
      "\u001b[1;32m<ipython-input-47-c447a18118f9>\u001b[0m in \u001b[0;36m<module>\u001b[1;34m\u001b[0m\n\u001b[1;32m----> 1\u001b[1;33m \u001b[0mdf_min\u001b[0m \u001b[1;33m=\u001b[0m \u001b[0mpd\u001b[0m\u001b[1;33m.\u001b[0m\u001b[0mcrosstab\u001b[0m\u001b[1;33m(\u001b[0m\u001b[0mdf\u001b[0m\u001b[1;33m[\u001b[0m\u001b[1;34m'Min'\u001b[0m\u001b[1;33m]\u001b[0m\u001b[1;33m,\u001b[0m \u001b[0mdf\u001b[0m\u001b[1;33m[\u001b[0m\u001b[1;34m'Sabotages Fixed'\u001b[0m\u001b[1;33m]\u001b[0m\u001b[1;33m)\u001b[0m\u001b[1;33m\u001b[0m\u001b[1;33m\u001b[0m\u001b[0m\n\u001b[0m\u001b[0;32m      2\u001b[0m df_min = df_min.rename(columns={0.0: '0T',\n\u001b[0;32m      3\u001b[0m                                 \u001b[1;36m1.0\u001b[0m\u001b[1;33m:\u001b[0m \u001b[1;34m'1T'\u001b[0m\u001b[1;33m,\u001b[0m\u001b[1;33m\u001b[0m\u001b[1;33m\u001b[0m\u001b[0m\n\u001b[0;32m      4\u001b[0m                                 \u001b[1;36m2.0\u001b[0m\u001b[1;33m:\u001b[0m \u001b[1;34m'2T'\u001b[0m\u001b[1;33m,\u001b[0m\u001b[1;33m\u001b[0m\u001b[1;33m\u001b[0m\u001b[0m\n\u001b[0;32m      5\u001b[0m                                 \u001b[1;36m3.0\u001b[0m\u001b[1;33m:\u001b[0m \u001b[1;34m'3T'\u001b[0m\u001b[1;33m,\u001b[0m\u001b[1;33m\u001b[0m\u001b[1;33m\u001b[0m\u001b[0m\n",
      "\u001b[1;32mC:\\ProgramData\\Anaconda3\\lib\\site-packages\\pandas\\core\\reshape\\pivot.py\u001b[0m in \u001b[0;36mcrosstab\u001b[1;34m(index, columns, values, rownames, colnames, aggfunc, margins, margins_name, dropna, normalize)\u001b[0m\n\u001b[0;32m    606\u001b[0m         \u001b[0mkwargs\u001b[0m \u001b[1;33m=\u001b[0m \u001b[1;33m{\u001b[0m\u001b[1;34m\"aggfunc\"\u001b[0m\u001b[1;33m:\u001b[0m \u001b[0maggfunc\u001b[0m\u001b[1;33m}\u001b[0m\u001b[1;33m\u001b[0m\u001b[1;33m\u001b[0m\u001b[0m\n\u001b[0;32m    607\u001b[0m \u001b[1;33m\u001b[0m\u001b[0m\n\u001b[1;32m--> 608\u001b[1;33m     table = df.pivot_table(\n\u001b[0m\u001b[0;32m    609\u001b[0m         \u001b[1;33m[\u001b[0m\u001b[1;34m\"__dummy__\"\u001b[0m\u001b[1;33m]\u001b[0m\u001b[1;33m,\u001b[0m\u001b[1;33m\u001b[0m\u001b[1;33m\u001b[0m\u001b[0m\n\u001b[0;32m    610\u001b[0m         \u001b[0mindex\u001b[0m\u001b[1;33m=\u001b[0m\u001b[0munique_rownames\u001b[0m\u001b[1;33m,\u001b[0m\u001b[1;33m\u001b[0m\u001b[1;33m\u001b[0m\u001b[0m\n",
      "\u001b[1;32mC:\\ProgramData\\Anaconda3\\lib\\site-packages\\pandas\\core\\frame.py\u001b[0m in \u001b[0;36mpivot_table\u001b[1;34m(self, values, index, columns, aggfunc, fill_value, margins, dropna, margins_name, observed)\u001b[0m\n\u001b[0;32m   7029\u001b[0m         \u001b[1;32mfrom\u001b[0m \u001b[0mpandas\u001b[0m\u001b[1;33m.\u001b[0m\u001b[0mcore\u001b[0m\u001b[1;33m.\u001b[0m\u001b[0mreshape\u001b[0m\u001b[1;33m.\u001b[0m\u001b[0mpivot\u001b[0m \u001b[1;32mimport\u001b[0m \u001b[0mpivot_table\u001b[0m\u001b[1;33m\u001b[0m\u001b[1;33m\u001b[0m\u001b[0m\n\u001b[0;32m   7030\u001b[0m \u001b[1;33m\u001b[0m\u001b[0m\n\u001b[1;32m-> 7031\u001b[1;33m         return pivot_table(\n\u001b[0m\u001b[0;32m   7032\u001b[0m             \u001b[0mself\u001b[0m\u001b[1;33m,\u001b[0m\u001b[1;33m\u001b[0m\u001b[1;33m\u001b[0m\u001b[0m\n\u001b[0;32m   7033\u001b[0m             \u001b[0mvalues\u001b[0m\u001b[1;33m=\u001b[0m\u001b[0mvalues\u001b[0m\u001b[1;33m,\u001b[0m\u001b[1;33m\u001b[0m\u001b[1;33m\u001b[0m\u001b[0m\n",
      "\u001b[1;32mC:\\ProgramData\\Anaconda3\\lib\\site-packages\\pandas\\core\\reshape\\pivot.py\u001b[0m in \u001b[0;36mpivot_table\u001b[1;34m(data, values, index, columns, aggfunc, fill_value, margins, dropna, margins_name, observed)\u001b[0m\n\u001b[0;32m    111\u001b[0m \u001b[1;33m\u001b[0m\u001b[0m\n\u001b[0;32m    112\u001b[0m     \u001b[0mgrouped\u001b[0m \u001b[1;33m=\u001b[0m \u001b[0mdata\u001b[0m\u001b[1;33m.\u001b[0m\u001b[0mgroupby\u001b[0m\u001b[1;33m(\u001b[0m\u001b[0mkeys\u001b[0m\u001b[1;33m,\u001b[0m \u001b[0mobserved\u001b[0m\u001b[1;33m=\u001b[0m\u001b[0mobserved\u001b[0m\u001b[1;33m)\u001b[0m\u001b[1;33m\u001b[0m\u001b[1;33m\u001b[0m\u001b[0m\n\u001b[1;32m--> 113\u001b[1;33m     \u001b[0magged\u001b[0m \u001b[1;33m=\u001b[0m \u001b[0mgrouped\u001b[0m\u001b[1;33m.\u001b[0m\u001b[0magg\u001b[0m\u001b[1;33m(\u001b[0m\u001b[0maggfunc\u001b[0m\u001b[1;33m)\u001b[0m\u001b[1;33m\u001b[0m\u001b[1;33m\u001b[0m\u001b[0m\n\u001b[0m\u001b[0;32m    114\u001b[0m     \u001b[1;32mif\u001b[0m \u001b[0mdropna\u001b[0m \u001b[1;32mand\u001b[0m \u001b[0misinstance\u001b[0m\u001b[1;33m(\u001b[0m\u001b[0magged\u001b[0m\u001b[1;33m,\u001b[0m \u001b[0mABCDataFrame\u001b[0m\u001b[1;33m)\u001b[0m \u001b[1;32mand\u001b[0m \u001b[0mlen\u001b[0m\u001b[1;33m(\u001b[0m\u001b[0magged\u001b[0m\u001b[1;33m.\u001b[0m\u001b[0mcolumns\u001b[0m\u001b[1;33m)\u001b[0m\u001b[1;33m:\u001b[0m\u001b[1;33m\u001b[0m\u001b[1;33m\u001b[0m\u001b[0m\n\u001b[0;32m    115\u001b[0m         \u001b[0magged\u001b[0m \u001b[1;33m=\u001b[0m \u001b[0magged\u001b[0m\u001b[1;33m.\u001b[0m\u001b[0mdropna\u001b[0m\u001b[1;33m(\u001b[0m\u001b[0mhow\u001b[0m\u001b[1;33m=\u001b[0m\u001b[1;34m\"all\"\u001b[0m\u001b[1;33m)\u001b[0m\u001b[1;33m\u001b[0m\u001b[1;33m\u001b[0m\u001b[0m\n",
      "\u001b[1;32mC:\\ProgramData\\Anaconda3\\lib\\site-packages\\pandas\\core\\groupby\\generic.py\u001b[0m in \u001b[0;36maggregate\u001b[1;34m(self, func, engine, engine_kwargs, *args, **kwargs)\u001b[0m\n\u001b[0;32m    951\u001b[0m             \u001b[1;31m# grouper specific aggregations\u001b[0m\u001b[1;33m\u001b[0m\u001b[1;33m\u001b[0m\u001b[1;33m\u001b[0m\u001b[0m\n\u001b[0;32m    952\u001b[0m             \u001b[1;32mif\u001b[0m \u001b[0mself\u001b[0m\u001b[1;33m.\u001b[0m\u001b[0mgrouper\u001b[0m\u001b[1;33m.\u001b[0m\u001b[0mnkeys\u001b[0m \u001b[1;33m>\u001b[0m \u001b[1;36m1\u001b[0m\u001b[1;33m:\u001b[0m\u001b[1;33m\u001b[0m\u001b[1;33m\u001b[0m\u001b[0m\n\u001b[1;32m--> 953\u001b[1;33m                 \u001b[1;32mreturn\u001b[0m \u001b[0mself\u001b[0m\u001b[1;33m.\u001b[0m\u001b[0m_python_agg_general\u001b[0m\u001b[1;33m(\u001b[0m\u001b[0mfunc\u001b[0m\u001b[1;33m,\u001b[0m \u001b[1;33m*\u001b[0m\u001b[0margs\u001b[0m\u001b[1;33m,\u001b[0m \u001b[1;33m**\u001b[0m\u001b[0mkwargs\u001b[0m\u001b[1;33m)\u001b[0m\u001b[1;33m\u001b[0m\u001b[1;33m\u001b[0m\u001b[0m\n\u001b[0m\u001b[0;32m    954\u001b[0m             \u001b[1;32melif\u001b[0m \u001b[0margs\u001b[0m \u001b[1;32mor\u001b[0m \u001b[0mkwargs\u001b[0m\u001b[1;33m:\u001b[0m\u001b[1;33m\u001b[0m\u001b[1;33m\u001b[0m\u001b[0m\n\u001b[0;32m    955\u001b[0m                 \u001b[0mresult\u001b[0m \u001b[1;33m=\u001b[0m \u001b[0mself\u001b[0m\u001b[1;33m.\u001b[0m\u001b[0m_aggregate_frame\u001b[0m\u001b[1;33m(\u001b[0m\u001b[0mfunc\u001b[0m\u001b[1;33m,\u001b[0m \u001b[1;33m*\u001b[0m\u001b[0margs\u001b[0m\u001b[1;33m,\u001b[0m \u001b[1;33m**\u001b[0m\u001b[0mkwargs\u001b[0m\u001b[1;33m)\u001b[0m\u001b[1;33m\u001b[0m\u001b[1;33m\u001b[0m\u001b[0m\n",
      "\u001b[1;32mC:\\ProgramData\\Anaconda3\\lib\\site-packages\\pandas\\core\\groupby\\groupby.py\u001b[0m in \u001b[0;36m_python_agg_general\u001b[1;34m(self, func, *args, **kwargs)\u001b[0m\n\u001b[0;32m   1165\u001b[0m         \u001b[1;32mfor\u001b[0m \u001b[0midx\u001b[0m\u001b[1;33m,\u001b[0m \u001b[0mobj\u001b[0m \u001b[1;32min\u001b[0m \u001b[0menumerate\u001b[0m\u001b[1;33m(\u001b[0m\u001b[0mself\u001b[0m\u001b[1;33m.\u001b[0m\u001b[0m_iterate_slices\u001b[0m\u001b[1;33m(\u001b[0m\u001b[1;33m)\u001b[0m\u001b[1;33m)\u001b[0m\u001b[1;33m:\u001b[0m\u001b[1;33m\u001b[0m\u001b[1;33m\u001b[0m\u001b[0m\n\u001b[0;32m   1166\u001b[0m             \u001b[0mname\u001b[0m \u001b[1;33m=\u001b[0m \u001b[0mobj\u001b[0m\u001b[1;33m.\u001b[0m\u001b[0mname\u001b[0m\u001b[1;33m\u001b[0m\u001b[1;33m\u001b[0m\u001b[0m\n\u001b[1;32m-> 1167\u001b[1;33m             \u001b[1;32mif\u001b[0m \u001b[0mself\u001b[0m\u001b[1;33m.\u001b[0m\u001b[0mgrouper\u001b[0m\u001b[1;33m.\u001b[0m\u001b[0mngroups\u001b[0m \u001b[1;33m==\u001b[0m \u001b[1;36m0\u001b[0m\u001b[1;33m:\u001b[0m\u001b[1;33m\u001b[0m\u001b[1;33m\u001b[0m\u001b[0m\n\u001b[0m\u001b[0;32m   1168\u001b[0m                 \u001b[1;31m# agg_series below assumes ngroups > 0\u001b[0m\u001b[1;33m\u001b[0m\u001b[1;33m\u001b[0m\u001b[1;33m\u001b[0m\u001b[0m\n\u001b[0;32m   1169\u001b[0m                 \u001b[1;32mcontinue\u001b[0m\u001b[1;33m\u001b[0m\u001b[1;33m\u001b[0m\u001b[0m\n",
      "\u001b[1;32m~\\AppData\\Roaming\\Python\\Python38\\site-packages\\pandas\\_libs\\properties.pyx\u001b[0m in \u001b[0;36mpandas._libs.properties.CachedProperty.__get__\u001b[1;34m()\u001b[0m\n",
      "\u001b[1;32mC:\\ProgramData\\Anaconda3\\lib\\site-packages\\pandas\\core\\groupby\\ops.py\u001b[0m in \u001b[0;36mngroups\u001b[1;34m(self)\u001b[0m\n\u001b[0;32m    327\u001b[0m     \u001b[1;33m@\u001b[0m\u001b[0mcache_readonly\u001b[0m\u001b[1;33m\u001b[0m\u001b[1;33m\u001b[0m\u001b[0m\n\u001b[0;32m    328\u001b[0m     \u001b[1;32mdef\u001b[0m \u001b[0mngroups\u001b[0m\u001b[1;33m(\u001b[0m\u001b[0mself\u001b[0m\u001b[1;33m)\u001b[0m \u001b[1;33m->\u001b[0m \u001b[0mint\u001b[0m\u001b[1;33m:\u001b[0m\u001b[1;33m\u001b[0m\u001b[1;33m\u001b[0m\u001b[0m\n\u001b[1;32m--> 329\u001b[1;33m         \u001b[1;32mreturn\u001b[0m \u001b[0mlen\u001b[0m\u001b[1;33m(\u001b[0m\u001b[0mself\u001b[0m\u001b[1;33m.\u001b[0m\u001b[0mresult_index\u001b[0m\u001b[1;33m)\u001b[0m\u001b[1;33m\u001b[0m\u001b[1;33m\u001b[0m\u001b[0m\n\u001b[0m\u001b[0;32m    330\u001b[0m \u001b[1;33m\u001b[0m\u001b[0m\n\u001b[0;32m    331\u001b[0m     \u001b[1;33m@\u001b[0m\u001b[0mproperty\u001b[0m\u001b[1;33m\u001b[0m\u001b[1;33m\u001b[0m\u001b[0m\n",
      "\u001b[1;32m~\\AppData\\Roaming\\Python\\Python38\\site-packages\\pandas\\_libs\\properties.pyx\u001b[0m in \u001b[0;36mpandas._libs.properties.CachedProperty.__get__\u001b[1;34m()\u001b[0m\n",
      "\u001b[1;32mC:\\ProgramData\\Anaconda3\\lib\\site-packages\\pandas\\core\\groupby\\ops.py\u001b[0m in \u001b[0;36mresult_index\u001b[1;34m(self)\u001b[0m\n\u001b[0;32m    340\u001b[0m             \u001b[1;32mreturn\u001b[0m \u001b[0mself\u001b[0m\u001b[1;33m.\u001b[0m\u001b[0mgroupings\u001b[0m\u001b[1;33m[\u001b[0m\u001b[1;36m0\u001b[0m\u001b[1;33m]\u001b[0m\u001b[1;33m.\u001b[0m\u001b[0mresult_index\u001b[0m\u001b[1;33m.\u001b[0m\u001b[0mrename\u001b[0m\u001b[1;33m(\u001b[0m\u001b[0mself\u001b[0m\u001b[1;33m.\u001b[0m\u001b[0mnames\u001b[0m\u001b[1;33m[\u001b[0m\u001b[1;36m0\u001b[0m\u001b[1;33m]\u001b[0m\u001b[1;33m)\u001b[0m\u001b[1;33m\u001b[0m\u001b[1;33m\u001b[0m\u001b[0m\n\u001b[0;32m    341\u001b[0m \u001b[1;33m\u001b[0m\u001b[0m\n\u001b[1;32m--> 342\u001b[1;33m         \u001b[0mcodes\u001b[0m \u001b[1;33m=\u001b[0m \u001b[0mself\u001b[0m\u001b[1;33m.\u001b[0m\u001b[0mreconstructed_codes\u001b[0m\u001b[1;33m\u001b[0m\u001b[1;33m\u001b[0m\u001b[0m\n\u001b[0m\u001b[0;32m    343\u001b[0m         \u001b[0mlevels\u001b[0m \u001b[1;33m=\u001b[0m \u001b[1;33m[\u001b[0m\u001b[0mping\u001b[0m\u001b[1;33m.\u001b[0m\u001b[0mresult_index\u001b[0m \u001b[1;32mfor\u001b[0m \u001b[0mping\u001b[0m \u001b[1;32min\u001b[0m \u001b[0mself\u001b[0m\u001b[1;33m.\u001b[0m\u001b[0mgroupings\u001b[0m\u001b[1;33m]\u001b[0m\u001b[1;33m\u001b[0m\u001b[1;33m\u001b[0m\u001b[0m\n\u001b[0;32m    344\u001b[0m         return MultiIndex(\n",
      "\u001b[1;32mC:\\ProgramData\\Anaconda3\\lib\\site-packages\\pandas\\core\\groupby\\ops.py\u001b[0m in \u001b[0;36mreconstructed_codes\u001b[1;34m(self)\u001b[0m\n\u001b[0;32m    331\u001b[0m     \u001b[1;33m@\u001b[0m\u001b[0mproperty\u001b[0m\u001b[1;33m\u001b[0m\u001b[1;33m\u001b[0m\u001b[0m\n\u001b[0;32m    332\u001b[0m     \u001b[1;32mdef\u001b[0m \u001b[0mreconstructed_codes\u001b[0m\u001b[1;33m(\u001b[0m\u001b[0mself\u001b[0m\u001b[1;33m)\u001b[0m \u001b[1;33m->\u001b[0m \u001b[0mList\u001b[0m\u001b[1;33m[\u001b[0m\u001b[0mnp\u001b[0m\u001b[1;33m.\u001b[0m\u001b[0mndarray\u001b[0m\u001b[1;33m]\u001b[0m\u001b[1;33m:\u001b[0m\u001b[1;33m\u001b[0m\u001b[1;33m\u001b[0m\u001b[0m\n\u001b[1;32m--> 333\u001b[1;33m         \u001b[0mcodes\u001b[0m \u001b[1;33m=\u001b[0m \u001b[0mself\u001b[0m\u001b[1;33m.\u001b[0m\u001b[0mcodes\u001b[0m\u001b[1;33m\u001b[0m\u001b[1;33m\u001b[0m\u001b[0m\n\u001b[0m\u001b[0;32m    334\u001b[0m         \u001b[0mcomp_ids\u001b[0m\u001b[1;33m,\u001b[0m \u001b[0mobs_ids\u001b[0m\u001b[1;33m,\u001b[0m \u001b[0m_\u001b[0m \u001b[1;33m=\u001b[0m \u001b[0mself\u001b[0m\u001b[1;33m.\u001b[0m\u001b[0mgroup_info\u001b[0m\u001b[1;33m\u001b[0m\u001b[1;33m\u001b[0m\u001b[0m\n\u001b[0;32m    335\u001b[0m         \u001b[1;32mreturn\u001b[0m \u001b[0mdecons_obs_group_ids\u001b[0m\u001b[1;33m(\u001b[0m\u001b[0mcomp_ids\u001b[0m\u001b[1;33m,\u001b[0m \u001b[0mobs_ids\u001b[0m\u001b[1;33m,\u001b[0m \u001b[0mself\u001b[0m\u001b[1;33m.\u001b[0m\u001b[0mshape\u001b[0m\u001b[1;33m,\u001b[0m \u001b[0mcodes\u001b[0m\u001b[1;33m,\u001b[0m \u001b[0mxnull\u001b[0m\u001b[1;33m=\u001b[0m\u001b[1;32mTrue\u001b[0m\u001b[1;33m)\u001b[0m\u001b[1;33m\u001b[0m\u001b[1;33m\u001b[0m\u001b[0m\n",
      "\u001b[1;32mC:\\ProgramData\\Anaconda3\\lib\\site-packages\\pandas\\core\\groupby\\ops.py\u001b[0m in \u001b[0;36mcodes\u001b[1;34m(self)\u001b[0m\n\u001b[0;32m    257\u001b[0m     \u001b[1;33m@\u001b[0m\u001b[0mproperty\u001b[0m\u001b[1;33m\u001b[0m\u001b[1;33m\u001b[0m\u001b[0m\n\u001b[0;32m    258\u001b[0m     \u001b[1;32mdef\u001b[0m \u001b[0mcodes\u001b[0m\u001b[1;33m(\u001b[0m\u001b[0mself\u001b[0m\u001b[1;33m)\u001b[0m \u001b[1;33m->\u001b[0m \u001b[0mList\u001b[0m\u001b[1;33m[\u001b[0m\u001b[0mnp\u001b[0m\u001b[1;33m.\u001b[0m\u001b[0mndarray\u001b[0m\u001b[1;33m]\u001b[0m\u001b[1;33m:\u001b[0m\u001b[1;33m\u001b[0m\u001b[1;33m\u001b[0m\u001b[0m\n\u001b[1;32m--> 259\u001b[1;33m         \u001b[1;32mreturn\u001b[0m \u001b[1;33m[\u001b[0m\u001b[0mping\u001b[0m\u001b[1;33m.\u001b[0m\u001b[0mcodes\u001b[0m \u001b[1;32mfor\u001b[0m \u001b[0mping\u001b[0m \u001b[1;32min\u001b[0m \u001b[0mself\u001b[0m\u001b[1;33m.\u001b[0m\u001b[0mgroupings\u001b[0m\u001b[1;33m]\u001b[0m\u001b[1;33m\u001b[0m\u001b[1;33m\u001b[0m\u001b[0m\n\u001b[0m\u001b[0;32m    260\u001b[0m \u001b[1;33m\u001b[0m\u001b[0m\n\u001b[0;32m    261\u001b[0m     \u001b[1;33m@\u001b[0m\u001b[0mproperty\u001b[0m\u001b[1;33m\u001b[0m\u001b[1;33m\u001b[0m\u001b[0m\n",
      "\u001b[1;32mC:\\ProgramData\\Anaconda3\\lib\\site-packages\\pandas\\core\\groupby\\ops.py\u001b[0m in \u001b[0;36m<listcomp>\u001b[1;34m(.0)\u001b[0m\n\u001b[0;32m    257\u001b[0m     \u001b[1;33m@\u001b[0m\u001b[0mproperty\u001b[0m\u001b[1;33m\u001b[0m\u001b[1;33m\u001b[0m\u001b[0m\n\u001b[0;32m    258\u001b[0m     \u001b[1;32mdef\u001b[0m \u001b[0mcodes\u001b[0m\u001b[1;33m(\u001b[0m\u001b[0mself\u001b[0m\u001b[1;33m)\u001b[0m \u001b[1;33m->\u001b[0m \u001b[0mList\u001b[0m\u001b[1;33m[\u001b[0m\u001b[0mnp\u001b[0m\u001b[1;33m.\u001b[0m\u001b[0mndarray\u001b[0m\u001b[1;33m]\u001b[0m\u001b[1;33m:\u001b[0m\u001b[1;33m\u001b[0m\u001b[1;33m\u001b[0m\u001b[0m\n\u001b[1;32m--> 259\u001b[1;33m         \u001b[1;32mreturn\u001b[0m \u001b[1;33m[\u001b[0m\u001b[0mping\u001b[0m\u001b[1;33m.\u001b[0m\u001b[0mcodes\u001b[0m \u001b[1;32mfor\u001b[0m \u001b[0mping\u001b[0m \u001b[1;32min\u001b[0m \u001b[0mself\u001b[0m\u001b[1;33m.\u001b[0m\u001b[0mgroupings\u001b[0m\u001b[1;33m]\u001b[0m\u001b[1;33m\u001b[0m\u001b[1;33m\u001b[0m\u001b[0m\n\u001b[0m\u001b[0;32m    260\u001b[0m \u001b[1;33m\u001b[0m\u001b[0m\n\u001b[0;32m    261\u001b[0m     \u001b[1;33m@\u001b[0m\u001b[0mproperty\u001b[0m\u001b[1;33m\u001b[0m\u001b[1;33m\u001b[0m\u001b[0m\n",
      "\u001b[1;32mC:\\ProgramData\\Anaconda3\\lib\\site-packages\\pandas\\core\\groupby\\grouper.py\u001b[0m in \u001b[0;36mcodes\u001b[1;34m(self)\u001b[0m\n\u001b[0;32m    589\u001b[0m     \u001b[1;32mdef\u001b[0m \u001b[0mcodes\u001b[0m\u001b[1;33m(\u001b[0m\u001b[0mself\u001b[0m\u001b[1;33m)\u001b[0m \u001b[1;33m->\u001b[0m \u001b[0mnp\u001b[0m\u001b[1;33m.\u001b[0m\u001b[0mndarray\u001b[0m\u001b[1;33m:\u001b[0m\u001b[1;33m\u001b[0m\u001b[1;33m\u001b[0m\u001b[0m\n\u001b[0;32m    590\u001b[0m         \u001b[1;32mif\u001b[0m \u001b[0mself\u001b[0m\u001b[1;33m.\u001b[0m\u001b[0m_codes\u001b[0m \u001b[1;32mis\u001b[0m \u001b[1;32mNone\u001b[0m\u001b[1;33m:\u001b[0m\u001b[1;33m\u001b[0m\u001b[1;33m\u001b[0m\u001b[0m\n\u001b[1;32m--> 591\u001b[1;33m             \u001b[0mself\u001b[0m\u001b[1;33m.\u001b[0m\u001b[0m_make_codes\u001b[0m\u001b[1;33m(\u001b[0m\u001b[1;33m)\u001b[0m\u001b[1;33m\u001b[0m\u001b[1;33m\u001b[0m\u001b[0m\n\u001b[0m\u001b[0;32m    592\u001b[0m         \u001b[1;32mreturn\u001b[0m \u001b[0mself\u001b[0m\u001b[1;33m.\u001b[0m\u001b[0m_codes\u001b[0m\u001b[1;33m\u001b[0m\u001b[1;33m\u001b[0m\u001b[0m\n\u001b[0;32m    593\u001b[0m \u001b[1;33m\u001b[0m\u001b[0m\n",
      "\u001b[1;32mC:\\ProgramData\\Anaconda3\\lib\\site-packages\\pandas\\core\\groupby\\grouper.py\u001b[0m in \u001b[0;36m_make_codes\u001b[1;34m(self)\u001b[0m\n\u001b[0;32m    621\u001b[0m             \u001b[1;32melse\u001b[0m\u001b[1;33m:\u001b[0m\u001b[1;33m\u001b[0m\u001b[1;33m\u001b[0m\u001b[0m\n\u001b[0;32m    622\u001b[0m                 \u001b[0mna_sentinel\u001b[0m \u001b[1;33m=\u001b[0m \u001b[1;33m-\u001b[0m\u001b[1;36m1\u001b[0m\u001b[1;33m\u001b[0m\u001b[1;33m\u001b[0m\u001b[0m\n\u001b[1;32m--> 623\u001b[1;33m             codes, uniques = algorithms.factorize(\n\u001b[0m\u001b[0;32m    624\u001b[0m                 \u001b[0mself\u001b[0m\u001b[1;33m.\u001b[0m\u001b[0mgrouper\u001b[0m\u001b[1;33m,\u001b[0m \u001b[0msort\u001b[0m\u001b[1;33m=\u001b[0m\u001b[0mself\u001b[0m\u001b[1;33m.\u001b[0m\u001b[0msort\u001b[0m\u001b[1;33m,\u001b[0m \u001b[0mna_sentinel\u001b[0m\u001b[1;33m=\u001b[0m\u001b[0mna_sentinel\u001b[0m\u001b[1;33m\u001b[0m\u001b[1;33m\u001b[0m\u001b[0m\n\u001b[0;32m    625\u001b[0m             )\n",
      "\u001b[1;32mC:\\ProgramData\\Anaconda3\\lib\\site-packages\\pandas\\core\\algorithms.py\u001b[0m in \u001b[0;36mfactorize\u001b[1;34m(values, sort, na_sentinel, size_hint)\u001b[0m\n\u001b[0;32m    720\u001b[0m             \u001b[0mna_value\u001b[0m \u001b[1;33m=\u001b[0m \u001b[1;32mNone\u001b[0m\u001b[1;33m\u001b[0m\u001b[1;33m\u001b[0m\u001b[0m\n\u001b[0;32m    721\u001b[0m \u001b[1;33m\u001b[0m\u001b[0m\n\u001b[1;32m--> 722\u001b[1;33m         codes, uniques = factorize_array(\n\u001b[0m\u001b[0;32m    723\u001b[0m             \u001b[0mvalues\u001b[0m\u001b[1;33m,\u001b[0m \u001b[0mna_sentinel\u001b[0m\u001b[1;33m=\u001b[0m\u001b[0mna_sentinel\u001b[0m\u001b[1;33m,\u001b[0m \u001b[0msize_hint\u001b[0m\u001b[1;33m=\u001b[0m\u001b[0msize_hint\u001b[0m\u001b[1;33m,\u001b[0m \u001b[0mna_value\u001b[0m\u001b[1;33m=\u001b[0m\u001b[0mna_value\u001b[0m\u001b[1;33m\u001b[0m\u001b[1;33m\u001b[0m\u001b[0m\n\u001b[0;32m    724\u001b[0m         )\n",
      "\u001b[1;32mC:\\ProgramData\\Anaconda3\\lib\\site-packages\\pandas\\core\\algorithms.py\u001b[0m in \u001b[0;36mfactorize_array\u001b[1;34m(values, na_sentinel, size_hint, na_value, mask)\u001b[0m\n\u001b[0;32m    526\u001b[0m \u001b[1;33m\u001b[0m\u001b[0m\n\u001b[0;32m    527\u001b[0m     \u001b[0mtable\u001b[0m \u001b[1;33m=\u001b[0m \u001b[0mhash_klass\u001b[0m\u001b[1;33m(\u001b[0m\u001b[0msize_hint\u001b[0m \u001b[1;32mor\u001b[0m \u001b[0mlen\u001b[0m\u001b[1;33m(\u001b[0m\u001b[0mvalues\u001b[0m\u001b[1;33m)\u001b[0m\u001b[1;33m)\u001b[0m\u001b[1;33m\u001b[0m\u001b[1;33m\u001b[0m\u001b[0m\n\u001b[1;32m--> 528\u001b[1;33m     uniques, codes = table.factorize(\n\u001b[0m\u001b[0;32m    529\u001b[0m         \u001b[0mvalues\u001b[0m\u001b[1;33m,\u001b[0m \u001b[0mna_sentinel\u001b[0m\u001b[1;33m=\u001b[0m\u001b[0mna_sentinel\u001b[0m\u001b[1;33m,\u001b[0m \u001b[0mna_value\u001b[0m\u001b[1;33m=\u001b[0m\u001b[0mna_value\u001b[0m\u001b[1;33m,\u001b[0m \u001b[0mmask\u001b[0m\u001b[1;33m=\u001b[0m\u001b[0mmask\u001b[0m\u001b[1;33m\u001b[0m\u001b[1;33m\u001b[0m\u001b[0m\n\u001b[0;32m    530\u001b[0m     )\n",
      "\u001b[1;32mpandas\\_libs\\hashtable_class_helper.pxi\u001b[0m in \u001b[0;36mpandas._libs.hashtable.PyObjectHashTable.factorize\u001b[1;34m()\u001b[0m\n",
      "\u001b[1;32mpandas\\_libs\\hashtable_class_helper.pxi\u001b[0m in \u001b[0;36mpandas._libs.hashtable.PyObjectHashTable._unique\u001b[1;34m()\u001b[0m\n",
      "\u001b[1;31mTypeError\u001b[0m: unhashable type: 'list'"
     ]
    }
   ],
   "source": [
    "df_min = pd.crosstab(df['Min'], df['Sabotages Fixed']).reset_index()\n",
    "df_min = df_min.rename(columns={0.0: '0T',\n",
    "                                1.0: '1T',\n",
    "                                2.0: '2T',\n",
    "                                3.0: '3T',\n",
    "                                4.0: '4T',\n",
    "                                5.0: '5T'})\n",
    "\n",
    "names = ['0T', '1T']\n",
    "source = ColumnarDataSource(data=dict(\n",
    "    x = df_min.Min,\n",
    "    y0 = df_min['0T'],\n",
    "    y1 = df_min['1T']\n",
    "))\n",
    "\n",
    "fig = figure(width=400, height=400, title='Sabotages Fied Vs. Minutes')\n",
    "fig.varea_stack(['y0', 'y1'], x='x', color={'grey', 'lightgrey'}, legend_label=names, source=source)\n",
    "fig.xaxis.axis_label='Minutes'\n",
    "show(fig)"
   ]
  },
  {
   "cell_type": "markdown",
   "metadata": {},
   "source": [
    "### Layout Function"
   ]
  },
  {
   "cell_type": "code",
   "execution_count": 52,
   "metadata": {},
   "outputs": [
    {
     "data": {
      "text/html": [
       "\n",
       "\n",
       "\n",
       "\n",
       "\n",
       "\n",
       "  <div class=\"bk-root\" id=\"51994953-4d45-4f25-8977-b2d2e2636bd4\" data-root-id=\"2978\"></div>\n"
      ]
     },
     "metadata": {},
     "output_type": "display_data"
    },
    {
     "data": {
      "application/javascript": "(function(root) {\n  function embed_document(root) {\n    \n  var docs_json = {\"0941c9f3-8d51-4a96-9acd-913d96381348\":{\"defs\":[],\"roots\":{\"references\":[{\"attributes\":{\"children\":[[{\"id\":\"2865\"},0,0,1,2],[{\"id\":\"2896\"},1,0,1,1],[{\"id\":\"2937\"},1,1,1,1]]},\"id\":\"2978\",\"type\":\"GridBox\"},{\"attributes\":{\"formatter\":{\"id\":\"2984\"},\"major_label_policy\":{\"id\":\"2982\"},\"ticker\":{\"id\":\"2877\"}},\"id\":\"2876\",\"type\":\"LinearAxis\"},{\"attributes\":{\"below\":[{\"id\":\"2948\"}],\"center\":[{\"id\":\"2951\"},{\"id\":\"2955\"},{\"id\":\"2976\"}],\"height\":300,\"left\":[{\"id\":\"2952\"}],\"renderers\":[{\"id\":\"2965\"}],\"title\":{\"id\":\"2938\"},\"toolbar\":{\"id\":\"2957\"},\"toolbar_location\":null,\"width\":300,\"x_range\":{\"id\":\"2940\"},\"x_scale\":{\"id\":\"2944\"},\"y_range\":{\"id\":\"2942\"},\"y_scale\":{\"id\":\"2946\"}},\"id\":\"2937\",\"subtype\":\"Figure\",\"type\":\"Plot\"},{\"attributes\":{\"field\":\"Angle\"},\"id\":\"2960\",\"type\":\"CumSum\"},{\"attributes\":{\"formatter\":{\"id\":\"2987\"},\"major_label_policy\":{\"id\":\"2985\"},\"ticker\":{\"id\":\"2881\"}},\"id\":\"2880\",\"type\":\"CategoricalAxis\"},{\"attributes\":{\"field\":\"Angle\",\"include_zero\":true},\"id\":\"2918\",\"type\":\"CumSum\"},{\"attributes\":{},\"id\":\"2944\",\"type\":\"LinearScale\"},{\"attributes\":{},\"id\":\"2877\",\"type\":\"BasicTicker\"},{\"attributes\":{\"axis_label\":null,\"formatter\":{\"id\":\"2970\"},\"major_label_policy\":{\"id\":\"2968\"},\"ticker\":{\"id\":\"2949\"},\"visible\":false},\"id\":\"2948\",\"type\":\"LinearAxis\"},{\"attributes\":{},\"id\":\"2942\",\"type\":\"DataRange1d\"},{\"attributes\":{\"fill_alpha\":{\"value\":0.1},\"fill_color\":{\"value\":\"#9ecae1\"},\"line_alpha\":{\"value\":0.1},\"line_color\":{\"value\":\"#3182bd\"},\"line_width\":{\"value\":3},\"size\":{\"value\":15},\"x\":{\"field\":\"x\"},\"y\":{\"field\":\"y\"}},\"id\":\"2893\",\"type\":\"Circle\"},{\"attributes\":{\"end\":0.5,\"start\":-0.5},\"id\":\"2940\",\"type\":\"Range1d\"},{\"attributes\":{\"end_angle\":{\"expr\":{\"id\":\"2919\"}},\"fill_color\":{\"field\":\"Color\"},\"inner_radius\":{\"value\":0.15},\"line_color\":{\"value\":\"white\"},\"start_angle\":{\"expr\":{\"id\":\"2918\"}},\"x\":{\"value\":0},\"y\":{\"value\":1}},\"id\":\"2922\",\"type\":\"AnnularWedge\"},{\"attributes\":{\"axis_label\":null,\"formatter\":{\"id\":\"2973\"},\"major_label_policy\":{\"id\":\"2971\"},\"ticker\":{\"id\":\"2953\"},\"visible\":false},\"id\":\"2952\",\"type\":\"LinearAxis\"},{\"attributes\":{\"source\":{\"id\":\"2886\"}},\"id\":\"2890\",\"type\":\"CDSView\"},{\"attributes\":{},\"id\":\"2949\",\"type\":\"BasicTicker\"},{\"attributes\":{\"data_source\":{\"id\":\"2886\"},\"glyph\":{\"id\":\"2887\"},\"hover_glyph\":null,\"muted_glyph\":null,\"nonselection_glyph\":{\"id\":\"2888\"},\"view\":{\"id\":\"2890\"}},\"id\":\"2889\",\"type\":\"GlyphRenderer\"},{\"attributes\":{\"text\":\"Ration of Cremates Vs Imposter\"},\"id\":\"2938\",\"type\":\"Title\"},{\"attributes\":{\"data_source\":{\"id\":\"2891\"},\"glyph\":{\"id\":\"2892\"},\"hover_glyph\":null,\"muted_glyph\":null,\"nonselection_glyph\":{\"id\":\"2893\"},\"view\":{\"id\":\"2895\"}},\"id\":\"2894\",\"type\":\"GlyphRenderer\"},{\"attributes\":{},\"id\":\"2974\",\"type\":\"UnionRenderers\"},{\"attributes\":{},\"id\":\"2946\",\"type\":\"LinearScale\"},{\"attributes\":{\"source\":{\"id\":\"2891\"}},\"id\":\"2895\",\"type\":\"CDSView\"},{\"attributes\":{},\"id\":\"2975\",\"type\":\"Selection\"},{\"attributes\":{\"axis\":{\"id\":\"2948\"},\"grid_line_color\":null,\"ticker\":null},\"id\":\"2951\",\"type\":\"Grid\"},{\"attributes\":{\"label\":{\"value\":\"Murdered\"},\"renderers\":[{\"id\":\"2924\"}]},\"id\":\"2936\",\"type\":\"LegendItem\"},{\"attributes\":{\"field\":\"Angle\",\"include_zero\":true},\"id\":\"2959\",\"type\":\"CumSum\"},{\"attributes\":{\"text\":\"Top 10 Users: Win\"},\"id\":\"2866\",\"type\":\"Title\"},{\"attributes\":{\"end_angle\":{\"expr\":{\"id\":\"2919\"}},\"fill_alpha\":{\"value\":0.1},\"fill_color\":{\"field\":\"Color\"},\"inner_radius\":{\"value\":0.15},\"line_alpha\":{\"value\":0.1},\"line_color\":{\"value\":\"white\"},\"start_angle\":{\"expr\":{\"id\":\"2918\"}},\"x\":{\"value\":0},\"y\":{\"value\":1}},\"id\":\"2923\",\"type\":\"AnnularWedge\"},{\"attributes\":{\"line_alpha\":{\"value\":0.1},\"line_color\":{\"value\":\"#3182bd\"},\"line_width\":{\"value\":2},\"x0\":{\"value\":0},\"x1\":{\"field\":\"x1\"},\"y0\":{\"field\":\"y0\"},\"y1\":{\"field\":\"y1\"}},\"id\":\"2888\",\"type\":\"Segment\"},{\"attributes\":{\"axis\":{\"id\":\"2952\"},\"dimension\":1,\"grid_line_color\":null,\"ticker\":null},\"id\":\"2955\",\"type\":\"Grid\"},{\"attributes\":{\"end\":0.5,\"start\":-0.5},\"id\":\"2899\",\"type\":\"Range1d\"},{\"attributes\":{},\"id\":\"2953\",\"type\":\"BasicTicker\"},{\"attributes\":{},\"id\":\"3000\",\"type\":\"UnionRenderers\"},{\"attributes\":{},\"id\":\"3001\",\"type\":\"Selection\"},{\"attributes\":{\"callback\":null,\"tooltips\":\"@Team: @Value\"},\"id\":\"2956\",\"type\":\"HoverTool\"},{\"attributes\":{\"active_multi\":null,\"tools\":[{\"id\":\"2956\"}]},\"id\":\"2957\",\"type\":\"Toolbar\"},{\"attributes\":{\"active_multi\":null,\"tools\":[{\"id\":\"2883\"}]},\"id\":\"2884\",\"type\":\"Toolbar\"},{\"attributes\":{\"below\":[{\"id\":\"2907\"}],\"center\":[{\"id\":\"2910\"},{\"id\":\"2914\"},{\"id\":\"2935\"}],\"height\":300,\"left\":[{\"id\":\"2911\"}],\"renderers\":[{\"id\":\"2924\"}],\"title\":{\"id\":\"2897\"},\"toolbar\":{\"id\":\"2916\"},\"toolbar_location\":null,\"width\":400,\"x_range\":{\"id\":\"2899\"},\"x_scale\":{\"id\":\"2903\"},\"y_range\":{\"id\":\"2901\"},\"y_scale\":{\"id\":\"2905\"}},\"id\":\"2896\",\"subtype\":\"Figure\",\"type\":\"Plot\"},{\"attributes\":{\"text\":\"Ration of Murdered Vs. Not Murdered\"},\"id\":\"2897\",\"type\":\"Title\"},{\"attributes\":{},\"id\":\"2973\",\"type\":\"BasicTickFormatter\"},{\"attributes\":{\"axis\":{\"id\":\"2880\"},\"dimension\":1,\"grid_line_color\":null,\"ticker\":null},\"id\":\"2882\",\"type\":\"Grid\"},{\"attributes\":{},\"id\":\"2971\",\"type\":\"AllLabels\"},{\"attributes\":{},\"id\":\"3002\",\"type\":\"UnionRenderers\"},{\"attributes\":{\"fill_color\":{\"value\":\"#9ecae1\"},\"line_color\":{\"value\":\"#3182bd\"},\"line_width\":{\"value\":3},\"size\":{\"value\":15},\"x\":{\"field\":\"x\"},\"y\":{\"field\":\"y\"}},\"id\":\"2892\",\"type\":\"Circle\"},{\"attributes\":{\"data\":{\"Angle\":{\"__ndarray__\":\"yn607qwtBEBmwW1JqpEDQAA0zOA+CfU/\",\"dtype\":\"float64\",\"order\":\"little\",\"shape\":[3]},\"Color\":[\"#3182bd\",\"#6baed6\",\"#9ecae1\"],\"Murdered\":[\"Not Murdered\",\"Murdered\",\"Missing\"],\"Value\":[894,867,466],\"index\":[0,1,2]},\"selected\":{\"id\":\"2934\"},\"selection_policy\":{\"id\":\"2933\"}},\"id\":\"2920\",\"type\":\"ColumnDataSource\"},{\"attributes\":{},\"id\":\"3003\",\"type\":\"Selection\"},{\"attributes\":{\"axis_label\":null,\"formatter\":{\"id\":\"2932\"},\"major_label_policy\":{\"id\":\"2930\"},\"ticker\":{\"id\":\"2912\"},\"visible\":false},\"id\":\"2911\",\"type\":\"LinearAxis\"},{\"attributes\":{},\"id\":\"2905\",\"type\":\"LinearScale\"},{\"attributes\":{\"data\":{\"Angle\":{\"__ndarray__\":\"GCARnKvfE0AANMzgPgn1Pw==\",\"dtype\":\"float64\",\"order\":\"little\",\"shape\":[2]},\"Color\":[\"#3182bd\",\"#6baed6\"],\"Team\":[\"Crewmate\",\"Imposter\"],\"Value\":[1761,466],\"index\":[0,1]},\"selected\":{\"id\":\"2975\"},\"selection_policy\":{\"id\":\"2974\"}},\"id\":\"2961\",\"type\":\"ColumnDataSource\"},{\"attributes\":{\"items\":[{\"id\":\"2936\"}]},\"id\":\"2935\",\"type\":\"Legend\"},{\"attributes\":{\"axis_label\":null,\"formatter\":{\"id\":\"2929\"},\"major_label_policy\":{\"id\":\"2927\"},\"ticker\":{\"id\":\"2908\"},\"visible\":false},\"id\":\"2907\",\"type\":\"LinearAxis\"},{\"attributes\":{},\"id\":\"2881\",\"type\":\"CategoricalTicker\"},{\"attributes\":{\"source\":{\"id\":\"2961\"}},\"id\":\"2966\",\"type\":\"CDSView\"},{\"attributes\":{\"source\":{\"id\":\"2920\"}},\"id\":\"2925\",\"type\":\"CDSView\"},{\"attributes\":{\"end_angle\":{\"expr\":{\"id\":\"2960\"}},\"fill_alpha\":{\"value\":0.1},\"fill_color\":{\"field\":\"Color\"},\"inner_radius\":{\"value\":0.15},\"line_alpha\":{\"value\":0.1},\"line_color\":{\"value\":\"white\"},\"outer_radius\":{\"value\":0.25},\"start_angle\":{\"expr\":{\"id\":\"2959\"}},\"x\":{\"value\":0},\"y\":{\"value\":1}},\"id\":\"2964\",\"type\":\"AnnularWedge\"},{\"attributes\":{},\"id\":\"2901\",\"type\":\"DataRange1d\"},{\"attributes\":{\"callback\":null,\"tooltips\":\"@x\"},\"id\":\"2883\",\"type\":\"HoverTool\"},{\"attributes\":{\"axis\":{\"id\":\"2876\"},\"grid_line_color\":null,\"ticker\":null},\"id\":\"2879\",\"type\":\"Grid\"},{\"attributes\":{},\"id\":\"2903\",\"type\":\"LinearScale\"},{\"attributes\":{\"field\":\"Angle\"},\"id\":\"2919\",\"type\":\"CumSum\"},{\"attributes\":{},\"id\":\"2908\",\"type\":\"BasicTicker\"},{\"attributes\":{\"axis\":{\"id\":\"2907\"},\"grid_line_color\":null,\"ticker\":null},\"id\":\"2910\",\"type\":\"Grid\"},{\"attributes\":{\"data\":{\"x1\":[70,64,63,59,58,57,56,55,55,54],\"y0\":[\"28 User\",\"6 User\",\"5 User\",\"26 User\",\"1 User\",\"20 User\",\"29 User\",\"27 User\",\"2 User\",\"4 User\"],\"y1\":[\"28 User\",\"6 User\",\"5 User\",\"26 User\",\"1 User\",\"20 User\",\"29 User\",\"27 User\",\"2 User\",\"4 User\"]},\"selected\":{\"id\":\"3001\"},\"selection_policy\":{\"id\":\"3000\"}},\"id\":\"2886\",\"type\":\"ColumnDataSource\"},{\"attributes\":{\"data\":{\"x\":[70,64,63,59,58,57,56,55,55,54],\"y\":[\"28 User\",\"6 User\",\"5 User\",\"26 User\",\"1 User\",\"20 User\",\"29 User\",\"27 User\",\"2 User\",\"4 User\"]},\"selected\":{\"id\":\"3003\"},\"selection_policy\":{\"id\":\"3002\"}},\"id\":\"2891\",\"type\":\"ColumnDataSource\"},{\"attributes\":{\"items\":[{\"id\":\"2977\"}]},\"id\":\"2976\",\"type\":\"Legend\"},{\"attributes\":{\"axis\":{\"id\":\"2911\"},\"dimension\":1,\"grid_line_color\":null,\"ticker\":null},\"id\":\"2914\",\"type\":\"Grid\"},{\"attributes\":{\"label\":{\"value\":\"Team\"},\"renderers\":[{\"id\":\"2965\"}]},\"id\":\"2977\",\"type\":\"LegendItem\"},{\"attributes\":{},\"id\":\"2874\",\"type\":\"CategoricalScale\"},{\"attributes\":{},\"id\":\"2912\",\"type\":\"BasicTicker\"},{\"attributes\":{\"end\":75},\"id\":\"2868\",\"type\":\"Range1d\"},{\"attributes\":{\"data_source\":{\"id\":\"2961\"},\"glyph\":{\"id\":\"2963\"},\"hover_glyph\":null,\"muted_glyph\":null,\"nonselection_glyph\":{\"id\":\"2964\"},\"view\":{\"id\":\"2966\"}},\"id\":\"2965\",\"type\":\"GlyphRenderer\"},{\"attributes\":{},\"id\":\"2968\",\"type\":\"AllLabels\"},{\"attributes\":{\"callback\":null,\"tooltips\":\"@Murdered: @Value\"},\"id\":\"2915\",\"type\":\"HoverTool\"},{\"attributes\":{},\"id\":\"2970\",\"type\":\"BasicTickFormatter\"},{\"attributes\":{\"active_multi\":null,\"tools\":[{\"id\":\"2915\"}]},\"id\":\"2916\",\"type\":\"Toolbar\"},{\"attributes\":{\"data_source\":{\"id\":\"2920\"},\"glyph\":{\"id\":\"2922\"},\"hover_glyph\":null,\"muted_glyph\":null,\"nonselection_glyph\":{\"id\":\"2923\"},\"view\":{\"id\":\"2925\"}},\"id\":\"2924\",\"type\":\"GlyphRenderer\"},{\"attributes\":{\"factors\":[\"28 User\",\"6 User\",\"5 User\",\"26 User\",\"1 User\",\"20 User\",\"29 User\",\"27 User\",\"2 User\",\"4 User\"]},\"id\":\"2870\",\"type\":\"FactorRange\"},{\"attributes\":{},\"id\":\"2872\",\"type\":\"LinearScale\"},{\"attributes\":{\"end_angle\":{\"expr\":{\"id\":\"2960\"}},\"fill_color\":{\"field\":\"Color\"},\"inner_radius\":{\"value\":0.15},\"line_color\":{\"value\":\"white\"},\"outer_radius\":{\"value\":0.25},\"start_angle\":{\"expr\":{\"id\":\"2959\"}},\"x\":{\"value\":0},\"y\":{\"value\":1}},\"id\":\"2963\",\"type\":\"AnnularWedge\"},{\"attributes\":{},\"id\":\"2929\",\"type\":\"BasicTickFormatter\"},{\"attributes\":{},\"id\":\"2927\",\"type\":\"AllLabels\"},{\"attributes\":{},\"id\":\"2930\",\"type\":\"AllLabels\"},{\"attributes\":{},\"id\":\"2932\",\"type\":\"BasicTickFormatter\"},{\"attributes\":{},\"id\":\"2987\",\"type\":\"CategoricalTickFormatter\"},{\"attributes\":{\"line_color\":{\"value\":\"#3182bd\"},\"line_width\":{\"value\":2},\"x0\":{\"value\":0},\"x1\":{\"field\":\"x1\"},\"y0\":{\"field\":\"y0\"},\"y1\":{\"field\":\"y1\"}},\"id\":\"2887\",\"type\":\"Segment\"},{\"attributes\":{},\"id\":\"2933\",\"type\":\"UnionRenderers\"},{\"attributes\":{},\"id\":\"2934\",\"type\":\"Selection\"},{\"attributes\":{},\"id\":\"2982\",\"type\":\"AllLabels\"},{\"attributes\":{},\"id\":\"2984\",\"type\":\"BasicTickFormatter\"},{\"attributes\":{},\"id\":\"2985\",\"type\":\"AllLabels\"},{\"attributes\":{\"below\":[{\"id\":\"2876\"}],\"center\":[{\"id\":\"2879\"},{\"id\":\"2882\"}],\"height\":250,\"left\":[{\"id\":\"2880\"}],\"renderers\":[{\"id\":\"2889\"},{\"id\":\"2894\"}],\"title\":{\"id\":\"2866\"},\"toolbar\":{\"id\":\"2884\"},\"toolbar_location\":null,\"width\":700,\"x_range\":{\"id\":\"2868\"},\"x_scale\":{\"id\":\"2872\"},\"y_range\":{\"id\":\"2870\"},\"y_scale\":{\"id\":\"2874\"}},\"id\":\"2865\",\"subtype\":\"Figure\",\"type\":\"Plot\"}],\"root_ids\":[\"2978\"]},\"title\":\"Bokeh Application\",\"version\":\"2.3.2\"}};\n  var render_items = [{\"docid\":\"0941c9f3-8d51-4a96-9acd-913d96381348\",\"root_ids\":[\"2978\"],\"roots\":{\"2978\":\"51994953-4d45-4f25-8977-b2d2e2636bd4\"}}];\n  root.Bokeh.embed.embed_items_notebook(docs_json, render_items);\n\n  }\n  if (root.Bokeh !== undefined) {\n    embed_document(root);\n  } else {\n    var attempts = 0;\n    var timer = setInterval(function(root) {\n      if (root.Bokeh !== undefined) {\n        clearInterval(timer);\n        embed_document(root);\n      } else {\n        attempts++;\n        if (attempts > 100) {\n          clearInterval(timer);\n          console.log(\"Bokeh: ERROR: Unable to run BokehJS code because BokehJS library is missing\");\n        }\n      }\n    }, 10, root)\n  }\n})(window);",
      "application/vnd.bokehjs_exec.v0+json": ""
     },
     "metadata": {
      "application/vnd.bokehjs_exec.v0+json": {
       "id": "2978"
      }
     },
     "output_type": "display_data"
    }
   ],
   "source": [
    "# layout 1\n",
    "df_user_new = pd.crosstab(df['User ID'], df['Outcome']).reset_index().sort_values(by='Win', ascending=False)[:10]\n",
    "df_user_new['User ID'] = (df_user_new.index + 1).astype(str) + ' User'\n",
    "x = df_user_new['Win']\n",
    "factors = df_user_new['User ID']\n",
    "fig1 = figure(title='Top 10 Users: Win', toolbar_location=None, tools='hover', tooltips='@x',\n",
    "                y_range=factors, x_range=[0, 75],\n",
    "                width=700, height=250)\n",
    "fig1.segment(0, factors, x, factors, line_width=2, line_color='#3182bd')\n",
    "fig1.circle(x, factors, size=15, fill_color='#9ecae1', line_color='#3182bd', line_width=3)\n",
    "\n",
    "# layout 2\n",
    "df_mur = df.Murdered.value_counts().reset_index().rename(columns={'index': 'Murdered', 'Murdered': 'Value'})\n",
    "df_mur['Angle'] = df_mur['Value'] / df_mur['Value'].sum() * 2 * pi\n",
    "df_mur['Color'] = ['#3182bd', '#6baed6', '#9ecae1']\n",
    "fig2 = figure(height=300, width=400, title='Ration of Murdered Vs. Not Murdered', \n",
    "                toolbar_location=None, tools='hover', tooltips='@Murdered: @Value', x_range=(-.5, .5))\n",
    "fig2.annular_wedge(x=0, y=1, inner_radius=0.15, direction='anticlock', start_angle=cumsum('Angle', include_zero=True),\n",
    "                    end_angle=cumsum('Angle'), line_color='white', fill_color='Color', \n",
    "                    legend_label='Murdered', source=df_mur)\n",
    "\n",
    "# layout 3\n",
    "df_team = pd.DataFrame(df.Team.value_counts()).reset_index().rename(columns={'index': 'Team', 'Team': 'Value'})\n",
    "df_team['Angle'] = df_team['Value'] / df_team['Value'].sum() * 2 * pi\n",
    "df_team['Color'] = ['#3182bd', '#6baed6']\n",
    "fig3 = figure(height=300, width=300, title='Ration of Cremates Vs Imposter', \n",
    "                toolbar_location=None, tools='hover', tooltips='@Team: @Value', x_range=(-.5, .5))\n",
    "fig3.annular_wedge(x=0, y=1, inner_radius=0.15, outer_radius=0.25, direction='anticlock',\n",
    "                    start_angle=cumsum('Angle', include_zero=True), end_angle=cumsum('Angle'),\n",
    "                    line_color='white', fill_color='Color', legend_label='Team', source=df_team)\n",
    "\n",
    "# style\n",
    "for fig in [fig1, fig2, fig3]:\n",
    "    fig.grid.grid_line_color=None\n",
    "\n",
    "for fig in [fig2, fig3]:\n",
    "    fig.axis.visible=False\n",
    "    fig.axis.axis_label=None\n",
    "\n",
    "layout = grid([\n",
    "    [fig1],\n",
    "    [fig2, fig3]\n",
    "])\n",
    "show(layout)"
   ]
  }
 ],
 "metadata": {
  "interpreter": {
   "hash": "b3ba2566441a7c06988d0923437866b63cedc61552a5af99d1f4fb67d367b25f"
  },
  "kernelspec": {
   "display_name": "Python 3.8.8 64-bit ('base': conda)",
   "language": "python",
   "name": "python3"
  },
  "language_info": {
   "codemirror_mode": {
    "name": "ipython",
    "version": 3
   },
   "file_extension": ".py",
   "mimetype": "text/x-python",
   "name": "python",
   "nbconvert_exporter": "python",
   "pygments_lexer": "ipython3",
   "version": "3.8.8"
  },
  "orig_nbformat": 4
 },
 "nbformat": 4,
 "nbformat_minor": 2
}
