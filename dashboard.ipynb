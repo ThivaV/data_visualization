{
 "cells": [
  {
   "cell_type": "code",
   "execution_count": 1,
   "metadata": {},
   "outputs": [],
   "source": [
    "import pandas as pd\n",
    "from bokeh.plotting import figure, output_file, show, save, ColumnDataSource\n",
    "from bokeh.models.tools import HoverTool\n",
    "from bokeh.transform import factor_cmap\n",
    "from bokeh.palettes import Blues8\n",
    "from bokeh.embed import components"
   ]
  },
  {
   "cell_type": "code",
   "execution_count": null,
   "metadata": {},
   "outputs": [],
   "source": [
    "df = pd.read_csv(r'')\n",
    "\n",
    "source = ColumnDataSource(df)\n",
    "output_file('index.html')\n",
    "\n",
    "car_list = source.data['Car'].tolist()"
   ]
  },
  {
   "cell_type": "code",
   "execution_count": null,
   "metadata": {},
   "outputs": [],
   "source": [
    "# add plot\n",
    "p = figure(\n",
    "    y_range=car_list,\n",
    "    plot_width=800,\n",
    "    plot_height=600,\n",
    "    title='Cars with Top Horsepower',\n",
    "    x_axis_label='Horsepower',\n",
    "    tools='pan, box_select, zoom_in, zoom_out, save, reset'\n",
    ")\n",
    "\n",
    "# render graph\n",
    "p.hbar(\n",
    "    y='Car',\n",
    "    right='Horsepower',\n",
    "    left=0,\n",
    "    height=0.4,\n",
    "    fill_color=factor_cmap(\n",
    "        'Car',\n",
    "        palette=Blues8,\n",
    "        factors=car_list\n",
    "    ),\n",
    "    fill_alpha=0.9,\n",
    "    source=source,\n",
    "    legend='Car'\n",
    ")\n",
    "\n",
    "# add legend\n",
    "p.legend.orientation = 'vertical'\n",
    "p.legend.location = 'top_right'\n",
    "p.legend.label_text_font_size = '10px'\n",
    "\n",
    "# add tooltips\n",
    "hover = HoverTool()\n",
    "hover.tooltips=\"\"\"\n",
    "    <div>\n",
    "        <h3>@Car</h3>\n",
    "        <div><strong>Price: </strong>@Price</div>\n",
    "        <div><strong>HP: </strong>@Horsepower</div>\n",
    "        <div><img src=\"@Image\" alt=\"\" width=\"200\"></div>\n",
    "    </div>\n",
    "\"\"\"\n",
    "\n",
    "p.add_tools(hover)\n",
    "\n",
    "# show result\n",
    "show(p)"
   ]
  }
 ],
 "metadata": {
  "interpreter": {
   "hash": "b3ba2566441a7c06988d0923437866b63cedc61552a5af99d1f4fb67d367b25f"
  },
  "kernelspec": {
   "display_name": "Python 3.8.8 64-bit ('base': conda)",
   "language": "python",
   "name": "python3"
  },
  "language_info": {
   "codemirror_mode": {
    "name": "ipython",
    "version": 3
   },
   "file_extension": ".py",
   "mimetype": "text/x-python",
   "name": "python",
   "nbconvert_exporter": "python",
   "pygments_lexer": "ipython3",
   "version": "3.8.8"
  },
  "orig_nbformat": 4
 },
 "nbformat": 4,
 "nbformat_minor": 2
}
